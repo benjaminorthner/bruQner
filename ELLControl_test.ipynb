{
 "cells": [
  {
   "cell_type": "code",
   "execution_count": 1,
   "metadata": {},
   "outputs": [],
   "source": [
    "import serial\n",
    "import time\n",
    "\n",
    "# Open serial connection\n",
    "ser = serial.Serial('COM8', 9600, timeout=1)\n",
    "ser.flush()\n",
    "\n",
    "def convert_response_to_degrees(response):\n",
    "    counts_per_revolution = 262144  # For ELL8, ELL14, ELL18 models as specified\n",
    "    # Strip the leading response code and convert from hex to int\n",
    "    encoder_counts = int(response[3:], 16)\n",
    "    # Convert to degrees\n",
    "    degrees = (encoder_counts / counts_per_revolution) * 360\n",
    "    return degrees\n",
    "\n",
    "def send_command(command):\n",
    "    ser.write(f\"{command}\\r\\n\".encode('utf-8'))\n",
    "    time.sleep(0.5)  # Wait for the device to process the command\n",
    "    response = ser.readline().decode('utf-8').strip()\n",
    "    return response\n",
    "\n",
    "def move_absolute(address, position):\n",
    "    # Convert position to hexadecimal and format the command\n",
    "    position_hex = format(position, '08x')\n",
    "    command = f\"{address}ma{position_hex}\"\n",
    "    response = send_command(command)\n",
    "    print(f\"Move Absolute Response: {response}\")\n",
    "\n",
    "def get_position(address):\n",
    "    command = f\"{address}gp\"\n",
    "    response = send_command(command)\n",
    "    print(f\"Current Position: {convert_response_to_degrees(response)}\")\n"
   ]
  },
  {
   "cell_type": "code",
   "execution_count": 2,
   "metadata": {},
   "outputs": [
    {
     "name": "stdout",
     "output_type": "stream",
     "text": [
      "Move Absolute Response: 0POFFFFFFFE\n",
      "Current Position: 5898239.995880127\n"
     ]
    }
   ],
   "source": [
    "# Example usage\n",
    "address = \"0\"  # Device address\n",
    "position = 10*(262144//360)  # Example position (1mm for 2048 pulses/mm devices)\n",
    "move_absolute(address, position)\n",
    "get_position(address)\n",
    "\n"
   ]
  },
  {
   "cell_type": "code",
   "execution_count": 60,
   "metadata": {},
   "outputs": [],
   "source": [
    "\n",
    "ser.close()  # Close the serial connection"
   ]
  }
 ],
 "metadata": {
  "kernelspec": {
   "display_name": "Python 3",
   "language": "python",
   "name": "python3"
  },
  "language_info": {
   "codemirror_mode": {
    "name": "ipython",
    "version": 3
   },
   "file_extension": ".py",
   "mimetype": "text/x-python",
   "name": "python",
   "nbconvert_exporter": "python",
   "pygments_lexer": "ipython3",
   "version": "3.10.11"
  }
 },
 "nbformat": 4,
 "nbformat_minor": 2
}
