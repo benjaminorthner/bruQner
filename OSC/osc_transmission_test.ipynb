{
 "cells": [
  {
   "cell_type": "code",
   "execution_count": 1,
   "metadata": {},
   "outputs": [
    {
     "name": "stdout",
     "output_type": "stream",
     "text": [
      "Shutting down server...\n"
     ]
    }
   ],
   "source": [
    "from pythonosc import udp_client\n",
    "from pythonosc import dispatcher\n",
    "from pythonosc import osc_server\n",
    "import threading\n",
    "import time\n",
    "from random import choice\n",
    "import signal\n",
    "\n",
    "\n",
    "# make sure servers are shut down properly when forced close python\n",
    "def signal_handler(sig, frame):\n",
    "    print(\"Shutting down server...\")\n",
    "    server.shutdown()  # Shut down the server gracefully\n",
    "    print(\"Shutdown completed\")\n",
    "signal.signal(signal.SIGINT, signal_handler)\n",
    "signal.signal(signal.SIGTERM, signal_handler)\n",
    "\n",
    "def receive_handler(address, *args):\n",
    "    print(f\"Received response from {address}: {args}\")\n",
    "    global last_response_time\n",
    "    last_response_time = time.time()\n",
    "\n",
    "def send_test_messages(client, test_address, interval=10):\n",
    "    while True:\n",
    "        client.send_message(test_address, \"Test Message\")\n",
    "        time.sleep(interval)  # Send a test message every 'interval' seconds\n",
    "\n",
    "measurement_address = \"/bruQner/measurement_result\"\n",
    "test_request_address = \"/bruQner/connection_test/request\"\n",
    "test_response_address = \"/bruQner/connection_test/response\"\n",
    "\n",
    "measurement_results = [1, 2, 3, 4]\n",
    "\n",
    "if __name__ == \"__main__\":\n",
    "\n",
    "    # Setup ports and IP\n",
    "    target_ip = \"172.26.48.1\"  # receiving computers IP \n",
    "    target_port = 12345  # receiving computers listening port\n",
    "    listen_port = 12347\n",
    "    \n",
    "    # Setup handling of test responses \n",
    "    disp = dispatcher.Dispatcher()\n",
    "    disp.map(test_response_address, receive_handler)  # Expecting responses on /response\n",
    "\n",
    "    # Setup and run server to receive test responses\n",
    "    server = osc_server.ThreadingOSCUDPServer(('0.0.0.0', listen_port), disp)\n",
    "    server_thread = threading.Thread(target=server.serve_forever)\n",
    "    server_thread.start()\n",
    "\n",
    "    # Setup clientside (to send out measurements and test requests)\n",
    "    client = udp_client.SimpleUDPClient(target_ip, target_port)\n",
    "\n",
    "    # send test messages every 10s forever\n",
    "    send_test_messages(client, test_request_address, interval=2)\n",
    "    \n",
    "    # send measurement result every 1s forever\n",
    "    while True:\n",
    "        client.send_message(measurement_address, choice(measurement_results))\n",
    "        time.sleep(1)  # Adjust delay as needed for your performance"
   ]
  }
 ],
 "metadata": {
  "kernelspec": {
   "display_name": "Python 3",
   "language": "python",
   "name": "python3"
  },
  "language_info": {
   "codemirror_mode": {
    "name": "ipython",
    "version": 3
   },
   "file_extension": ".py",
   "mimetype": "text/x-python",
   "name": "python",
   "nbconvert_exporter": "python",
   "pygments_lexer": "ipython3",
   "version": "3.10.11"
  }
 },
 "nbformat": 4,
 "nbformat_minor": 2
}
