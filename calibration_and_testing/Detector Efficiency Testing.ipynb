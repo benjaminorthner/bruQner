{
 "cells": [
  {
   "cell_type": "code",
   "execution_count": 1,
   "metadata": {},
   "outputs": [],
   "source": [
    "import sys\n",
    "sys.path.insert(0, '../')\n",
    "\n",
    "from src.time_tagger import TimeTaggerController, TT_Simulator, two_particle_states\n",
    "from src.kinetic_mount_controller import KineticMountControl\n",
    "from src.osc import OSCCommunicator, OSCTarget\n",
    "import time\n",
    "import threading\n",
    "import random"
   ]
  },
  {
   "cell_type": "markdown",
   "metadata": {},
   "source": [
    "# Setup Mount Controller"
   ]
  },
  {
   "cell_type": "code",
   "execution_count": 2,
   "metadata": {},
   "outputs": [
    {
     "name": "stdout",
     "output_type": "stream",
     "text": [
      "\n",
      "ASSIGNING CONTROLLERS\n",
      "---------------------------------------------------------------\n",
      "Ports Found: ['COM5', 'COM4']\n",
      "---------------------------------------------------------------\n",
      "Device succesfully connected (Rotation Mount) (Address: 0)\n",
      "Device succesfully connected (Rotation Mount) (Address: 0)\n"
     ]
    }
   ],
   "source": [
    "# only run if not already created\n",
    "if 'KMC' not in globals():  \n",
    "    KMC = KineticMountControl(number_of_devices=2, address_search_depth=0)\n",
    "    #KMC.swap_alice_bob()"
   ]
  },
  {
   "cell_type": "code",
   "execution_count": 3,
   "metadata": {},
   "outputs": [],
   "source": [
    "# Init the Time Tagger and the Kinetic Mount Controller\n",
    "TTC = TimeTaggerController()\n",
    "\n",
    "# NOTE Look at the trace, sucessively block each port and assign the channels numbers in the next cell\n",
    "# NOTE afterwards stop and close the graphic\n",
    "#TTC.displayCountTraces()"
   ]
  },
  {
   "cell_type": "code",
   "execution_count": 4,
   "metadata": {},
   "outputs": [],
   "source": [
    "# connect KMC and TTC\n",
    "TTC.setKineticMountController(KMC)\n",
    "# set alice channels\n",
    "TTC.set_alice_reflection_channel(3)\n",
    "TTC.set_alice_transmission_channel(4)\n",
    "# set bob channels\n",
    "TTC.set_bob_reflection_channel(2)\n",
    "TTC.set_bob_transmission_channel(1)\n",
    "\n",
    "\n",
    "# set bob home offset\n",
    "KMC.bob.set_home_offset(-43 % 360)\n",
    "KMC.bob.home()\n",
    "# set alice home offset\n",
    "KMC.alice.set_home_offset(9)\n",
    "KMC.alice.home()\n",
    "\n"
   ]
  },
  {
   "cell_type": "code",
   "execution_count": 38,
   "metadata": {},
   "outputs": [
    {
     "name": "stdout",
     "output_type": "stream",
     "text": [
      "cos(2*theta_a - 2*theta_b)\n",
      "cos(2*theta_a - 2*theta_b)\n"
     ]
    },
    {
     "data": {
      "text/plain": [
       "array([[0.49124151],\n",
       "       [0.00875849],\n",
       "       [0.00875849],\n",
       "       [0.49124151]])"
      ]
     },
     "execution_count": 38,
     "metadata": {},
     "output_type": "execute_result"
    }
   ],
   "source": [
    "\n",
    "#efficiencies\n",
    "aT = 1\n",
    "aR = 1\n",
    "bT = 1\n",
    "bR = 1\n",
    "Simulator= TT_Simulator(two_particle_states['phi_plus'], initial_state_noise=0, detector_efficiencies=[aT*bT, aT*bR, aR*bT, aR*bR], debug=False)\n",
    "CHSH_angles = Simulator.CHSH_angles_for_filters\n",
    "Simulator.outcome_probabilities(0, 25)"
   ]
  },
  {
   "cell_type": "code",
   "execution_count": 39,
   "metadata": {},
   "outputs": [
    {
     "name": "stdout",
     "output_type": "stream",
     "text": [
      "\n",
      "corr[a,b] = 0.6912\n",
      "\tN[|T,T>]=  2106\t(0.421)\n",
      "\tN[|T,R>]=   371\t(0.074)\n",
      "\tN[|R,T>]=   401\t(0.080)\n",
      "\tN[|R,R>]=  2122\t(0.424)\n",
      "\n",
      "corr[a,B] = 0.7068\n",
      "\tN[|T,T>]=  2047\t(0.409)\n",
      "\tN[|T,R>]=   373\t(0.075)\n",
      "\tN[|R,T>]=   360\t(0.072)\n",
      "\tN[|R,R>]=  2220\t(0.444)\n",
      "\n",
      "corr[A,b] = 0.6916\n",
      "\tN[|T,T>]=  2098\t(0.420)\n",
      "\tN[|T,R>]=   410\t(0.082)\n",
      "\tN[|R,T>]=   361\t(0.072)\n",
      "\tN[|R,R>]=  2131\t(0.426)\n",
      "\n",
      "corr[A,B] = -0.7144\n",
      "\tN[|T,T>]=   339\t(0.068)\n",
      "\tN[|T,R>]=  2138\t(0.428)\n",
      "\tN[|R,T>]=  2148\t(0.430)\n",
      "\tN[|R,R>]=   375\t(0.075)\n",
      "\n",
      "S = abs(corrs[0,0] + corrs[0,1] + corrs[1,0] - corrs[1,1]) = 2.804\n"
     ]
    }
   ],
   "source": [
    "TTC.measureS(CHSH_angles=CHSH_angles, integration_time_per_basis_setting_SI=2, TTSimulator=Simulator, coincidence_window_SI=1.0e-9, debug=True)"
   ]
  },
  {
   "cell_type": "code",
   "execution_count": 11,
   "metadata": {},
   "outputs": [],
   "source": [
    "import numpy as np\n",
    "import sympy as sp\n",
    "from sympy.physics.quantum import TensorProduct, Dagger\n",
    "from sympy.physics.quantum.trace import Tr\n",
    "from scipy.optimize import minimize\n",
    "def half_wave_plate_sympy(theta):\n",
    "    \"\"\"\n",
    "    returns operator for action of HWP 1 particle state in H,V basis\n",
    "    note that the angles here are in terms of the angle of the EM field oscillation orientation, not the filter orientation\n",
    "    the angle for the filter is to be half the angle specified here\n",
    "    \"\"\"\n",
    "    c = sp.cos(theta)\n",
    "    s = sp.sin(theta)\n",
    "    return sp.Matrix([[c, s], [s, -c]])"
   ]
  },
  {
   "cell_type": "code",
   "execution_count": 52,
   "metadata": {},
   "outputs": [
    {
     "data": {
      "text/latex": [
       "$\\displaystyle \\left[\\begin{matrix}\\frac{aT bT \\cos^{2}{\\left(\\theta_{a} - \\theta_{b} \\right)}}{aR bR \\cos^{2}{\\left(\\theta_{a} - \\theta_{b} \\right)} + aR bT \\sin^{2}{\\left(\\theta_{a} - \\theta_{b} \\right)} + aT bR \\sin^{2}{\\left(\\theta_{a} - \\theta_{b} \\right)} + aT bT \\cos^{2}{\\left(\\theta_{a} - \\theta_{b} \\right)}}\\\\\\frac{aT bR \\sin^{2}{\\left(\\theta_{a} - \\theta_{b} \\right)}}{aR bR \\cos^{2}{\\left(\\theta_{a} - \\theta_{b} \\right)} + aR bT \\sin^{2}{\\left(\\theta_{a} - \\theta_{b} \\right)} + aT bR \\sin^{2}{\\left(\\theta_{a} - \\theta_{b} \\right)} + aT bT \\cos^{2}{\\left(\\theta_{a} - \\theta_{b} \\right)}}\\\\\\frac{aR bT \\sin^{2}{\\left(\\theta_{a} - \\theta_{b} \\right)}}{aR bR \\cos^{2}{\\left(\\theta_{a} - \\theta_{b} \\right)} + aR bT \\sin^{2}{\\left(\\theta_{a} - \\theta_{b} \\right)} + aT bR \\sin^{2}{\\left(\\theta_{a} - \\theta_{b} \\right)} + aT bT \\cos^{2}{\\left(\\theta_{a} - \\theta_{b} \\right)}}\\\\\\frac{aR bR \\cos^{2}{\\left(\\theta_{a} - \\theta_{b} \\right)}}{aR bR \\cos^{2}{\\left(\\theta_{a} - \\theta_{b} \\right)} + aR bT \\sin^{2}{\\left(\\theta_{a} - \\theta_{b} \\right)} + aT bR \\sin^{2}{\\left(\\theta_{a} - \\theta_{b} \\right)} + aT bT \\cos^{2}{\\left(\\theta_{a} - \\theta_{b} \\right)}}\\end{matrix}\\right]$"
      ],
      "text/plain": [
       "Matrix([\n",
       "[aT*bT*cos(theta_a - theta_b)**2/(aR*bR*cos(theta_a - theta_b)**2 + aR*bT*sin(theta_a - theta_b)**2 + aT*bR*sin(theta_a - theta_b)**2 + aT*bT*cos(theta_a - theta_b)**2)],\n",
       "[aT*bR*sin(theta_a - theta_b)**2/(aR*bR*cos(theta_a - theta_b)**2 + aR*bT*sin(theta_a - theta_b)**2 + aT*bR*sin(theta_a - theta_b)**2 + aT*bT*cos(theta_a - theta_b)**2)],\n",
       "[aR*bT*sin(theta_a - theta_b)**2/(aR*bR*cos(theta_a - theta_b)**2 + aR*bT*sin(theta_a - theta_b)**2 + aT*bR*sin(theta_a - theta_b)**2 + aT*bT*cos(theta_a - theta_b)**2)],\n",
       "[aR*bR*cos(theta_a - theta_b)**2/(aR*bR*cos(theta_a - theta_b)**2 + aR*bT*sin(theta_a - theta_b)**2 + aT*bR*sin(theta_a - theta_b)**2 + aT*bT*cos(theta_a - theta_b)**2)]])"
      ]
     },
     "execution_count": 52,
     "metadata": {},
     "output_type": "execute_result"
    }
   ],
   "source": [
    "# Define sympy variables \n",
    "theta_a, theta_b = sp.symbols('theta_a, theta_b', real=True)\n",
    "\n",
    "# Define Operator corresponding to two HWPs\n",
    "HWP_operator = sp.simplify(TensorProduct(half_wave_plate_sympy(theta_a), half_wave_plate_sympy(theta_b)))\n",
    "\n",
    "\n",
    "# Apply HWP operator on initial state density\n",
    "rho = sp.simplify(HWP_operator * Simulator.initial_state_density * Dagger(HWP_operator))\n",
    "\n",
    "\n",
    "aT, aR, bT, bR = sp.symbols('aT, aR, bT, bR', real=True)\n",
    "detector_efficiencies = [aT*bT, aT*bR, aR*bT, aR*bR]\n",
    "\n",
    "probability_vector = sp.Matrix([\n",
    "            detector_efficiencies[0] * Tr(rho * Simulator.HH_operator),\n",
    "            detector_efficiencies[1] * Tr(rho * Simulator.HV_operator),\n",
    "            detector_efficiencies[2] * Tr(rho * Simulator.VH_operator),\n",
    "            detector_efficiencies[3] * Tr(rho * Simulator.VV_operator)\n",
    "        ])\n",
    "\n",
    "probability_vector /= sum(probability_vector)\n",
    "probability_vector.simplify()\n",
    "\n",
    "probability_vector"
   ]
  },
  {
   "cell_type": "code",
   "execution_count": null,
   "metadata": {},
   "outputs": [
    {
     "data": {
      "text/latex": [
       "$\\displaystyle \\frac{aR bR \\cos^{2}{\\left(\\theta_{a} - \\theta_{b} \\right)}}{2} - \\frac{aR bT \\sin^{2}{\\left(\\theta_{a} - \\theta_{b} \\right)}}{2} - \\frac{aT bR \\sin^{2}{\\left(\\theta_{a} - \\theta_{b} \\right)}}{2} + \\frac{aT bT \\cos^{2}{\\left(\\theta_{a} - \\theta_{b} \\right)}}{2}$"
      ],
      "text/plain": [
       "aR*bR*cos(theta_a - theta_b)**2/2 - aR*bT*sin(theta_a - theta_b)**2/2 - aT*bR*sin(theta_a - theta_b)**2/2 + aT*bT*cos(theta_a - theta_b)**2/2"
      ]
     },
     "execution_count": 90,
     "metadata": {},
     "output_type": "execute_result"
    }
   ],
   "source": [
    "# correlation function\n",
    "# TODO: Note this treatment of the detector efficiency is probably quite wrong, since the correlation function already is normalised to the amount of detected photons (at least the way it is calculated in the experiment), thusnthis is most likely wrong and the reason for the\n",
    "# end result not quite looking like what we see in real life\n",
    "C = detector_efficiencies[0] * Tr(rho * Simulator.HH_operator) - detector_efficiencies[1] * Tr(rho * Simulator.HV_operator)- detector_efficiencies[2] * Tr(rho * Simulator.VH_operator) + detector_efficiencies[3] * Tr(rho * Simulator.VV_operator)\n",
    "C = C.simplify()\n",
    "C_Lambdified = sp.lambdify([theta_a, theta_b, aT, aR, bT, bR], C)\n",
    "C"
   ]
  },
  {
   "cell_type": "code",
   "execution_count": 92,
   "metadata": {},
   "outputs": [
    {
     "data": {
      "text/plain": [
       "1.414213562373095"
      ]
     },
     "execution_count": 92,
     "metadata": {},
     "output_type": "execute_result"
    }
   ],
   "source": [
    "# S value\n",
    "efficiencies = [0,1,1,1]\n",
    "\n",
    "def S(x):\n",
    "    a0 = x[0] * np.pi \n",
    "    a1 = x[1] * np.pi \n",
    "    b0 = x[2] * np.pi \n",
    "    b1 = x[3] * np.pi \n",
    "    return np.abs(C_Lambdified(a0, b0, *efficiencies) + C_Lambdified(a1, b0, *efficiencies) + C_Lambdified(a0, b1, *efficiencies) - C_Lambdified(a1, b1, *efficiencies))\n",
    "\n",
    "S([0, 0.25, -0.3750, 0.375])"
   ]
  },
  {
   "cell_type": "markdown",
   "metadata": {},
   "source": [
    "It seems like with the treatment of the detector inefficiencies as shown above it is indeed impossible to improve the S value with worse detector efficiencies (also plotted in desmos3d). But this is most likely due to a wrong implementation of detector inefficiencies."
   ]
  },
  {
   "cell_type": "markdown",
   "metadata": {},
   "source": [
    "# Kraus States and Modelling Loss as a vacuume state\n"
   ]
  },
  {
   "cell_type": "code",
   "execution_count": 199,
   "metadata": {},
   "outputs": [],
   "source": [
    "def half_wave_plate_vac_sympy(theta):\n",
    "    \"\"\"\n",
    "    returns operator for action of HWP 1 particle state in H,V,Vac basis\n",
    "    note that the angles here are in terms of the angle of the EM field oscillation orientation, not the filter orientation\n",
    "    the angle for the filter is to be half the angle specified here\n",
    "    \"\"\"\n",
    "    c = sp.cos(theta)\n",
    "    s = sp.sin(theta)\n",
    "    return sp.Matrix([[c, s, 0], [s, -c, 0], [0, 0, 1]])\n",
    "\n",
    "# Define |H>, |V> in \n",
    "H = sp.Matrix([1, 0, 0])\n",
    "V = sp.Matrix([0, 1, 0])\n",
    "Vac = sp.Matrix([0, 0, 1])\n",
    "I3 = sp.eye(3)\n",
    "\n",
    "# Define Bell state vectors\n",
    "phi_plus = (TensorProduct(H, H) + TensorProduct(V, V)) / sp.sqrt(2)\n",
    "\n",
    "initial_state = phi_plus\n",
    "\n",
    "\n",
    "# Define coincidence measurement operators (imagine there is a measurement device that measures lost photons (vac photons))\n",
    "P_V = V * Dagger(V)  # |V><V| projection operator\n",
    "P_H = H * Dagger(H)  # |H><H| projection operator\n",
    "P_Vac = Vac * Dagger(Vac)  # |Vac><Vac| projection operator\n",
    "\n",
    "\n",
    "state_density = TensorProduct(initial_state, Dagger(initial_state))\n",
    "\n",
    "# Define sympy variables \n",
    "theta_a, theta_b = sp.symbols('theta_a, theta_b', real=True)\n",
    "\n",
    "# Define Operator corresponding to two HWPs\n",
    "HWP_operator = sp.simplify(TensorProduct(half_wave_plate_vac_sympy(theta_a), half_wave_plate_vac_sympy(theta_b)))\n",
    "\n",
    "# Apply HWP operator on initial state density\n",
    "state_density = sp.simplify(HWP_operator * state_density * Dagger(HWP_operator))\n",
    "\n",
    "# define detector efficiency variables\n",
    "η_aH, η_aV, η_bH, η_bV, η  = sp.symbols('eta_aH eta_aV eta_bH eta_bV eta', real=True)\n",
    "\n",
    "Proj_H_alice = η_aH * P_H\n",
    "Proj_V_alice = η_aV * P_V\n",
    "Proj_Vac_alice  = P_Vac + (1-η_aH)*P_H + (1-η_aV)*P_V  # no click at A\n",
    "\n",
    "Proj_H_bob = η_bH * P_H\n",
    "Proj_V_bob = η_bV * P_V\n",
    "Proj_Vac_bob  = P_Vac + (1-η_bH)*P_H + (1-η_bV)*P_V  # no click at B\n",
    "\n",
    "# sanity check that they add up to the identity, otherwise raise error\n",
    "assert sum(Proj_H_alice + Proj_V_alice + Proj_Vac_alice - I3) == 0\n",
    "assert sum(Proj_H_bob + Proj_V_bob + Proj_Vac_bob - I3) == 0\n",
    "\n",
    "\n",
    "# projectors onto the detectors\n",
    "HH = TensorProduct(Proj_H_alice, Proj_H_bob)\n",
    "HV = TensorProduct(Proj_H_alice, Proj_V_bob)\n",
    "VH = TensorProduct(Proj_V_alice, Proj_H_bob)\n",
    "VV = TensorProduct(Proj_V_alice, Proj_V_bob)\n",
    "\n",
    "# optional single detections, or vaccume 'detections'\n",
    "A_click = TensorProduct(Proj_H_alice + Proj_V_alice, Proj_Vac_bob)\n",
    "B_click = TensorProduct(Proj_Vac_alice, Proj_H_bob + Proj_Vac_bob)\n",
    "no_click = TensorProduct(Proj_Vac_alice, Proj_Vac_bob)\n",
    "\n",
    "# state_density already rotated by HWP_operator in your code\n",
    "p_HH = sp.simplify(sp.trace(state_density * HH))\n",
    "p_HV = sp.simplify(sp.trace(state_density * HV))\n",
    "p_VH = sp.simplify(sp.trace(state_density * VH))    \n",
    "p_VV = sp.simplify(sp.trace(state_density * VV))\n",
    "\n",
    "C = (Tr(state_density * HH) - Tr(state_density * HV) - Tr(state_density * VH) + Tr(state_density * VV)) / (Tr(state_density * HH) + Tr(state_density * HV) + Tr(state_density * VH) + Tr(state_density * VV))\n",
    "C = C.simplify()"
   ]
  },
  {
   "cell_type": "code",
   "execution_count": 200,
   "metadata": {},
   "outputs": [
    {
     "data": {
      "text/latex": [
       "$\\displaystyle \\frac{2 \\left(\\eta_{aH}^{2} \\eta_{bH}^{2} - 8 \\sqrt{2} \\eta_{aH}^{2} \\eta_{bH} \\eta_{bV} - \\eta_{aH}^{2} \\eta_{bV}^{2} - 8 \\sqrt{2} \\eta_{aH} \\eta_{aV} \\eta_{bH}^{2} - 8 \\sqrt{2} \\eta_{aH} \\eta_{aV} \\eta_{bV}^{2} - \\eta_{aV}^{2} \\eta_{bH}^{2} - 8 \\sqrt{2} \\eta_{aV}^{2} \\eta_{bH} \\eta_{bV} + \\eta_{aV}^{2} \\eta_{bV}^{2}\\right)}{\\eta_{aH}^{2} \\eta_{bH}^{2} + 6 \\eta_{aH}^{2} \\eta_{bH} \\eta_{bV} + \\eta_{aH}^{2} \\eta_{bV}^{2} + 6 \\eta_{aH} \\eta_{aV} \\eta_{bH}^{2} + 4 \\eta_{aH} \\eta_{aV} \\eta_{bH} \\eta_{bV} + 6 \\eta_{aH} \\eta_{aV} \\eta_{bV}^{2} + \\eta_{aV}^{2} \\eta_{bH}^{2} + 6 \\eta_{aV}^{2} \\eta_{bH} \\eta_{bV} + \\eta_{aV}^{2} \\eta_{bV}^{2}}$"
      ],
      "text/plain": [
       "2*(eta_aH**2*eta_bH**2 - 8*sqrt(2)*eta_aH**2*eta_bH*eta_bV - eta_aH**2*eta_bV**2 - 8*sqrt(2)*eta_aH*eta_aV*eta_bH**2 - 8*sqrt(2)*eta_aH*eta_aV*eta_bV**2 - eta_aV**2*eta_bH**2 - 8*sqrt(2)*eta_aV**2*eta_bH*eta_bV + eta_aV**2*eta_bV**2)/(eta_aH**2*eta_bH**2 + 6*eta_aH**2*eta_bH*eta_bV + eta_aH**2*eta_bV**2 + 6*eta_aH*eta_aV*eta_bH**2 + 4*eta_aH*eta_aV*eta_bH*eta_bV + 6*eta_aH*eta_aV*eta_bV**2 + eta_aV**2*eta_bH**2 + 6*eta_aV**2*eta_bH*eta_bV + eta_aV**2*eta_bV**2)"
      ]
     },
     "execution_count": 200,
     "metadata": {},
     "output_type": "execute_result"
    }
   ],
   "source": [
    "angles = [0, sp.pi / 4, -3*sp.pi/8, 3*sp.pi/8]\n",
    "\n",
    "S_inefficiencies = C.subs({theta_a:angles[0], theta_b:angles[2]}).simplify() + C.subs({theta_a:angles[1], theta_b:angles[2]}).simplify() + C.subs({theta_a:angles[0], theta_b:angles[3]}).simplify() - C.subs({theta_a:angles[1], theta_b:angles[3]}).simplify()\n",
    "S_inefficiencies = S_inefficiencies.simplify()\n",
    "S_inefficiencies"
   ]
  },
  {
   "cell_type": "markdown",
   "metadata": {},
   "source": [
    "If we define $$\\delta_a = \\frac{\\eta_{aH} - \\eta_{aV}}{2}$$ $$\\Delta_a = \\frac{\\eta_{aH} + \\eta_{aV}}{2}$$ and do the same for B our equationa for S simplifies to:"
   ]
  },
  {
   "cell_type": "code",
   "execution_count": 202,
   "metadata": {},
   "outputs": [
    {
     "data": {
      "text/latex": [
       "$\\displaystyle \\frac{2 \\left(- 2 \\sqrt{2} \\Delta_{a}^{2} \\Delta_{b}^{2} + \\Delta_{a} \\Delta_{b} \\delta_{a} \\delta_{b} + 2 \\sqrt{2} \\delta_{a}^{2} \\delta_{b}^{2}\\right)}{2 \\Delta_{a}^{2} \\Delta_{b}^{2} - \\delta_{a}^{2} \\delta_{b}^{2}}$"
      ],
      "text/plain": [
       "2*(-2*sqrt(2)*Delta_a**2*Delta_b**2 + Delta_a*Delta_b*delta_a*delta_b + 2*sqrt(2)*delta_a**2*delta_b**2)/(2*Delta_a**2*Delta_b**2 - delta_a**2*delta_b**2)"
      ]
     },
     "execution_count": 202,
     "metadata": {},
     "output_type": "execute_result"
    }
   ],
   "source": [
    "delta_a, delta_b, Delta_a, Delta_b = sp.symbols('delta_a delta_b Delta_a Delta_b', real=True)\n",
    "\n",
    "S_inefficiencies = S_inefficiencies.subs({η_aH: Delta_a + delta_a, η_aV: Delta_a - delta_a, η_bH: Delta_b + delta_b, η_bV: Delta_b - delta_b}).simplify() \n",
    "S_inefficiencies\n"
   ]
  },
  {
   "cell_type": "markdown",
   "metadata": {},
   "source": [
    "If you do an expansion to small order corrections you get\n",
    "$$\n",
    "S = S_0 + \\frac{\\delta_a\\delta_b}{\\Delta_a\\Delta_b}, \\quad S_0 = -2\\sqrt{2}\n",
    "$$\n",
    "from this we see that a difference in efficiency between channels in the same arm doesnt affect S to first order (actually to any order)"
   ]
  },
  {
   "cell_type": "markdown",
   "metadata": {},
   "source": [
    "### I had a thought!\n",
    "It doesnt mean much to measure this in terms of effiency differences between the channels on the same side, since i can not really measure this. But i can measure the cross efficiencies, beacuse I can check the coincidence count rates between pairs of channels on opposite sides of the experiment"
   ]
  },
  {
   "cell_type": "code",
   "execution_count": 203,
   "metadata": {},
   "outputs": [
    {
     "data": {
      "text/plain": [
       "0.17561596260680234"
      ]
     },
     "execution_count": 203,
     "metadata": {},
     "output_type": "execute_result"
    }
   ],
   "source": [
    "C_Lambdified = sp.lambdify([theta_a, theta_b, η_AH, η_AV, η_BH, η_BV], C)\n",
    "\n",
    "# S value\n",
    "efficiencies = [0,0.1,0.1,1]\n",
    "\n",
    "def S(x):\n",
    "    a0 = x[0] * np.pi \n",
    "    a1 = x[1] * np.pi \n",
    "    b0 = x[2] * np.pi \n",
    "    b1 = x[3] * np.pi \n",
    "    return np.abs(C_Lambdified(a0, b0, *efficiencies) + C_Lambdified(a1, b0, *efficiencies) + C_Lambdified(a0, b1, *efficiencies) - C_Lambdified(a1, b1, *efficiencies))\n",
    "\n",
    "S([0, 0.25, -0.3750, 0.375])"
   ]
  },
  {
   "cell_type": "code",
   "execution_count": null,
   "metadata": {},
   "outputs": [],
   "source": []
  }
 ],
 "metadata": {
  "kernelspec": {
   "display_name": "Python 3",
   "language": "python",
   "name": "python3"
  },
  "language_info": {
   "codemirror_mode": {
    "name": "ipython",
    "version": 3
   },
   "file_extension": ".py",
   "mimetype": "text/x-python",
   "name": "python",
   "nbconvert_exporter": "python",
   "pygments_lexer": "ipython3",
   "version": "3.10.11"
  }
 },
 "nbformat": 4,
 "nbformat_minor": 2
}
