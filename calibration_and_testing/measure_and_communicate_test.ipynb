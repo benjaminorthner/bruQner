{
 "cells": [
  {
   "cell_type": "code",
   "execution_count": 1,
   "metadata": {},
   "outputs": [],
   "source": [
    "import sys\n",
    "sys.path.insert(0, '../')\n",
    "\n",
    "from src.time_tagger import TimeTaggerController, TT_Simulator, two_particle_states\n",
    "from src.kinetic_mount_controller import KineticMountControl\n",
    "from src.osc import OSCCommunicator, OSCTarget\n",
    "import time\n",
    "import threading\n",
    "import random"
   ]
  },
  {
   "cell_type": "markdown",
   "metadata": {},
   "source": [
    "# Setup Mount Controller"
   ]
  },
  {
   "cell_type": "code",
   "execution_count": 2,
   "metadata": {},
   "outputs": [
    {
     "name": "stdout",
     "output_type": "stream",
     "text": [
      "\n",
      "ASSIGNING CONTROLLERS\n",
      "---------------------------------------------------------------\n",
      "Ports Found: ['COM5', 'COM4']\n",
      "---------------------------------------------------------------\n",
      "Device succesfully connected (Rotation Mount) (Address: 0)\n",
      "Device succesfully connected (Rotation Mount) (Address: 0)\n"
     ]
    }
   ],
   "source": [
    "# only run if not already created\n",
    "if 'KMC' not in globals():  \n",
    "    KMC = KineticMountControl(number_of_devices=2, address_search_depth=0)\n",
    "    #KMC.swap_alice_bob()"
   ]
  },
  {
   "cell_type": "code",
   "execution_count": 1,
   "metadata": {},
   "outputs": [
    {
     "ename": "NameError",
     "evalue": "name 'TimeTaggerController' is not defined",
     "output_type": "error",
     "traceback": [
      "\u001b[31m---------------------------------------------------------------------------\u001b[39m",
      "\u001b[31mNameError\u001b[39m                                 Traceback (most recent call last)",
      "\u001b[36mCell\u001b[39m\u001b[36m \u001b[39m\u001b[32mIn[1]\u001b[39m\u001b[32m, line 2\u001b[39m\n\u001b[32m      1\u001b[39m \u001b[38;5;66;03m# Init the Time Tagger and the Kinetic Mount Controller\u001b[39;00m\n\u001b[32m----> \u001b[39m\u001b[32m2\u001b[39m TTC = \u001b[43mTimeTaggerController\u001b[49m()\n\u001b[32m      4\u001b[39m \u001b[38;5;66;03m# NOTE Look at the trace, sucessively block each port and assign the channels numbers in the next cell\u001b[39;00m\n\u001b[32m      5\u001b[39m \u001b[38;5;66;03m# NOTE afterwards stop and close the graphic\u001b[39;00m\n\u001b[32m      6\u001b[39m \u001b[38;5;66;03m#TTC.displayCountTraces()\u001b[39;00m\n",
      "\u001b[31mNameError\u001b[39m: name 'TimeTaggerController' is not defined"
     ]
    }
   ],
   "source": [
    "# Init the Time Tagger and the Kinetic Mount Controller\n",
    "TTC = TimeTaggerController()\n",
    "\n",
    "# NOTE Look at the trace, sucessively block each port and assign the channels numbers in the next cell\n",
    "# NOTE afterwards stop and close the graphic\n",
    "#TTC.displayCountTraces()"
   ]
  },
  {
   "cell_type": "code",
   "execution_count": 4,
   "metadata": {},
   "outputs": [],
   "source": [
    "# connect KMC and TTC\n",
    "TTC.setKineticMountController(KMC)\n",
    "# set alice channels\n",
    "TTC.set_alice_reflection_channel(4)\n",
    "TTC.set_alice_transmission_channel(3)\n",
    "# set bob channels\n",
    "TTC.set_bob_reflection_channel(1)\n",
    "TTC.set_bob_transmission_channel(2)\n",
    "\n",
    "\n",
    "# set bob home offset\n",
    "KMC.bob.set_home_offset(-43 % 360)\n",
    "KMC.bob.home()\n",
    "# set alice home offset\n",
    "KMC.alice.set_home_offset(9)\n",
    "KMC.alice.home()\n",
    "\n"
   ]
  },
  {
   "cell_type": "code",
   "execution_count": 5,
   "metadata": {},
   "outputs": [
    {
     "name": "stdout",
     "output_type": "stream",
     "text": [
      "Delays Before Correction\n",
      "Alice_T :     0 ps \t/     0.0 mm\n",
      "Alice_R :   139 ps \t/    41.7 mm\n",
      "Bob_T   :  -597 ps \t/  -179.1 mm\n",
      "Bob_R   :    62 ps \t/    18.6 mm\n",
      "\n",
      "Delays After Correction\n",
      "Alice_T :     0 ps \t/     0.0 mm\n",
      "Alice_R :    15 ps \t/     4.5 mm\n",
      "Bob_T   :   -34 ps \t/   -10.2 mm\n",
      "Bob_R   :   -13 ps \t/    -3.9 mm\n"
     ]
    }
   ],
   "source": [
    "_ = TTC.performDelayAdjustment(integration_time=5)#, manual_delays=[0, 98, -677, 2])"
   ]
  },
  {
   "cell_type": "code",
   "execution_count": 46,
   "metadata": {},
   "outputs": [],
   "source": [
    "KMC.rotate_simulataneously(45, 0)"
   ]
  },
  {
   "cell_type": "code",
   "execution_count": 19,
   "metadata": {},
   "outputs": [],
   "source": [
    "\n",
    "KMC.rotate_simulataneously(0, 0)"
   ]
  },
  {
   "cell_type": "code",
   "execution_count": 9,
   "metadata": {},
   "outputs": [],
   "source": [
    "KMC.rotate_simulataneously(45, 0)"
   ]
  },
  {
   "cell_type": "code",
   "execution_count": 18,
   "metadata": {},
   "outputs": [
    {
     "data": {
      "application/vnd.jupyter.widget-view+json": {
       "model_id": "ccb7331c19d14273b77937f4fed8c9a0",
       "version_major": 2,
       "version_minor": 0
      },
      "text/plain": [
       "Output()"
      ]
     },
     "metadata": {},
     "output_type": "display_data"
    },
    {
     "data": {
      "application/vnd.jupyter.widget-view+json": {
       "model_id": "8d9bfdfecb9b4696acfde879ba1f043a",
       "version_major": 2,
       "version_minor": 0
      },
      "text/plain": [
       "Output()"
      ]
     },
     "metadata": {},
     "output_type": "display_data"
    }
   ],
   "source": [
    "n_values = 150\n",
    "trace_width = 3\n",
    "TTC.displayCountTraces(n_values=n_values, trace_width=trace_width, plot_title='<b>Raw Counts<b>')\n",
    "TTC.displayCoincidenceTraces(coincidence_window_SI=0.5e-9, n_values=n_values, trace_width=trace_width, plot_title='<b>Coincidences<b>')"
   ]
  },
  {
   "cell_type": "code",
   "execution_count": 37,
   "metadata": {},
   "outputs": [],
   "source": [
    "KMC.rotate_simulataneously(0, 0, wait_for_completion=False)"
   ]
  },
  {
   "cell_type": "code",
   "execution_count": 21,
   "metadata": {},
   "outputs": [],
   "source": [
    "\n",
    "KMC.rotate_simulataneously(-22.5, -11.25, wait_for_completion=False)"
   ]
  },
  {
   "cell_type": "code",
   "execution_count": null,
   "metadata": {},
   "outputs": [],
   "source": [
    "# TODO\n",
    "# coincidence channel handling and destruction\n",
    "#TTC.coincidences_vchannels.getChannels()"
   ]
  },
  {
   "cell_type": "code",
   "execution_count": 10,
   "metadata": {},
   "outputs": [],
   "source": [
    "# TODO This kills the coincidence channels in the visualisation. Needs to be worked on\n",
    "idealAngles = [0, -22.5, -11.25, 11.25] # for triplett |HH> - |VV> initial state\n",
    "johannes_ideal_angles = [0, 45/2, -22.5/2, 22.5/2]\n",
    "johannes_classical_angles = [0, 45/2, -90/2, -45/2]"
   ]
  },
  {
   "cell_type": "code",
   "execution_count": 19,
   "metadata": {},
   "outputs": [
    {
     "name": "stdout",
     "output_type": "stream",
     "text": [
      "\n",
      "corr[a,b] = 0.83001\n",
      "\tN[|T,T>]=  2777\t(0.443) ███████████████████▉                         \n",
      "\tN[|T,R>]=   250\t(0.040) █▊                                           \n",
      "\tN[|R,T>]=   283\t(0.045) ██▏                                          \n",
      "\tN[|R,R>]=  2961\t(0.472) █████████████████████▎                       \n",
      "\n",
      "corr[a,B] = 0.51787\n",
      "\tN[|T,T>]=  2192\t(0.363) ████████████████▍                            \n",
      "\tN[|T,R>]=   685\t(0.113) █████▏                                       \n",
      "\tN[|R,T>]=   772\t(0.128) █████▊                                       \n",
      "\tN[|R,R>]=  2395\t(0.396) █████████████████▊                           \n",
      "\n",
      "corr[A,b] = 0.33658\n",
      "\tN[|T,T>]=  1919\t(0.302) █████████████▋                               \n",
      "\tN[|T,R>]=   875\t(0.138) ██████▎                                      \n",
      "\tN[|R,T>]=  1235\t(0.194) ████████▊                                    \n",
      "\tN[|R,R>]=  2332\t(0.367) ████████████████▌                            \n",
      "\n",
      "corr[A,B] = -0.63654\n",
      "\tN[|T,T>]=   476\t(0.078) ███▌                                         \n",
      "\tN[|T,R>]=  2132\t(0.349) ███████████████▋                             \n",
      "\tN[|R,T>]=  2866\t(0.469) █████████████████████▏                       \n",
      "\tN[|R,R>]=   634\t(0.104) ████▋                                        \n",
      "\n",
      "S = abs(corrs[0,0] + corrs[0,1] + corrs[1,0] - corrs[1,1]) = 2.321004661513447\n"
     ]
    }
   ],
   "source": [
    "TTC.measureS(CHSH_angles=idealAngles, integration_time_per_basis_setting_SI=2, TTSimulator=None, coincidence_window_SI=1.0e-9, debug=True)"
   ]
  },
  {
   "cell_type": "code",
   "execution_count": null,
   "metadata": {},
   "outputs": [
    {
     "name": "stdout",
     "output_type": "stream",
     "text": [
      "SPCM Pairs: ['TT', 'TR', 'RT', 'RR']\n",
      "\n",
      "corr[a,b] = [ 0.835 -0.81  -0.823  0.783]\n",
      "\tN[a , b ]=[1386  145  161 1222]\n",
      "\tN[a , b ]=[ 129 1183 1435  170]\n",
      "\tN[a , b ]=[ 106 1204 1251  112]\n",
      "\tN[a , b ]=[1231  106  100 1091]\n",
      "\n",
      "corr[a,B] = [ 0.504 -0.488 -0.511  0.545]\n",
      "\tN[a , B ]=[1142  357  355 1153]\n",
      "\tN[a , B ]=[ 338 1065 1173  311]\n",
      "\tN[a , B ]=[ 376  972 1017  288]\n",
      "\tN[a , B ]=[1025  344  354  881]\n",
      "\n",
      "corr[A,b] = [ 0.415 -0.377 -0.41   0.318]\n",
      "\tN[A , b ]=[999 399 357 924]\n",
      "\tN[A , b ]=[368 897 991 357]\n",
      "\tN[A , b ]=[ 449  925 1003  543]\n",
      "\tN[A , b ]=[975 425 477 814]\n",
      "\n",
      "corr[A,B] = [-0.765  0.651  0.726 -0.631]\n",
      "\tN[A , B ]=[ 188 1103 1195  273]\n",
      "\tN[A , B ]=[1230  229  220  952]\n",
      "\tN[A , B ]=[1319  233  177 1156]\n",
      "\tN[A , B ]=[ 152 1083 1301  204]\n",
      "\n",
      "S = abs(corrs[0,0] + corrs[0,1] + corrs[1,0] - corrs[1,1]) = TT, TR, RT, RR : [2.51871333 2.32588222 2.46946482 2.27627733]\n"
     ]
    }
   ],
   "source": [
    "TTC.measure_S_with_two_ports(CHSH_angles=idealAngles, debug=True)"
   ]
  },
  {
   "cell_type": "code",
   "execution_count": 9,
   "metadata": {},
   "outputs": [],
   "source": [
    "#SimulatorPhiPlus = TT_Simulator(two_particle_states['phi_plus'], initial_state_noise=0.00, debug=False)\n",
    "#SimulatorPhiMinus = TT_Simulator(two_particle_states['phi_minus'], initial_state_noise=0.00, debug=False)\n",
    "#TTC.measureS(CHSH_angles=idealAngles, integration_time_per_basis_setting_SI=1, TTSimulator=SimulatorPhiPlus, coincidence_window_SI=0.5e-9)"
   ]
  },
  {
   "cell_type": "markdown",
   "metadata": {},
   "source": [
    "# OSC Server Setup\n"
   ]
  },
  {
   "cell_type": "code",
   "execution_count": 20,
   "metadata": {},
   "outputs": [
    {
     "name": "stdout",
     "output_type": "stream",
     "text": [
      "OSC Server Started. Serving on ('192.168.0.2', 7401)\n",
      "----------------------------------------------------\n"
     ]
    }
   ],
   "source": [
    "my_ip = '192.168.0.2'\n",
    "visual_ip = '192.168.0.5'\n",
    "my_port = 7401 \n",
    "clemens_port = 7401\n",
    "visual_port = 7403\n",
    "\n",
    "if 'OSC' not in globals():\n",
    "    OSC = OSCCommunicator(my_ip=my_ip, my_port=my_port)\n",
    "\n",
    "Myself = OSCTarget(ip=my_ip, port=my_port, name='Myself')\n",
    "Clemens = OSCTarget(ip='192.168.0.3', port=clemens_port, name='Clemens')\n",
    "Visuals = OSCTarget(ip=visual_ip, port=visual_port, name='Visuals')\n",
    "\n",
    "# Start the server\n",
    "OSC.start_server()"
   ]
  },
  {
   "cell_type": "code",
   "execution_count": 21,
   "metadata": {},
   "outputs": [
    {
     "name": "stdout",
     "output_type": "stream",
     "text": [
      "Measurement [1, 2, 3, 4] sent to Clemens\n"
     ]
    }
   ],
   "source": [
    "# Send measurements\n",
    "measurement_results = [1, 2, 3, 4]\n",
    "OSC.send_measurement(target=Clemens, measurement_results=measurement_results)\n"
   ]
  },
  {
   "cell_type": "code",
   "execution_count": 11,
   "metadata": {},
   "outputs": [
    {
     "name": "stdout",
     "output_type": "stream",
     "text": [
      "Measurement hi sent to Visuals\n"
     ]
    }
   ],
   "source": [
    "OSC.send_visuals(target=Visuals, measurement_results=\"hi\")"
   ]
  },
  {
   "cell_type": "code",
   "execution_count": 12,
   "metadata": {},
   "outputs": [],
   "source": [
    "# Global flag to control the loop\n",
    "performance_running = False\n",
    "resultTranslate = {0 : [1, 1],\n",
    "                   1 : [1, -1],\n",
    "                   2 : [-1, 1],\n",
    "                   3 : [-1, -1]}\n",
    "# a A b B\n",
    "Q_angles = [0, -22.5, -11.5, 11.5]\n",
    "C_angles = [0, 22.5, -45, -22.5]\n",
    "\n",
    "                    # ab, aB, Ab, AB\n",
    "angle_pair_dict = {'Q_all':[(0, -11.5), (0, 11.5), (-22.5, -11.5), (-22.5, 11.5)],\n",
    "                    # ab, AB\n",
    "                   'Q_diagonal': [(0, 11.5), (-22.5, -11.5)],\n",
    "                    # ab, AB\n",
    "                   'C_diagonal': [(0, -45), (22.5, -22.5)],\n",
    "                    # AB\n",
    "                   'C_single': [(-45, -22.5)],\n",
    "                   }\n",
    "\n",
    "def performance_cycle():\n",
    "    \"\"\"The function you want to execute repeatedly.\"\"\"\n",
    "    global performance_running\n",
    "    \n",
    "    time_of_last_visual = time.time()\n",
    "    while performance_running:\n",
    "        theta_a, theta_b = random.choice(angle_pair_dict[OSC.currently_selected_state])\n",
    "        \n",
    "        measurement_results = TTC.get_single_measurement(theta_a, theta_b)\n",
    "        \n",
    "        # check if setup is measuring Quantum or Classical angles for conversion to clemens format        \n",
    "        if OSC.currently_selected_state[0] == 'Q':\n",
    "            check_angles = Q_angles\n",
    "        elif OSC.currently_selected_state[0] == 'C':\n",
    "            check_angles = C_angles\n",
    "\n",
    "        resultClemensFormat = [1 if theta_a == check_angles[0] else 2, 1 if theta_b == check_angles[2] else 2 ,*resultTranslate[measurement_results]]\n",
    "\n",
    "        OSC.send_measurement(Clemens, resultClemensFormat)\n",
    "\n",
    "        #if time.time() - time_of_last_visual > 7:\n",
    "        #    OSC.send_visuals(Visuals, resultClemensFormat)\n",
    "        #    time_of_last_visual = time.time()\n",
    "\n",
    "\n",
    "def start_performance():\n",
    "    \"\"\"Starts the task in a separate thread.\"\"\"\n",
    "    global performance_running\n",
    "    performance_running = True  # Ensure the loop is enabled\n",
    "    task_thread = threading.Thread(target=performance_cycle, daemon=True)\n",
    "    task_thread.start()\n",
    "\n",
    "def stop_performance():\n",
    "    \"\"\"Signals the task to stop gracefully.\"\"\"\n",
    "    global performance_running\n",
    "    performance_running = False\n",
    "    print('performance stopped...')\n"
   ]
  },
  {
   "cell_type": "code",
   "execution_count": 13,
   "metadata": {},
   "outputs": [],
   "source": [
    "Myself.client.send_message(\"/bruQner/set/state\", 'Q_all')"
   ]
  },
  {
   "cell_type": "code",
   "execution_count": 15,
   "metadata": {},
   "outputs": [
    {
     "name": "stdout",
     "output_type": "stream",
     "text": [
      "performance stopped...\n"
     ]
    }
   ],
   "source": [
    "stop_performance()"
   ]
  },
  {
   "cell_type": "code",
   "execution_count": null,
   "metadata": {},
   "outputs": [],
   "source": []
  },
  {
   "cell_type": "code",
   "execution_count": 14,
   "metadata": {},
   "outputs": [
    {
     "name": "stdout",
     "output_type": "stream",
     "text": [
      "Collected 154 events in 0.10 seconds.\n",
      "Measurement [2, 2, 1, -1] sent to Clemens\n",
      "Collected 114 events in 0.10 seconds.\n",
      "Measurement [2, 2, 1, 1] sent to Clemens\n",
      "Collected 177 events in 0.10 seconds.\n",
      "Measurement [1, 1, -1, -1] sent to Clemens\n",
      "Collected 157 events in 0.10 seconds.\n",
      "Measurement [2, 1, 1, 1] sent to Clemens\n",
      "Collected 168 events in 0.10 seconds.\n",
      "Measurement [1, 1, -1, 1] sent to Clemens\n",
      "Collected 190 events in 0.10 seconds.\n",
      "Measurement [2, 1, -1, -1] sent to Clemens\n",
      "Collected 146 events in 0.10 seconds.\n",
      "Measurement [1, 2, 1, 1] sent to Clemens\n",
      "Collected 170 events in 0.10 seconds.\n",
      "Measurement [1, 2, -1, -1] sent to Clemens\n",
      "Collected 197 events in 0.10 seconds.\n",
      "Measurement [2, 2, -1, 1] sent to Clemens\n",
      "Collected 194 events in 0.10 seconds.\n",
      "Measurement [2, 1, -1, 1] sent to Clemens\n",
      "Collected 203 events in 0.10 seconds.\n",
      "Measurement [2, 1, -1, 1] sent to Clemens\n",
      "Collected 198 events in 0.10 seconds.\n",
      "Measurement [2, 1, 1, 1] sent to Clemens\n",
      "Collected 203 events in 0.10 seconds.\n",
      "Measurement [2, 1, -1, -1] sent to Clemens\n",
      "Collected 217 events in 0.10 seconds.\n",
      "Measurement [2, 1, 1, 1] sent to Clemens\n",
      "Collected 211 events in 0.10 seconds.\n",
      "Measurement [1, 2, 1, 1] sent to Clemens\n",
      "Collected 199 events in 0.10 seconds.\n",
      "Measurement [1, 2, -1, -1] sent to Clemens\n",
      "Collected 178 events in 0.10 seconds.\n",
      "Measurement [1, 2, -1, -1] sent to Clemens\n",
      "Collected 241 events in 0.10 seconds.\n",
      "Measurement [1, 2, 1, 1] sent to Clemens\n",
      "Collected 216 events in 0.10 seconds.\n",
      "Measurement [2, 2, -1, 1] sent to Clemens\n",
      "Collected 135 events in 0.10 seconds.\n",
      "Measurement [2, 2, 1, -1] sent to Clemens\n",
      "Collected 202 events in 0.10 seconds.\n",
      "Measurement [2, 1, -1, -1] sent to Clemens\n",
      "Collected 215 events in 0.10 seconds.\n",
      "Measurement [1, 1, -1, -1] sent to Clemens\n",
      "Collected 187 events in 0.10 seconds.\n",
      "Measurement [2, 2, -1, 1] sent to Clemens\n",
      "Collected 220 events in 0.10 seconds.\n",
      "Measurement [2, 2, 1, -1] sent to Clemens\n",
      "Collected 202 events in 0.10 seconds.\n",
      "Measurement [1, 1, -1, -1] sent to Clemens\n",
      "Collected 191 events in 0.10 seconds.\n",
      "Measurement [1, 2, 1, 1] sent to Clemens\n",
      "Collected 287 events in 0.10 seconds.\n",
      "Measurement [2, 2, -1, 1] sent to Clemens\n",
      "Collected 239 events in 0.10 seconds.\n",
      "Measurement [2, 2, -1, 1] sent to Clemens\n",
      "Collected 201 events in 0.10 seconds.\n",
      "Measurement [2, 1, -1, -1] sent to Clemens\n",
      "Collected 233 events in 0.10 seconds.\n",
      "Measurement [2, 2, 1, -1] sent to Clemens\n",
      "Collected 203 events in 0.10 seconds.\n",
      "Measurement [2, 2, 1, -1] sent to Clemens\n",
      "Collected 205 events in 0.10 seconds.\n",
      "Measurement [2, 1, 1, 1] sent to Clemens\n",
      "Collected 209 events in 0.10 seconds.\n",
      "Measurement [2, 1, 1, 1] sent to Clemens\n",
      "Collected 195 events in 0.10 seconds.\n",
      "Measurement [2, 1, -1, -1] sent to Clemens\n",
      "Collected 141 events in 0.10 seconds.\n",
      "Measurement [2, 1, -1, -1] sent to Clemens\n",
      "Collected 194 events in 0.10 seconds.\n",
      "Measurement [2, 1, 1, -1] sent to Clemens\n",
      "Collected 228 events in 0.10 seconds.\n",
      "Measurement [1, 2, 1, 1] sent to Clemens\n",
      "Collected 180 events in 0.10 seconds.\n",
      "Measurement [1, 2, -1, -1] sent to Clemens\n",
      "Collected 199 events in 0.10 seconds.\n",
      "Measurement [2, 2, -1, 1] sent to Clemens\n",
      "Collected 220 events in 0.10 seconds.\n",
      "Measurement [1, 2, -1, -1] sent to Clemens\n",
      "Collected 182 events in 0.10 seconds.\n",
      "Measurement [1, 2, 1, 1] sent to Clemens\n",
      "Collected 210 events in 0.10 seconds.\n",
      "Measurement [2, 2, -1, 1] sent to Clemens\n",
      "Collected 207 events in 0.10 seconds.\n",
      "Measurement [1, 1, 1, -1] sent to Clemens\n",
      "Collected 214 events in 0.10 seconds.\n",
      "Measurement [1, 1, -1, -1] sent to Clemens\n",
      "Collected 189 events in 0.10 seconds.\n",
      "Measurement [1, 2, -1, -1] sent to Clemens\n",
      "Collected 203 events in 0.10 seconds.\n",
      "Measurement [2, 1, -1, 1] sent to Clemens\n",
      "Collected 232 events in 0.10 seconds.\n",
      "Measurement [1, 2, 1, -1] sent to Clemens\n",
      "Collected 201 events in 0.10 seconds.\n",
      "Measurement [1, 2, -1, -1] sent to Clemens\n",
      "Collected 199 events in 0.10 seconds.\n",
      "Measurement [1, 1, -1, -1] sent to Clemens\n",
      "Collected 214 events in 0.10 seconds.\n",
      "Measurement [1, 1, -1, -1] sent to Clemens\n",
      "Collected 197 events in 0.10 seconds.\n",
      "Measurement [2, 2, -1, 1] sent to Clemens\n",
      "Collected 188 events in 0.10 seconds.\n",
      "Measurement [2, 2, 1, -1] sent to Clemens\n",
      "Collected 214 events in 0.10 seconds.\n",
      "Measurement [1, 2, -1, -1] sent to Clemens\n",
      "Collected 207 events in 0.10 seconds.\n",
      "Measurement [2, 1, -1, 1] sent to Clemens\n",
      "Collected 224 events in 0.10 seconds.\n",
      "Measurement [1, 1, -1, -1] sent to Clemens\n",
      "Collected 174 events in 0.10 seconds.\n",
      "Measurement [1, 2, -1, -1] sent to Clemens\n",
      "Collected 204 events in 0.10 seconds.\n",
      "Measurement [1, 2, 1, 1] sent to Clemens\n",
      "Collected 209 events in 0.10 seconds.\n",
      "Measurement [1, 1, 1, 1] sent to Clemens\n",
      "Collected 173 events in 0.10 seconds.\n",
      "Measurement [2, 2, -1, 1] sent to Clemens\n",
      "Collected 201 events in 0.10 seconds.\n",
      "Measurement [2, 1, 1, -1] sent to Clemens\n",
      "Collected 220 events in 0.10 seconds.\n",
      "Measurement [2, 1, 1, -1] sent to Clemens\n",
      "Collected 218 events in 0.10 seconds.\n",
      "Measurement [1, 2, -1, -1] sent to Clemens\n",
      "Collected 197 events in 0.10 seconds.\n",
      "Measurement [2, 2, 1, -1] sent to Clemens\n",
      "Collected 192 events in 0.10 seconds.\n",
      "Measurement [1, 1, 1, 1] sent to Clemens\n",
      "Collected 224 events in 0.10 seconds.\n",
      "Measurement [1, 2, -1, -1] sent to Clemens\n",
      "Collected 204 events in 0.10 seconds.\n",
      "Measurement [1, 2, 1, 1] sent to Clemens\n",
      "Collected 201 events in 0.10 seconds.\n",
      "Measurement [1, 2, 1, 1] sent to Clemens\n",
      "Collected 209 events in 0.10 seconds.\n",
      "Measurement [2, 2, -1, 1] sent to Clemens\n",
      "Collected 221 events in 0.10 seconds.\n",
      "Measurement [2, 1, -1, -1] sent to Clemens\n",
      "Collected 201 events in 0.10 seconds.\n",
      "Measurement [1, 2, -1, -1] sent to Clemens\n",
      "Collected 196 events in 0.10 seconds.\n",
      "Measurement [1, 1, 1, 1] sent to Clemens\n",
      "Collected 176 events in 0.10 seconds.\n",
      "Measurement [2, 2, -1, 1] sent to Clemens\n",
      "Collected 207 events in 0.10 seconds.\n",
      "Measurement [1, 1, -1, -1] sent to Clemens\n",
      "Collected 220 events in 0.10 seconds.\n",
      "Measurement [1, 1, -1, -1] sent to Clemens\n",
      "Collected 217 events in 0.10 seconds.\n",
      "Measurement [2, 1, -1, -1] sent to Clemens\n",
      "Collected 198 events in 0.10 seconds.\n",
      "Measurement [2, 2, 1, -1] sent to Clemens\n",
      "Collected 216 events in 0.10 seconds.\n",
      "Measurement [2, 1, 1, -1] sent to Clemens\n",
      "Collected 204 events in 0.10 seconds.\n",
      "Measurement [1, 1, -1, -1] sent to Clemens\n"
     ]
    }
   ],
   "source": [
    "start_performance()"
   ]
  }
 ],
 "metadata": {
  "kernelspec": {
   "display_name": "Python 3",
   "language": "python",
   "name": "python3"
  },
  "language_info": {
   "codemirror_mode": {
    "name": "ipython",
    "version": 3
   },
   "file_extension": ".py",
   "mimetype": "text/x-python",
   "name": "python",
   "nbconvert_exporter": "python",
   "pygments_lexer": "ipython3",
   "version": "3.11.9"
  }
 },
 "nbformat": 4,
 "nbformat_minor": 2
}
