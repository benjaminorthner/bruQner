{
 "cells": [
  {
   "cell_type": "code",
   "execution_count": 1,
   "metadata": {},
   "outputs": [],
   "source": [
    "import sys\n",
    "sys.path.insert(0, '../')\n",
    "\n",
    "import numpy as np\n",
    "from src.time_tagger import TimeTaggerController, TT_Simulator, two_particle_states\n",
    "from src.kinetic_mount_controller import KineticMountControl\n",
    "from src.osc import OSCCommunicator, OSCTarget\n",
    "import time\n",
    "import threading\n",
    "import random"
   ]
  },
  {
   "cell_type": "markdown",
   "metadata": {},
   "source": [
    "# Setup Mount Controller"
   ]
  },
  {
   "cell_type": "code",
   "execution_count": 2,
   "metadata": {},
   "outputs": [
    {
     "name": "stdout",
     "output_type": "stream",
     "text": [
      "\n",
      "ASSIGNING CONTROLLERS\n",
      "---------------------------------------------------------------\n",
      "Ports Found: ['COM8', 'COM9']\n",
      "---------------------------------------------------------------\n",
      "Device succesfully connected (Rotation Mount) (Address: 0)\n",
      "Device succesfully connected (Rotation Mount) (Address: 0)\n"
     ]
    }
   ],
   "source": [
    "# only run if not already created\n",
    "if 'KMC' not in globals():  \n",
    "    KMC = KineticMountControl(number_of_devices=2, address_search_depth=0)\n",
    "    #KMC.swap_alice_bob()"
   ]
  },
  {
   "cell_type": "code",
   "execution_count": 3,
   "metadata": {},
   "outputs": [],
   "source": [
    "# Init the Time Tagger and the Kinetic Mount Controller\n",
    "TTC = TimeTaggerController()\n",
    "\n",
    "# NOTE Look at the trace, sucessively block each port and assign the channels numbers in the next cell\n",
    "# NOTE afterwards stop and close the graphic\n",
    "#TTC.displayCountTraces()"
   ]
  },
  {
   "cell_type": "code",
   "execution_count": 4,
   "metadata": {},
   "outputs": [],
   "source": [
    "# connect KMC and TTC\n",
    "TTC.setKineticMountController(KMC)\n",
    "# set alice channels\n",
    "TTC.set_alice_reflection_channel(2)\n",
    "TTC.set_alice_transmission_channel(4)\n",
    "# set bob channels\n",
    "TTC.set_bob_reflection_channel(3)\n",
    "TTC.set_bob_transmission_channel(1)\n",
    "\n",
    "\n",
    "# set bob home offset\n",
    "KMC.bob.set_home_offset(-43 % 360)\n",
    "KMC.bob.home()\n",
    "# set alice home offset\n",
    "KMC.alice.set_home_offset(9)\n",
    "KMC.alice.home()\n",
    "\n"
   ]
  },
  {
   "cell_type": "code",
   "execution_count": 5,
   "metadata": {},
   "outputs": [
    {
     "name": "stdout",
     "output_type": "stream",
     "text": [
      "Delays Before Correction\n",
      "Alice_T :     0 ps \t/     0.0 mm\n",
      "Alice_R :   921 ps \t/   276.3 mm\n",
      "Bob_T   :    72 ps \t/    21.6 mm\n",
      "Bob_R   :  -508 ps \t/  -152.4 mm\n",
      "\n",
      "Delays After Correction\n",
      "Alice_T :     0 ps \t/     0.0 mm\n",
      "Alice_R :    21 ps \t/     6.3 mm\n",
      "Bob_T   :     4 ps \t/     1.2 mm\n",
      "Bob_R   :    -7 ps \t/    -2.1 mm\n"
     ]
    }
   ],
   "source": [
    "_ = TTC.performDelayAdjustment(integration_time=5)#, manual_delays=[0, 947, 78, -502])"
   ]
  },
  {
   "cell_type": "code",
   "execution_count": 6,
   "metadata": {},
   "outputs": [],
   "source": [
    "KMC.rotate_simulataneously(0, 0)"
   ]
  },
  {
   "cell_type": "code",
   "execution_count": null,
   "metadata": {},
   "outputs": [],
   "source": []
  },
  {
   "cell_type": "code",
   "execution_count": 7,
   "metadata": {},
   "outputs": [
    {
     "data": {
      "application/vnd.jupyter.widget-view+json": {
       "model_id": "b1bd90bb6124403dae96d6843037be20",
       "version_major": 2,
       "version_minor": 0
      },
      "text/plain": [
       "Output()"
      ]
     },
     "metadata": {},
     "output_type": "display_data"
    },
    {
     "data": {
      "application/vnd.jupyter.widget-view+json": {
       "model_id": "a7f8ac67f298400aa0d0f67f8e06043f",
       "version_major": 2,
       "version_minor": 0
      },
      "text/plain": [
       "Output()"
      ]
     },
     "metadata": {},
     "output_type": "display_data"
    }
   ],
   "source": [
    "n_values = 300\n",
    "trace_width = 2\n",
    "TTC.displayCountTraces(n_values=n_values, trace_width=trace_width, plot_title='<b>Raw Counts<b>')\n",
    "TTC.displayCoincidenceTraces(coincidence_window_SI=0.5e-9, n_values=n_values, trace_width=trace_width, plot_title='<b>Coincidences<b>')"
   ]
  },
  {
   "cell_type": "code",
   "execution_count": 8,
   "metadata": {},
   "outputs": [],
   "source": [
    "KMC.rotate_simulataneously(0, 0, wait_for_completion=False)"
   ]
  },
  {
   "cell_type": "code",
   "execution_count": 9,
   "metadata": {},
   "outputs": [],
   "source": [
    "\n",
    "KMC.rotate_simulataneously(0, 45, wait_for_completion=False)"
   ]
  },
  {
   "cell_type": "code",
   "execution_count": 10,
   "metadata": {},
   "outputs": [],
   "source": [
    "# TODO\n",
    "# coincidence channel handling and destruction\n",
    "#TTC.coincidences_vchannels.getChannels()"
   ]
  },
  {
   "cell_type": "code",
   "execution_count": null,
   "metadata": {},
   "outputs": [],
   "source": []
  },
  {
   "cell_type": "code",
   "execution_count": 11,
   "metadata": {},
   "outputs": [
    {
     "name": "stdout",
     "output_type": "stream",
     "text": [
      "\n",
      "corr[a,b] = 0.50753\n",
      "\tN[|T,T>]=   824\t(0.365)\n",
      "\tN[|T,R>]=   485\t(0.215)\n",
      "\tN[|R,T>]=    71\t(0.031)\n",
      "\tN[|R,R>]=   878\t(0.389)\n",
      "\n",
      "corr[a,B] = 0.54452\n",
      "\tN[|T,T>]=   869\t(0.389)\n",
      "\tN[|T,R>]=   389\t(0.174)\n",
      "\tN[|R,T>]=   120\t(0.054)\n",
      "\tN[|R,R>]=   857\t(0.383)\n",
      "\n",
      "corr[A,b] = 0.38002\n",
      "\tN[|T,T>]=   624\t(0.230)\n",
      "\tN[|T,R>]=   453\t(0.167)\n",
      "\tN[|R,T>]=   388\t(0.143)\n",
      "\tN[|R,R>]=  1248\t(0.460)\n",
      "\n",
      "corr[A,B] = -0.72674\n",
      "\tN[|T,T>]=   237\t(0.086)\n",
      "\tN[|T,R>]=  1512\t(0.549)\n",
      "\tN[|R,T>]=   864\t(0.314)\n",
      "\tN[|R,R>]=   139\t(0.051)\n",
      "\n",
      "S = abs(corrs[0,0] + corrs[0,1] + corrs[1,0] - corrs[1,1]) = 2.1588141039822593\n"
     ]
    }
   ],
   "source": [
    "# TODO This kills the coincidence channels in the visualisation. Needs to be worked on\n",
    "idealAngles = [0, -22.5, 11.25, -11.25] # for triplett |HH> - |VV> initial state\n",
    "johannes_ideal_angles = [0, 45/2, -22.5/2, 22.5/2]\n",
    "johannes_classical_angles = [0, 45/2, -90/2, -45/2]\n",
    "TTC.measureS(CHSH_angles=idealAngles, integration_time_per_basis_setting_SI=1, TTSimulator=None, coincidence_window_SI=0.5e-9, debug=True)\n"
   ]
  },
  {
   "cell_type": "code",
   "execution_count": 12,
   "metadata": {},
   "outputs": [
    {
     "name": "stdout",
     "output_type": "stream",
     "text": [
      "SPCM Pairs: ['TT', 'TR', 'RT', 'RR']\n",
      "\n",
      "corr[a,b] = [ 0.628 -0.612 -0.652  0.626]\n",
      "\tN[a , b ]=[809 491  81 881]\n",
      "\tN[a , b ]=[ 164 2135  467  187]\n",
      "\tN[a , b ]=[ 135 1450 1020  513]\n",
      "\tN[a , b ]=[ 499  373  232 2160]\n",
      "\n",
      "corr[a,B] = [ 0.736 -0.704 -0.7    0.683]\n",
      "\tN[a , B ]=[840 380 101 895]\n",
      "\tN[a , B ]=[ 124 2197  403  211]\n",
      "\tN[a , B ]=[  87 1616 1048  369]\n",
      "\tN[a , B ]=[ 550  282  155 2179]\n",
      "\n",
      "corr[A,b] = [ 0.417 -0.457 -0.488  0.539]\n",
      "\tN[A , b ]=[ 606  467  390 1287]\n",
      "\tN[A , b ]=[ 168 1717  621  749]\n",
      "\tN[A , b ]=[ 311 1569  724  128]\n",
      "\tN[A , b ]=[ 557  758   73 1639]\n",
      "\n",
      "corr[A,B] = [-0.488  0.479  0.581 -0.594]\n",
      "\tN[A , B ]=[ 241 1421  973  109]\n",
      "\tN[A , B ]=[ 529  690   64 1818]\n",
      "\tN[A , B ]=[ 686  455  324 1086]\n",
      "\tN[A , B ]=[ 177 1830  491  630]\n",
      "\n",
      "S = abs(corrs[0,0] + corrs[0,1] + corrs[1,0] - corrs[1,1]) = TT, TR, RT, RR : [2.26891673 2.25168725 2.42110618 2.44138378]\n"
     ]
    }
   ],
   "source": [
    "TTC.measure_S_with_two_ports(CHSH_angles=idealAngles, debug=True)"
   ]
  },
  {
   "cell_type": "code",
   "execution_count": 13,
   "metadata": {},
   "outputs": [
    {
     "name": "stdout",
     "output_type": "stream",
     "text": [
      "\n",
      "corr[a,b] = 0.6956\n",
      "\tN[|T,T>]=  2135\t(0.427)\n",
      "\tN[|T,R>]=   361\t(0.072)\n",
      "\tN[|R,T>]=   400\t(0.080)\n",
      "\tN[|R,R>]=  2104\t(0.421)\n",
      "\n",
      "corr[a,B] = 0.7004\n",
      "\tN[|T,T>]=  2137\t(0.427)\n",
      "\tN[|T,R>]=   383\t(0.077)\n",
      "\tN[|R,T>]=   366\t(0.073)\n",
      "\tN[|R,R>]=  2114\t(0.423)\n",
      "\n",
      "corr[A,b] = -0.6964\n",
      "\tN[|T,T>]=   376\t(0.075)\n",
      "\tN[|T,R>]=  2114\t(0.423)\n",
      "\tN[|R,T>]=  2127\t(0.425)\n",
      "\tN[|R,R>]=   383\t(0.077)\n",
      "\n",
      "corr[A,B] = 0.7144\n",
      "\tN[|T,T>]=  2208\t(0.442)\n",
      "\tN[|T,R>]=   345\t(0.069)\n",
      "\tN[|R,T>]=   369\t(0.074)\n",
      "\tN[|R,R>]=  2078\t(0.416)\n",
      "\n",
      "S = abs(corrs[0,0] + corrs[0,1] + corrs[1,0] - corrs[1,1]) = 0.014800000000000146\n"
     ]
    }
   ],
   "source": [
    "SimulatorPhiPlus = TT_Simulator(two_particle_states['phi_plus'], initial_state_noise=0.00, debug=False)\n",
    "SimulatorPhiMinus = TT_Simulator(two_particle_states['phi_minus'], initial_state_noise=0.00, debug=False)\n",
    "TTC.measureS(CHSH_angles=idealAngles, integration_time_per_basis_setting_SI=1, TTSimulator=SimulatorPhiPlus, coincidence_window_SI=0.5e-9)"
   ]
  },
  {
   "cell_type": "markdown",
   "metadata": {},
   "source": [
    "# OSC Server Setup\n"
   ]
  },
  {
   "cell_type": "code",
   "execution_count": 18,
   "metadata": {},
   "outputs": [],
   "source": [
    "my_ip = '192.168.0.2'\n",
    "my_port = 7401 \n",
    "clemens_port = 7401\n",
    "visual_port = 7403\n",
    "\n",
    "if 'OSC' not in globals():\n",
    "    OSC = OSCCommunicator(my_ip=my_ip, my_port=my_port)\n",
    "\n",
    "Myself = OSCTarget(ip=my_ip, port=my_port, name='Myself')\n",
    "Clemens = OSCTarget(ip='192.168.0.3', port=clemens_port, name='Clemens')\n",
    "Visuals = OSCTarget(ip=my_ip, port=visual_port, name='Visuals')\n",
    "\n",
    "# Start the server\n",
    "OSC.start_server()"
   ]
  },
  {
   "cell_type": "code",
   "execution_count": 19,
   "metadata": {},
   "outputs": [
    {
     "name": "stdout",
     "output_type": "stream",
     "text": [
      "Measurement [1, 2, 3, 4] sent to Clemens\n"
     ]
    }
   ],
   "source": [
    "# Send measurements\n",
    "measurement_results = [1, 2, 3, 4]\n",
    "OSC.send_measurement(target=Clemens, measurement_results=measurement_results)\n"
   ]
  },
  {
   "cell_type": "code",
   "execution_count": 20,
   "metadata": {},
   "outputs": [
    {
     "name": "stdout",
     "output_type": "stream",
     "text": [
      "Measurement hi sent to Visuals\n"
     ]
    }
   ],
   "source": [
    "OSC.send_visuals(target=Visuals, measurement_results=\"hi\")"
   ]
  },
  {
   "cell_type": "code",
   "execution_count": 21,
   "metadata": {},
   "outputs": [],
   "source": [
    "# Global flag to control the loop\n",
    "performance_running = False\n",
    "resultTranslate = {0 : [1, 1],\n",
    "                   1 : [1, -1],\n",
    "                   2 : [-1, 1],\n",
    "                   3 : [-1, -1]}\n",
    "# a A b B\n",
    "Q_angles = [0, -22.5, 11.5, -11.5]\n",
    "C_angles = [0, 22.5, -45, -22.5]\n",
    "\n",
    "                    # ab, aB, Ab, AB\n",
    "angle_pair_dict = {'Q_all':[(0, 11.5), (0, -11.5), (-22.5, 11.5), (-22.5, -11.5)],\n",
    "                    # ab, AB\n",
    "                   'Q_diagonal': [(0, -11.5), (-22.5, -11.5)],\n",
    "                    # ab, AB\n",
    "                   'C_diagonal': [(0, -45), (22.5, -22.5)],\n",
    "                    # AB\n",
    "                   'C_single': [(-45, -22.5)],\n",
    "                   }\n",
    "\n",
    "def performance_cycle():\n",
    "    \"\"\"The function you want to execute repeatedly.\"\"\"\n",
    "    global performance_running\n",
    "    \n",
    "    time_of_last_visual = time.time()\n",
    "    while performance_running:\n",
    "        theta_a, theta_b = random.choice(angle_pair_dict[OSC.currently_selected_state])\n",
    "        \n",
    "        measurement_results = TTC.get_single_measurement(theta_a, theta_b)\n",
    "        \n",
    "        # check if setup is measuring Quantum or Classical angles for conversion to clemens format        \n",
    "        if OSC.currently_selected_state[0] == 'Q':\n",
    "            check_angles = Q_angles\n",
    "        elif OSC.currently_selected_state[0] == 'C':\n",
    "            check_angles = C_angles\n",
    "\n",
    "        resultClemensFormat = [1 if theta_a == check_angles[0] else 2, 1 if theta_b == check_angles[2] else 2 ,*resultTranslate[measurement_results]]\n",
    "\n",
    "        OSC.send_measurement(Clemens, resultClemensFormat)\n",
    "\n",
    "        #if time.time() - time_of_last_visual > 7:\n",
    "        #    OSC.send_visuals(Visuals, resultClemensFormat)\n",
    "        #    time_of_last_visual = time.time()\n",
    "\n",
    "\n",
    "def start_performance():\n",
    "    \"\"\"Starts the task in a separate thread.\"\"\"\n",
    "    global performance_running\n",
    "    performance_running = True  # Ensure the loop is enabled\n",
    "    task_thread = threading.Thread(target=performance_cycle, daemon=True)\n",
    "    task_thread.start()\n",
    "\n",
    "def stop_performance():\n",
    "    \"\"\"Signals the task to stop gracefully.\"\"\"\n",
    "    global performance_running\n",
    "    performance_running = False\n",
    "    print('performance stopped...')\n"
   ]
  },
  {
   "cell_type": "code",
   "execution_count": 25,
   "metadata": {},
   "outputs": [],
   "source": [
    "Myself.client.send_message(\"/bruQner/set/state\", 'C_single')"
   ]
  },
  {
   "cell_type": "code",
   "execution_count": 26,
   "metadata": {},
   "outputs": [
    {
     "name": "stdout",
     "output_type": "stream",
     "text": [
      "performance stopped...\n"
     ]
    }
   ],
   "source": [
    "stop_performance()"
   ]
  },
  {
   "cell_type": "code",
   "execution_count": 22,
   "metadata": {},
   "outputs": [
    {
     "name": "stdout",
     "output_type": "stream",
     "text": [
      "Q_all\n",
      "Measurement [1, 2, -1, -1] sent to Clemens\n",
      "Q_all\n",
      "Measurement [2, 1, -1, -1] sent to Clemens\n",
      "Q_all\n",
      "Measurement [1, 2, -1, -1] sent to Clemens\n",
      "Q_all\n",
      "Measurement [2, 2, -1, -1] sent to Clemens\n",
      "Q_all\n",
      "Measurement [2, 2, 1, 1] sent to Clemens\n",
      "Q_all\n",
      "Measurement [1, 1, 1, 1] sent to Clemens\n",
      "Q_all\n",
      "Measurement [1, 1, 1, 1] sent to Clemens\n",
      "Q_diagonal\n",
      "Measurement [2, 2, 1, -1] sent to Clemens\n",
      "Q_diagonal\n",
      "Measurement [1, 2, -1, -1] sent to Clemens\n",
      "Q_diagonal\n",
      "Measurement [1, 2, 1, 1] sent to Clemens\n",
      "Q_diagonal\n",
      "Measurement [2, 2, 1, -1] sent to Clemens\n",
      "Q_diagonal\n",
      "Measurement [1, 2, -1, 1] sent to Clemens\n",
      "Q_diagonal\n",
      "Measurement [1, 2, 1, 1] sent to Clemens\n",
      "Q_diagonal\n",
      "Measurement [1, 2, 1, -1] sent to Clemens\n",
      "Q_diagonal\n",
      "Measurement [1, 2, 1, 1] sent to Clemens\n",
      "Q_diagonal\n",
      "Measurement [2, 2, 1, -1] sent to Clemens\n",
      "Q_diagonal\n",
      "Measurement [2, 2, -1, 1] sent to Clemens\n",
      "Q_diagonal\n",
      "Measurement [1, 2, -1, -1] sent to Clemens\n",
      "Q_diagonal\n",
      "Measurement [1, 2, 1, 1] sent to Clemens\n",
      "Q_diagonal\n",
      "Measurement [1, 2, 1, -1] sent to Clemens\n",
      "Q_diagonal\n",
      "Measurement [2, 2, 1, 1] sent to Clemens\n",
      "Q_diagonal\n",
      "Measurement [2, 2, 1, 1] sent to Clemens\n",
      "Q_diagonal\n",
      "Measurement [1, 2, -1, -1] sent to Clemens\n",
      "Q_diagonal\n",
      "Measurement [2, 2, 1, -1] sent to Clemens\n",
      "Q_diagonal\n",
      "Measurement [2, 2, 1, -1] sent to Clemens\n",
      "Q_diagonal\n",
      "Measurement [1, 2, -1, -1] sent to Clemens\n",
      "Q_diagonal\n",
      "Measurement [1, 2, 1, 1] sent to Clemens\n",
      "Q_diagonal\n",
      "Measurement [1, 2, 1, -1] sent to Clemens\n",
      "Q_diagonal\n",
      "Measurement [2, 2, 1, -1] sent to Clemens\n",
      "Q_diagonal\n",
      "Measurement [2, 2, -1, 1] sent to Clemens\n",
      "Q_diagonal\n",
      "Measurement [1, 2, 1, 1] sent to Clemens\n",
      "Q_diagonal\n",
      "Measurement [1, 2, 1, -1] sent to Clemens\n",
      "C_single\n",
      "Measurement [2, 2, -1, 1] sent to Clemens\n",
      "C_single\n",
      "Measurement [2, 2, -1, -1] sent to Clemens\n",
      "C_single\n",
      "Measurement [2, 2, -1, -1] sent to Clemens\n",
      "C_single\n",
      "Measurement [2, 2, -1, -1] sent to Clemens\n",
      "C_single\n",
      "Measurement [2, 2, -1, -1] sent to Clemens\n",
      "C_single\n",
      "Measurement [2, 2, -1, -1] sent to Clemens\n",
      "C_single\n",
      "Measurement [2, 2, -1, 1] sent to Clemens\n",
      "C_single\n",
      "Measurement [2, 2, -1, 1] sent to Clemens\n",
      "C_single\n",
      "Measurement [2, 2, -1, -1] sent to Clemens\n",
      "C_single\n",
      "Measurement [2, 2, -1, 1] sent to Clemens\n",
      "C_single\n",
      "Measurement [2, 2, -1, -1] sent to Clemens\n",
      "C_single\n",
      "Measurement [2, 2, 1, 1] sent to Clemens\n",
      "C_single\n",
      "Measurement [2, 2, -1, 1] sent to Clemens\n",
      "C_single\n",
      "Measurement [2, 2, 1, -1] sent to Clemens\n",
      "C_single\n",
      "Measurement [2, 2, -1, 1] sent to Clemens\n",
      "C_single\n",
      "Measurement [2, 2, -1, -1] sent to Clemens\n",
      "C_single\n",
      "Measurement [2, 2, 1, -1] sent to Clemens\n",
      "C_single\n",
      "Measurement [2, 2, 1, -1] sent to Clemens\n",
      "C_single\n",
      "Measurement [2, 2, -1, -1] sent to Clemens\n",
      "C_single\n",
      "Measurement [2, 2, 1, 1] sent to Clemens\n",
      "C_single\n",
      "Measurement [2, 2, -1, 1] sent to Clemens\n",
      "C_single\n",
      "Measurement [2, 2, 1, -1] sent to Clemens\n",
      "C_single\n",
      "Measurement [2, 2, -1, 1] sent to Clemens\n",
      "C_single\n",
      "Measurement [2, 2, -1, -1] sent to Clemens\n",
      "C_single\n",
      "Measurement [2, 2, -1, 1] sent to Clemens\n",
      "C_single\n",
      "Measurement [2, 2, 1, -1] sent to Clemens\n",
      "C_single\n",
      "Measurement [2, 2, -1, -1] sent to Clemens\n",
      "C_single\n",
      "Measurement [2, 2, 1, -1] sent to Clemens\n",
      "C_single\n",
      "Measurement [2, 2, -1, 1] sent to Clemens\n",
      "C_single\n",
      "Measurement [2, 2, 1, -1] sent to Clemens\n",
      "C_single\n",
      "Measurement [2, 2, -1, 1] sent to Clemens\n",
      "C_single\n",
      "Measurement [2, 2, 1, -1] sent to Clemens\n",
      "C_single\n",
      "Measurement [2, 2, -1, 1] sent to Clemens\n",
      "C_single\n",
      "Measurement [2, 2, -1, -1] sent to Clemens\n",
      "C_single\n",
      "Measurement [2, 2, -1, 1] sent to Clemens\n",
      "C_single\n",
      "Measurement [2, 2, -1, 1] sent to Clemens\n"
     ]
    },
    {
     "name": "stderr",
     "output_type": "stream",
     "text": [
      "Exception in thread Thread-84 (performance_cycle):\n",
      "Traceback (most recent call last):\n",
      "  File \"C:\\Program Files\\WindowsApps\\PythonSoftwareFoundation.Python.3.10_3.10.3056.0_x64__qbz5n2kfra8p0\\lib\\threading.py\", line 1016, in _bootstrap_inner\n",
      "    self.run()\n",
      "  File \"C:\\Users\\ghana\\AppData\\Local\\Packages\\PythonSoftwareFoundation.Python.3.10_qbz5n2kfra8p0\\LocalCache\\local-packages\\Python310\\site-packages\\ipykernel\\ipkernel.py\", line 766, in run_closure\n",
      "    _threading_Thread_run(self)\n",
      "  File \"C:\\Program Files\\WindowsApps\\PythonSoftwareFoundation.Python.3.10_3.10.3056.0_x64__qbz5n2kfra8p0\\lib\\threading.py\", line 953, in run\n",
      "    self._target(*self._args, **self._kwargs)\n",
      "  File \"C:\\Users\\ghana\\AppData\\Local\\Temp\\ipykernel_9904\\2309637255.py\", line 27, in performance_cycle\n",
      "KeyError: 'C_opas'\n"
     ]
    },
    {
     "name": "stdout",
     "output_type": "stream",
     "text": [
      "C_opas\n",
      "Measurement [2, 2, -1, -1] sent to Clemens\n"
     ]
    }
   ],
   "source": [
    "start_performance()"
   ]
  }
 ],
 "metadata": {
  "kernelspec": {
   "display_name": "Python 3",
   "language": "python",
   "name": "python3"
  },
  "language_info": {
   "codemirror_mode": {
    "name": "ipython",
    "version": 3
   },
   "file_extension": ".py",
   "mimetype": "text/x-python",
   "name": "python",
   "nbconvert_exporter": "python",
   "pygments_lexer": "ipython3",
   "version": "3.10.11"
  }
 },
 "nbformat": 4,
 "nbformat_minor": 2
}
