{
 "cells": [
  {
   "cell_type": "code",
   "execution_count": 1,
   "metadata": {},
   "outputs": [],
   "source": [
    "import sys\n",
    "sys.path.insert(0, '../')\n",
    "\n",
    "import numpy as np\n",
    "from src.time_tagger import TimeTaggerController, TT_Simulator, two_particle_states\n",
    "from src.kinetic_mount_controller import KineticMountControl\n",
    "from src.osc import OSCCommunicator, OSCTarget\n",
    "import time\n",
    "import threading\n",
    "import random"
   ]
  },
  {
   "cell_type": "markdown",
   "metadata": {},
   "source": [
    "# Setup Mount Controller"
   ]
  },
  {
   "cell_type": "code",
   "execution_count": 2,
   "metadata": {},
   "outputs": [
    {
     "name": "stdout",
     "output_type": "stream",
     "text": [
      "\n",
      "ASSIGNING CONTROLLERS\n",
      "---------------------------------------------------------------\n",
      "Ports Found: ['COM8', 'COM9']\n",
      "---------------------------------------------------------------\n",
      "Device succesfully connected (Rotation Mount) (Address: 0)\n",
      "Device succesfully connected (Rotation Mount) (Address: 0)\n"
     ]
    }
   ],
   "source": [
    "# only run if not already created\n",
    "if 'KMC' not in globals():  \n",
    "    KMC = KineticMountControl(number_of_devices=2, address_search_depth=0)\n",
    "    #KMC.swap_alice_bob()"
   ]
  },
  {
   "cell_type": "code",
   "execution_count": 3,
   "metadata": {},
   "outputs": [],
   "source": [
    "# Init the Time Tagger and the Kinetic Mount Controller\n",
    "TTC = TimeTaggerController()\n",
    "\n",
    "# NOTE Look at the trace, sucessively block each port and assign the channels numbers in the next cell\n",
    "# NOTE afterwards stop and close the graphic\n",
    "#TTC.displayCountTraces()"
   ]
  },
  {
   "cell_type": "code",
   "execution_count": 4,
   "metadata": {},
   "outputs": [],
   "source": [
    "# connect KMC and TTC\n",
    "TTC.setKineticMountController(KMC)\n",
    "# set alice channels\n",
    "TTC.set_alice_reflection_channel(3)\n",
    "TTC.set_alice_transmission_channel(2)\n",
    "# set bob channels\n",
    "TTC.set_bob_reflection_channel(4)\n",
    "TTC.set_bob_transmission_channel(1)\n",
    "\n",
    "\n",
    "# set bob home offset\n",
    "KMC.bob.set_home_offset(-43 % 360)\n",
    "KMC.bob.home()\n",
    "# set alice home offset\n",
    "KMC.alice.set_home_offset(9)\n",
    "KMC.alice.home()\n",
    "\n"
   ]
  },
  {
   "cell_type": "code",
   "execution_count": 79,
   "metadata": {},
   "outputs": [
    {
     "name": "stdout",
     "output_type": "stream",
     "text": [
      "Delays Before Correction\n",
      "Alice_T :     0 ps \t/     0.0 mm\n",
      "Alice_R :   899 ps \t/   269.7 mm\n",
      "Bob_T   :    30 ps \t/     9.0 mm\n",
      "Bob_R   :  -607 ps \t/  -182.1 mm\n",
      "\n",
      "Delays After Correction\n",
      "Alice_T :     0 ps \t/     0.0 mm\n",
      "Alice_R :    13 ps \t/     3.9 mm\n",
      "Bob_T   :     8 ps \t/     2.4 mm\n",
      "Bob_R   :    -6 ps \t/    -1.8 mm\n"
     ]
    }
   ],
   "source": [
    "_ = TTC.performDelayAdjustment(integration_time=5)#, manual_delays=[0, 947, 78, -502])"
   ]
  },
  {
   "cell_type": "code",
   "execution_count": 66,
   "metadata": {},
   "outputs": [],
   "source": [
    "KMC.rotate_simulataneously(0, 0)"
   ]
  },
  {
   "cell_type": "code",
   "execution_count": 65,
   "metadata": {},
   "outputs": [],
   "source": [
    "KMC.rotate_simulataneously(0, 45)"
   ]
  },
  {
   "cell_type": "code",
   "execution_count": 80,
   "metadata": {},
   "outputs": [
    {
     "data": {
      "application/vnd.jupyter.widget-view+json": {
       "model_id": "4a5b55656f8d4eeea3c0ca3b033fccb6",
       "version_major": 2,
       "version_minor": 0
      },
      "text/plain": [
       "Output()"
      ]
     },
     "metadata": {},
     "output_type": "display_data"
    },
    {
     "data": {
      "application/vnd.jupyter.widget-view+json": {
       "model_id": "de3306429b604f5f9c7f2b224a57d129",
       "version_major": 2,
       "version_minor": 0
      },
      "text/plain": [
       "Output()"
      ]
     },
     "metadata": {},
     "output_type": "display_data"
    },
    {
     "name": "stderr",
     "output_type": "stream",
     "text": [
      "No such comm: acade09712ab4287a6f142641d078b9f\n",
      "No such comm: 323091dc029c4f84a755060e00d6c506\n"
     ]
    }
   ],
   "source": [
    "n_values = 300\n",
    "trace_width = 2\n",
    "TTC.displayCountTraces(n_values=n_values, trace_width=trace_width, plot_title='<b>Raw Counts<b>')\n",
    "TTC.displayCoincidenceTraces(coincidence_window_SI=0.5e-9, n_values=n_values, trace_width=trace_width, plot_title='<b>Coincidences<b>')"
   ]
  },
  {
   "cell_type": "code",
   "execution_count": 73,
   "metadata": {},
   "outputs": [],
   "source": [
    "KMC.rotate_simulataneously(0, 0, wait_for_completion=False)"
   ]
  },
  {
   "cell_type": "code",
   "execution_count": 75,
   "metadata": {},
   "outputs": [],
   "source": [
    "\n",
    "KMC.rotate_simulataneously(0, 45, wait_for_completion=False)"
   ]
  },
  {
   "cell_type": "code",
   "execution_count": 10,
   "metadata": {},
   "outputs": [],
   "source": [
    "# TODO\n",
    "# coincidence channel handling and destruction\n",
    "#TTC.coincidences_vchannels.getChannels()"
   ]
  },
  {
   "cell_type": "code",
   "execution_count": null,
   "metadata": {},
   "outputs": [],
   "source": []
  },
  {
   "cell_type": "code",
   "execution_count": 86,
   "metadata": {},
   "outputs": [
    {
     "name": "stdout",
     "output_type": "stream",
     "text": [
      "\n",
      "corr[a,b] = 0.96135\n",
      "\tN[|T,T>]=  1029\t(0.343)\n",
      "\tN[|T,R>]=    16\t(0.005)\n",
      "\tN[|R,T>]=    42\t(0.014)\n",
      "\tN[|R,R>]=  1914\t(0.638)\n",
      "\n",
      "corr[a,B] = 0.01289\n",
      "\tN[|T,T>]=   519\t(0.176)\n",
      "\tN[|T,R>]=   782\t(0.265)\n",
      "\tN[|R,T>]=   673\t(0.228)\n",
      "\tN[|R,R>]=   974\t(0.330)\n",
      "\n",
      "corr[A,b] = -0.12336\n",
      "\tN[|T,T>]=   301\t(0.107)\n",
      "\tN[|T,R>]=   810\t(0.288)\n",
      "\tN[|R,T>]=   770\t(0.274)\n",
      "\tN[|R,R>]=   932\t(0.331)\n",
      "\n",
      "corr[A,B] = -0.55873\n",
      "\tN[|T,T>]=   151\t(0.054)\n",
      "\tN[|T,R>]=  1070\t(0.382)\n",
      "\tN[|R,T>]=  1113\t(0.397)\n",
      "\tN[|R,R>]=   467\t(0.167)\n",
      "\n",
      "S = abs(corrs[0,0] + corrs[0,1] + corrs[1,0] - corrs[1,1]) = 1.4096094904058236\n"
     ]
    }
   ],
   "source": [
    "# TODO This kills the coincidence channels in the visualisation. Needs to be worked on\n",
    "idealAngles = [0, -22.5, 11.25, -11.25] # for triplett |HH> - |VV> initial state\n",
    "johannes_ideal_angles = [0, 45/2, -22.5/2, 22.5/2]\n",
    "johannes_classical_angles = [0, 45/2, 90/2, 45/2]\n",
    "TTC.measureS(CHSH_angles=johannes_classical_angles, integration_time_per_basis_setting_SI=1, TTSimulator=None, coincidence_window_SI=0.5e-9, debug=True)\n"
   ]
  },
  {
   "cell_type": "code",
   "execution_count": 5,
   "metadata": {},
   "outputs": [
    {
     "ename": "NameError",
     "evalue": "name 'TTC' is not defined",
     "output_type": "error",
     "traceback": [
      "\u001b[1;31m---------------------------------------------------------------------------\u001b[0m",
      "\u001b[1;31mNameError\u001b[0m                                 Traceback (most recent call last)",
      "Cell \u001b[1;32mIn[5], line 1\u001b[0m\n\u001b[1;32m----> 1\u001b[0m \u001b[43mTTC\u001b[49m\u001b[38;5;241m.\u001b[39mmeasure_S_with_two_ports(CHSH_angles\u001b[38;5;241m=\u001b[39midealAngles, debug\u001b[38;5;241m=\u001b[39m\u001b[38;5;28;01mTrue\u001b[39;00m)\n",
      "\u001b[1;31mNameError\u001b[0m: name 'TTC' is not defined"
     ]
    }
   ],
   "source": [
    "TTC.measure_S_with_two_ports(CHSH_angles=idealAngles, debug=True)"
   ]
  },
  {
   "cell_type": "code",
   "execution_count": 6,
   "metadata": {},
   "outputs": [
    {
     "ename": "NameError",
     "evalue": "name 'TTC' is not defined",
     "output_type": "error",
     "traceback": [
      "\u001b[1;31m---------------------------------------------------------------------------\u001b[0m",
      "\u001b[1;31mNameError\u001b[0m                                 Traceback (most recent call last)",
      "Cell \u001b[1;32mIn[6], line 3\u001b[0m\n\u001b[0;32m      1\u001b[0m SimulatorPhiPlus \u001b[38;5;241m=\u001b[39m TT_Simulator(two_particle_states[\u001b[38;5;124m'\u001b[39m\u001b[38;5;124mphi_plus\u001b[39m\u001b[38;5;124m'\u001b[39m], initial_state_noise\u001b[38;5;241m=\u001b[39m\u001b[38;5;241m0.00\u001b[39m, debug\u001b[38;5;241m=\u001b[39m\u001b[38;5;28;01mFalse\u001b[39;00m)\n\u001b[0;32m      2\u001b[0m SimulatorPhiMinus \u001b[38;5;241m=\u001b[39m TT_Simulator(two_particle_states[\u001b[38;5;124m'\u001b[39m\u001b[38;5;124mphi_minus\u001b[39m\u001b[38;5;124m'\u001b[39m], initial_state_noise\u001b[38;5;241m=\u001b[39m\u001b[38;5;241m0.00\u001b[39m, debug\u001b[38;5;241m=\u001b[39m\u001b[38;5;28;01mFalse\u001b[39;00m)\n\u001b[1;32m----> 3\u001b[0m \u001b[43mTTC\u001b[49m\u001b[38;5;241m.\u001b[39mmeasureS(CHSH_angles\u001b[38;5;241m=\u001b[39midealAngles, integration_time_per_basis_setting_SI\u001b[38;5;241m=\u001b[39m\u001b[38;5;241m1\u001b[39m, TTSimulator\u001b[38;5;241m=\u001b[39mSimulatorPhiPlus, coincidence_window_SI\u001b[38;5;241m=\u001b[39m\u001b[38;5;241m0.5e-9\u001b[39m)\n",
      "\u001b[1;31mNameError\u001b[0m: name 'TTC' is not defined"
     ]
    }
   ],
   "source": [
    "SimulatorPhiPlus = TT_Simulator(two_particle_states['phi_plus'], initial_state_noise=0.00, debug=False)\n",
    "SimulatorPhiMinus = TT_Simulator(two_particle_states['phi_minus'], initial_state_noise=0.00, debug=False)\n",
    "TTC.measureS(CHSH_angles=idealAngles, integration_time_per_basis_setting_SI=1, TTSimulator=SimulatorPhiPlus, coincidence_window_SI=0.5e-9)"
   ]
  },
  {
   "cell_type": "markdown",
   "metadata": {},
   "source": [
    "# OSC Server Setup\n"
   ]
  },
  {
   "cell_type": "code",
   "execution_count": 7,
   "metadata": {},
   "outputs": [
    {
     "name": "stdout",
     "output_type": "stream",
     "text": [
      "OSC Server Started. Serving on ('192.168.0.2', 7401)\n",
      "----------------------------------------------------\n"
     ]
    },
    {
     "name": "stdout",
     "output_type": "stream",
     "text": [
      "Received OSC_message: ('Q_all',)\n",
      "Received OSC_message: ('Q_all',)\n",
      "Received OSC_message: ('Q_all',)\n",
      "Received OSC_message: ('Q_all',)\n",
      "Received OSC_message: ('Q_all',)\n"
     ]
    }
   ],
   "source": [
    "my_ip = '192.168.0.2'\n",
    "my_port = 7401 \n",
    "clemens_port = 7401\n",
    "visual_port = 7403\n",
    "\n",
    "if 'OSC' not in globals():\n",
    "    OSC = OSCCommunicator(my_ip=my_ip, my_port=my_port)\n",
    "\n",
    "Myself = OSCTarget(ip=my_ip, port=my_port, name='Myself')\n",
    "Clemens = OSCTarget(ip='192.168.0.3', port=clemens_port, name='Clemens')\n",
    "Visuals = OSCTarget(ip=my_ip, port=visual_port, name='Visuals')\n",
    "\n",
    "# Start the server\n",
    "OSC.start_server()"
   ]
  },
  {
   "cell_type": "code",
   "execution_count": 8,
   "metadata": {},
   "outputs": [
    {
     "name": "stdout",
     "output_type": "stream",
     "text": [
      "Measurement [1, 2, 3, 4] sent to Clemens\n"
     ]
    }
   ],
   "source": [
    "# Send measurements\n",
    "measurement_results = [1, 2, 3, 4]\n",
    "OSC.send_measurement(target=Clemens, measurement_results=measurement_results)\n"
   ]
  },
  {
   "cell_type": "code",
   "execution_count": 9,
   "metadata": {},
   "outputs": [
    {
     "name": "stdout",
     "output_type": "stream",
     "text": [
      "Measurement hi sent to Visuals\n"
     ]
    }
   ],
   "source": [
    "OSC.send_visuals(target=Visuals, measurement_results=\"hi\")"
   ]
  },
  {
   "cell_type": "code",
   "execution_count": 12,
   "metadata": {},
   "outputs": [],
   "source": [
    "# Global flag to control the loop\n",
    "performance_running = False\n",
    "resultTranslate = {0 : [1, 1],\n",
    "                   1 : [1, -1],\n",
    "                   2 : [-1, 1],\n",
    "                   3 : [-1, -1]}\n",
    "# a A b B\n",
    "Q_angles = [0, -22.5, 11.5, -11.5]\n",
    "C_angles = [0, 22.5, -45, -22.5]\n",
    "\n",
    "                    # ab, aB, Ab, AB\n",
    "angle_pair_dict = {'Q_all':[(0, 11.5), (0, -11.5), (-22.5, 11.5), (-22.5, -11.5)],\n",
    "                    # ab, AB\n",
    "                   'Q_diagonal': [(0, -11.5), (-22.5, -11.5)],\n",
    "                    # ab, AB\n",
    "                   'C_diagonal': [(0, -45), (22.5, -22.5)],\n",
    "                    # AB\n",
    "                   'C_single': [(-45, -22.5)],\n",
    "                   }\n",
    "\n",
    "def performance_cycle():\n",
    "    \"\"\"The function you want to execute repeatedly.\"\"\"\n",
    "    global performance_running\n",
    "    \n",
    "    time_of_last_visual = time.time()\n",
    "    while performance_running:\n",
    "        theta_a, theta_b = random.choice(angle_pair_dict[OSC.currently_selected_state])\n",
    "        \n",
    "        measurement_results = TTC.get_single_measurement(theta_a, theta_b)\n",
    "        \n",
    "        # check if setup is measuring Quantum or Classical angles for conversion to clemens format        \n",
    "        if OSC.currently_selected_state[0] == 'Q':\n",
    "            check_angles = Q_angles\n",
    "        elif OSC.currently_selected_state[0] == 'C':\n",
    "            check_angles = C_angles\n",
    "\n",
    "        resultClemensFormat = [1 if theta_a == check_angles[0] else 2, 1 if theta_b == check_angles[2] else 2 ,*resultTranslate[measurement_results]]\n",
    "\n",
    "        OSC.send_measurement(Clemens, resultClemensFormat)\n",
    "\n",
    "        #if time.time() - time_of_last_visual > 7:\n",
    "        #    OSC.send_visuals(Visuals, resultClemensFormat)\n",
    "        #    time_of_last_visual = time.time()\n",
    "\n",
    "\n",
    "def start_performance():\n",
    "    \"\"\"Starts the task in a separate thread.\"\"\"\n",
    "    global performance_running\n",
    "    performance_running = True  # Ensure the loop is enabled\n",
    "    task_thread = threading.Thread(target=performance_cycle, daemon=True)\n",
    "    task_thread.start()\n",
    "\n",
    "def stop_performance():\n",
    "    \"\"\"Signals the task to stop gracefully.\"\"\"\n",
    "    global performance_running\n",
    "    performance_running = False\n",
    "    print('performance stopped...')\n"
   ]
  },
  {
   "cell_type": "code",
   "execution_count": 25,
   "metadata": {},
   "outputs": [],
   "source": [
    "Myself.client.send_message(\"/bruQner/set/state\", 'C_single')"
   ]
  },
  {
   "cell_type": "code",
   "execution_count": 14,
   "metadata": {},
   "outputs": [
    {
     "name": "stdout",
     "output_type": "stream",
     "text": [
      "performance stopped...\n"
     ]
    }
   ],
   "source": [
    "stop_performance()"
   ]
  },
  {
   "cell_type": "code",
   "execution_count": 15,
   "metadata": {},
   "outputs": [
    {
     "name": "stderr",
     "output_type": "stream",
     "text": [
      "Exception in thread Thread-11 (performance_cycle):\n",
      "Traceback (most recent call last):\n",
      "  File \"C:\\Program Files\\WindowsApps\\PythonSoftwareFoundation.Python.3.10_3.10.3056.0_x64__qbz5n2kfra8p0\\lib\\threading.py\", line 1016, in _bootstrap_inner\n",
      "    self.run()\n",
      "  File \"C:\\Users\\ghana\\AppData\\Local\\Packages\\PythonSoftwareFoundation.Python.3.10_qbz5n2kfra8p0\\LocalCache\\local-packages\\Python310\\site-packages\\ipykernel\\ipkernel.py\", line 766, in run_closure\n",
      "    _threading_Thread_run(self)\n",
      "  File \"C:\\Program Files\\WindowsApps\\PythonSoftwareFoundation.Python.3.10_3.10.3056.0_x64__qbz5n2kfra8p0\\lib\\threading.py\", line 953, in run\n",
      "    self._target(*self._args, **self._kwargs)\n",
      "  File \"C:\\Users\\ghana\\AppData\\Local\\Temp\\ipykernel_11976\\31319739.py\", line 38, in performance_cycle\n",
      "TypeError: unhashable type: 'list'\n"
     ]
    }
   ],
   "source": [
    "start_performance()"
   ]
  }
 ],
 "metadata": {
  "kernelspec": {
   "display_name": "Python 3",
   "language": "python",
   "name": "python3"
  },
  "language_info": {
   "codemirror_mode": {
    "name": "ipython",
    "version": 3
   },
   "file_extension": ".py",
   "mimetype": "text/x-python",
   "name": "python",
   "nbconvert_exporter": "python",
   "pygments_lexer": "ipython3",
   "version": "3.10.11"
  }
 },
 "nbformat": 4,
 "nbformat_minor": 2
}
