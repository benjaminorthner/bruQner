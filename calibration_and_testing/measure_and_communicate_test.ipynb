{
 "cells": [
  {
   "cell_type": "code",
   "execution_count": 1,
   "metadata": {},
   "outputs": [],
   "source": [
    "import sys\n",
    "sys.path.insert(0, '../')\n",
    "\n",
    "import numpy as np\n",
    "from src.time_tagger import TimeTaggerController, TT_Simulator, two_particle_states\n",
    "from src.kinetic_mount_controller import KineticMountControl\n",
    "from src.osc import OSCCommunicator, OSCTarget\n",
    "import time\n",
    "import threading"
   ]
  },
  {
   "cell_type": "markdown",
   "metadata": {},
   "source": [
    "# Setup Mount Controller"
   ]
  },
  {
   "cell_type": "code",
   "execution_count": 2,
   "metadata": {},
   "outputs": [
    {
     "name": "stdout",
     "output_type": "stream",
     "text": [
      "\n",
      "ASSIGNING CONTROLLERS\n",
      "---------------------------------------------------------------\n",
      "Ports Found: ['COM8', 'COM9']\n",
      "---------------------------------------------------------------\n",
      "Device succesfully connected (Rotation Mount) (Address: 0)\n",
      "Device succesfully connected (Rotation Mount) (Address: 3)\n"
     ]
    }
   ],
   "source": [
    "# only run if not already created\n",
    "if 'KMC' not in globals():  \n",
    "    KMC = KineticMountControl(number_of_devices=2, address_search_depth=3)\n",
    "    KMC.swap_alice_bob()"
   ]
  },
  {
   "cell_type": "code",
   "execution_count": 3,
   "metadata": {},
   "outputs": [],
   "source": [
    "# Init the Time Tagger and the Kinetic Mount Controller\n",
    "TTC = TimeTaggerController()\n",
    "\n",
    "# NOTE Look at the trace, sucessively block each port and assign the channels numbers in the next cell\n",
    "# NOTE afterwards stop and close the graphic\n",
    "#TTC.displayCountTraces()"
   ]
  },
  {
   "cell_type": "code",
   "execution_count": 4,
   "metadata": {},
   "outputs": [],
   "source": [
    "# connect KMC and TTC\n",
    "TTC.setKineticMountController(KMC)\n",
    "# set alice channels\n",
    "TTC.set_alice_reflection_channel(4)\n",
    "TTC.set_alice_transmission_channel(3)\n",
    "# set bob channels\n",
    "TTC.set_bob_reflection_channel(2)\n",
    "TTC.set_bob_transmission_channel(1)\n",
    "\n",
    "\n",
    "# set bob home offset\n",
    "KMC.bob.set_home_offset(-43 % 360)\n",
    "KMC.bob.home()\n",
    "# set alice home offset\n",
    "KMC.alice.set_home_offset(9)\n",
    "KMC.alice.home()\n"
   ]
  },
  {
   "cell_type": "code",
   "execution_count": 5,
   "metadata": {},
   "outputs": [],
   "source": [
    "#TTC.displayCountTraces()\n",
    "#TTC.displayCoincidenceTraces(coincidence_window_SI=0.4e-9)"
   ]
  },
  {
   "cell_type": "code",
   "execution_count": 6,
   "metadata": {},
   "outputs": [],
   "source": [
    "# TODO\n",
    "# coincidence channel handling and destruction\n",
    "# \n",
    "#TTC.coincidences_vchannels.getChannels()"
   ]
  },
  {
   "cell_type": "code",
   "execution_count": 7,
   "metadata": {},
   "outputs": [],
   "source": [
    "#KMC.rotate_simulataneously(0, 45)"
   ]
  },
  {
   "cell_type": "code",
   "execution_count": 8,
   "metadata": {},
   "outputs": [],
   "source": [
    "#TTC.performDelayAdjustment(True)"
   ]
  },
  {
   "cell_type": "code",
   "execution_count": 9,
   "metadata": {},
   "outputs": [
    {
     "name": "stdout",
     "output_type": "stream",
     "text": [
      "\n",
      "corr[a,b] = 0.9159663865546218\n",
      "\tN[|T,T>]=585\n",
      "\tN[|T,R>]=5\n",
      "\tN[|R,T>]=25\n",
      "\tN[|R,R>]=99\n",
      "\n",
      "corr[a,B] = 0.7595129375951294\n",
      "\tN[|T,T>]=491\n",
      "\tN[|T,R>]=13\n",
      "\tN[|R,T>]=66\n",
      "\tN[|R,R>]=87\n",
      "\n",
      "corr[A,b] = 0.6448598130841121\n",
      "\tN[|T,T>]=395\n",
      "\tN[|T,R>]=62\n",
      "\tN[|R,T>]=33\n",
      "\tN[|R,R>]=45\n",
      "\n",
      "corr[A,B] = 0.06951871657754011\n",
      "\tN[|T,T>]=170\n",
      "\tN[|T,R>]=61\n",
      "\tN[|R,T>]=113\n",
      "\tN[|R,R>]=30\n",
      "\n",
      "S = abs(corrs[0,0] + corrs[0,1] + corrs[1,0] - corrs[1,1]) = 2.250820420656323\n"
     ]
    }
   ],
   "source": [
    "idealAngles = [0, -22.5, -11.25, 11.25] # for triplett |HH> + |VV> initial state\n",
    "TTC.measureS(CHSH_angles=idealAngles, integration_time_per_basis_setting_SI=1, TTSimulator=None, coincidence_window_SI=0.5e-9)\n"
   ]
  },
  {
   "cell_type": "markdown",
   "metadata": {},
   "source": [
    "# OSC Server Setup\n"
   ]
  },
  {
   "cell_type": "code",
   "execution_count": 10,
   "metadata": {},
   "outputs": [
    {
     "name": "stdout",
     "output_type": "stream",
     "text": [
      "OSC Server Started. Serving on ('192.168.0.2', 7401)\n",
      "----------------------------------------------------\n"
     ]
    }
   ],
   "source": [
    "my_ip = '192.168.0.2'\n",
    "my_port = 7401 \n",
    "\n",
    "if 'OSC' not in globals():\n",
    "    OSC = OSCCommunicator(my_ip=my_ip, my_port=my_port)\n",
    "\n",
    "Myself = OSCTarget(ip=my_ip, port=my_port, name='Myself')\n",
    "Clemens = OSCTarget(ip='192.168.0.3', port=7400, name='Clemens')\n",
    "\n",
    "# Start the server\n",
    "OSC.start_server()"
   ]
  },
  {
   "cell_type": "code",
   "execution_count": 11,
   "metadata": {},
   "outputs": [
    {
     "name": "stdout",
     "output_type": "stream",
     "text": [
      "Measurement [1, 2, 3, 4] sent to Myself\n"
     ]
    },
    {
     "name": "stdout",
     "output_type": "stream",
     "text": [
      "Received measurement: (1, 2, 3, 4)\n"
     ]
    }
   ],
   "source": [
    "# Send measurements\n",
    "measurement_results = [1, 2, 3, 4]\n",
    "OSC.send_measurement(target=Myself, measurement_results=measurement_results)\n"
   ]
  },
  {
   "cell_type": "code",
   "execution_count": 12,
   "metadata": {},
   "outputs": [],
   "source": [
    "# Global flag to control the loop\n",
    "performance_running = False\n",
    "resultTranslate = {0 : [1, 1],\n",
    "                   1 : [1, -1],\n",
    "                   2 : [-1, 1],\n",
    "                   3 : [-1, -1]}\n",
    "CHSH_angles = [0, -22.5, -11.5, 11.5]\n",
    "\n",
    "def performance_cycle():\n",
    "    \"\"\"The function you want to execute repeatedly.\"\"\"\n",
    "    global performance_running\n",
    "    while performance_running:\n",
    "        theta_a = np.random.choice(CHSH_angles[0:2])\n",
    "        theta_b = np.random.choice(CHSH_angles[2:4])\n",
    "        measurement_results = TTC.get_single_measurement(theta_a, theta_b)\n",
    "        resultClemensFormat = [1 if theta_a == CHSH_angles[0] else 2, 1 if theta_b == CHSH_angles[2] else 2 ,*resultTranslate[measurement_results]]\n",
    "\n",
    "        OSC.send_measurement(Clemens, resultClemensFormat)\n",
    "\n",
    "def start_performance():\n",
    "    \"\"\"Starts the task in a separate thread.\"\"\"\n",
    "    global performance_running\n",
    "    performance_running = True  # Ensure the loop is enabled\n",
    "    task_thread = threading.Thread(target=performance_cycle, daemon=True)\n",
    "    task_thread.start()\n",
    "\n",
    "def stop_performance():\n",
    "    \"\"\"Signals the task to stop gracefully.\"\"\"\n",
    "    global performance_running\n",
    "    performance_running = False\n",
    "    print('performance stopped...')\n"
   ]
  },
  {
   "cell_type": "code",
   "execution_count": 24,
   "metadata": {},
   "outputs": [],
   "source": [
    "stop_performance()"
   ]
  },
  {
   "cell_type": "code",
   "execution_count": 23,
   "metadata": {},
   "outputs": [
    {
     "name": "stdout",
     "output_type": "stream",
     "text": [
      "Measurement [2, 2, 1, 1] sent to Clemens\n",
      "Measurement [2, 1, 1, 1] sent to Clemens\n",
      "Measurement [1, 2, -1, -1] sent to Clemens\n",
      "Measurement [1, 1, 1, 1] sent to Clemens\n"
     ]
    }
   ],
   "source": [
    "start_performance()"
   ]
  }
 ],
 "metadata": {
  "kernelspec": {
   "display_name": "Python 3",
   "language": "python",
   "name": "python3"
  },
  "language_info": {
   "codemirror_mode": {
    "name": "ipython",
    "version": 3
   },
   "file_extension": ".py",
   "mimetype": "text/x-python",
   "name": "python",
   "nbconvert_exporter": "python",
   "pygments_lexer": "ipython3",
   "version": "3.10.11"
  }
 },
 "nbformat": 4,
 "nbformat_minor": 2
}
