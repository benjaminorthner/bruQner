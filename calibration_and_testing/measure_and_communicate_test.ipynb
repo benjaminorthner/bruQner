{
 "cells": [
  {
   "cell_type": "code",
   "execution_count": 1,
   "metadata": {},
   "outputs": [],
   "source": [
    "import sys\n",
    "sys.path.insert(0, '../')\n",
    "\n",
    "from src.time_tagger import TimeTaggerController, TT_Simulator, two_particle_states\n",
    "from src.kinetic_mount_controller import KineticMountControl\n",
    "from src.osc import OSCCommunicator, OSCTarget\n",
    "import time\n",
    "import threading\n",
    "import random"
   ]
  },
  {
   "cell_type": "markdown",
   "metadata": {},
   "source": [
    "# Setup Mount Controller"
   ]
  },
  {
   "cell_type": "code",
   "execution_count": 2,
   "metadata": {},
   "outputs": [
    {
     "name": "stdout",
     "output_type": "stream",
     "text": [
      "\n",
      "ASSIGNING CONTROLLERS\n",
      "---------------------------------------------------------------\n",
      "Ports Found: ['COM5', 'COM4']\n",
      "---------------------------------------------------------------\n",
      "Device succesfully connected (Rotation Mount) (Address: 0)\n",
      "Device succesfully connected (Rotation Mount) (Address: 0)\n"
     ]
    }
   ],
   "source": [
    "# only run if not already created\n",
    "if 'KMC' not in globals():  \n",
    "    KMC = KineticMountControl(number_of_devices=2, address_search_depth=0)\n",
    "    #KMC.swap_alice_bob()"
   ]
  },
  {
   "cell_type": "code",
   "execution_count": 3,
   "metadata": {},
   "outputs": [],
   "source": [
    "# Init the Time Tagger and the Kinetic Mount Controller\n",
    "TTC = TimeTaggerController()\n",
    "\n",
    "# NOTE Look at the trace, sucessively block each port and assign the channels numbers in the next cell\n",
    "# NOTE afterwards stop and close the graphic\n",
    "#TTC.displayCountTraces()"
   ]
  },
  {
   "cell_type": "code",
   "execution_count": 4,
   "metadata": {},
   "outputs": [],
   "source": [
    "# connect KMC and TTC\n",
    "TTC.setKineticMountController(KMC)\n",
    "# set alice channels\n",
    "TTC.set_alice_reflection_channel(3)\n",
    "TTC.set_alice_transmission_channel(4)\n",
    "# set bob channels\n",
    "TTC.set_bob_reflection_channel(2)\n",
    "TTC.set_bob_transmission_channel(1)\n",
    "\n",
    "\n",
    "# set bob home offset\n",
    "KMC.bob.set_home_offset(-43 % 360)\n",
    "KMC.bob.home()\n",
    "# set alice home offset\n",
    "KMC.alice.set_home_offset(9)\n",
    "KMC.alice.home()\n",
    "\n"
   ]
  },
  {
   "cell_type": "code",
   "execution_count": 5,
   "metadata": {},
   "outputs": [
    {
     "name": "stdout",
     "output_type": "stream",
     "text": [
      "Delays Before Correction\n",
      "Alice_T :     0 ps \t/     0.0 mm\n",
      "Alice_R :   308 ps \t/    92.4 mm\n",
      "Bob_T   :  -555 ps \t/  -166.5 mm\n",
      "Bob_R   :   121 ps \t/    36.3 mm\n",
      "\n",
      "Delays After Correction\n",
      "Alice_T :     0 ps \t/     0.0 mm\n",
      "Alice_R :    49 ps \t/    14.7 mm\n",
      "Bob_T   :   -66 ps \t/   -19.8 mm\n",
      "Bob_R   :   -13 ps \t/    -3.9 mm\n"
     ]
    }
   ],
   "source": [
    "_ = TTC.performDelayAdjustment(integration_time=5)# manual_delays=[0, 240, -582, 123])"
   ]
  },
  {
   "cell_type": "code",
   "execution_count": 46,
   "metadata": {},
   "outputs": [],
   "source": [
    "KMC.rotate_simulataneously(45, 0)"
   ]
  },
  {
   "cell_type": "code",
   "execution_count": 24,
   "metadata": {},
   "outputs": [],
   "source": [
    "\n",
    "KMC.rotate_simulataneously(0, 0)"
   ]
  },
  {
   "cell_type": "code",
   "execution_count": 23,
   "metadata": {},
   "outputs": [],
   "source": [
    "KMC.rotate_simulataneously(45, 0)"
   ]
  },
  {
   "cell_type": "code",
   "execution_count": 17,
   "metadata": {},
   "outputs": [
    {
     "data": {
      "application/vnd.jupyter.widget-view+json": {
       "model_id": "24bc783103434e298846a727b86b4c43",
       "version_major": 2,
       "version_minor": 0
      },
      "text/plain": [
       "Output()"
      ]
     },
     "metadata": {},
     "output_type": "display_data"
    },
    {
     "data": {
      "application/vnd.jupyter.widget-view+json": {
       "model_id": "5b8901b902ab494f80646b76756873e5",
       "version_major": 2,
       "version_minor": 0
      },
      "text/plain": [
       "Output()"
      ]
     },
     "metadata": {},
     "output_type": "display_data"
    }
   ],
   "source": [
    "n_values = 150\n",
    "trace_width = 3\n",
    "TTC.displayCountTraces(n_values=n_values, trace_width=trace_width, plot_title='<b>Raw Counts<b>')\n",
    "TTC.displayCoincidenceTraces(coincidence_window_SI=0.5e-9, n_values=n_values, trace_width=trace_width, plot_title='<b>Coincidences<b>')"
   ]
  },
  {
   "cell_type": "code",
   "execution_count": 11,
   "metadata": {},
   "outputs": [],
   "source": [
    "KMC.rotate_simulataneously(0, 0, wait_for_completion=False)"
   ]
  },
  {
   "cell_type": "code",
   "execution_count": 12,
   "metadata": {},
   "outputs": [],
   "source": [
    "\n",
    "KMC.rotate_simulataneously(45, 0, wait_for_completion=False)"
   ]
  },
  {
   "cell_type": "code",
   "execution_count": 9,
   "metadata": {},
   "outputs": [],
   "source": [
    "\n",
    "SimulatorPhiPlus = TT_Simulator(two_particle_states['phi_plus'], initial_state_noise=0, detector_efficiencies=[0,1,1,1], debug=False)\n",
    "CHSH_angles = SimulatorPhiPlus.CHSH_angles_for_filters"
   ]
  },
  {
   "cell_type": "code",
   "execution_count": 10,
   "metadata": {},
   "outputs": [
    {
     "data": {
      "text/plain": [
       "array([[0.        ],\n",
       "       [0.01721542],\n",
       "       [0.01721542],\n",
       "       [0.96556915]])"
      ]
     },
     "execution_count": 10,
     "metadata": {},
     "output_type": "execute_result"
    }
   ],
   "source": [
    "SimulatorPhiPlus.outcome_probabilities(0, 25)"
   ]
  },
  {
   "cell_type": "code",
   "execution_count": 11,
   "metadata": {},
   "outputs": [
    {
     "ename": "AttributeError",
     "evalue": "'NoneType' object has no attribute 'home'",
     "output_type": "error",
     "traceback": [
      "\u001b[1;31m---------------------------------------------------------------------------\u001b[0m",
      "\u001b[1;31mAttributeError\u001b[0m                            Traceback (most recent call last)",
      "Cell \u001b[1;32mIn[11], line 1\u001b[0m\n\u001b[1;32m----> 1\u001b[0m \u001b[43mTTC\u001b[49m\u001b[38;5;241;43m.\u001b[39;49m\u001b[43mmeasureS\u001b[49m\u001b[43m(\u001b[49m\u001b[43mCHSH_angles\u001b[49m\u001b[38;5;241;43m=\u001b[39;49m\u001b[43mCHSH_angles\u001b[49m\u001b[43m,\u001b[49m\u001b[43m \u001b[49m\u001b[43mintegration_time_per_basis_setting_SI\u001b[49m\u001b[38;5;241;43m=\u001b[39;49m\u001b[38;5;241;43m2\u001b[39;49m\u001b[43m,\u001b[49m\u001b[43m \u001b[49m\u001b[43mTTSimulator\u001b[49m\u001b[38;5;241;43m=\u001b[39;49m\u001b[43mSimulatorPhiPlus\u001b[49m\u001b[43m,\u001b[49m\u001b[43m \u001b[49m\u001b[43mcoincidence_window_SI\u001b[49m\u001b[38;5;241;43m=\u001b[39;49m\u001b[38;5;241;43m1.0e-9\u001b[39;49m\u001b[43m,\u001b[49m\u001b[43m \u001b[49m\u001b[43mdebug\u001b[49m\u001b[38;5;241;43m=\u001b[39;49m\u001b[38;5;28;43;01mTrue\u001b[39;49;00m\u001b[43m)\u001b[49m\n",
      "File \u001b[1;32m\\\\wsl.localhost\\Ubuntu\\home\\benjaminorthner\\projects\\bruQner\\calibration_and_testing\\..\\src\\time_tagger\\time_tagger_controller.py:301\u001b[0m, in \u001b[0;36mTimeTaggerController.measureS\u001b[1;34m(self, CHSH_angles, coincidence_window_SI, integration_time_per_basis_setting_SI, TTSimulator, debug)\u001b[0m\n\u001b[0;32m    298\u001b[0m \u001b[38;5;28;01mdef\u001b[39;00m \u001b[38;5;21mmeasureS\u001b[39m(\u001b[38;5;28mself\u001b[39m, CHSH_angles, coincidence_window_SI \u001b[38;5;241m=\u001b[39m \u001b[38;5;241m0.1e-9\u001b[39m, integration_time_per_basis_setting_SI\u001b[38;5;241m=\u001b[39m\u001b[38;5;241m1\u001b[39m, TTSimulator : TT_Simulator\u001b[38;5;241m=\u001b[39m\u001b[38;5;28;01mNone\u001b[39;00m, debug\u001b[38;5;241m=\u001b[39m\u001b[38;5;28;01mTrue\u001b[39;00m):\n\u001b[0;32m    299\u001b[0m \n\u001b[0;32m    300\u001b[0m     \u001b[38;5;66;03m# home all kinetic mounts\u001b[39;00m\n\u001b[1;32m--> 301\u001b[0m     \u001b[38;5;28;43mself\u001b[39;49m\u001b[38;5;241;43m.\u001b[39;49m\u001b[43mKMC\u001b[49m\u001b[38;5;241;43m.\u001b[39;49m\u001b[43mhome\u001b[49m() \n\u001b[0;32m    303\u001b[0m     \u001b[38;5;66;03m# make sure coincidence channels are created and exist\u001b[39;00m\n\u001b[0;32m    304\u001b[0m     \u001b[38;5;28mself\u001b[39m\u001b[38;5;241m.\u001b[39mcreateCoincidenceChannels(coincidence_window_SI)\n",
      "\u001b[1;31mAttributeError\u001b[0m: 'NoneType' object has no attribute 'home'"
     ]
    }
   ],
   "source": [
    "TTC.measureS(CHSH_angles=CHSH_angles, integration_time_per_basis_setting_SI=2, TTSimulator=SimulatorPhiPlus, coincidence_window_SI=1.0e-9, debug=True)"
   ]
  },
  {
   "cell_type": "code",
   "execution_count": null,
   "metadata": {},
   "outputs": [],
   "source": [
    "# TODO\n",
    "# coincidence channel handling and destruction\n",
    "#TTC.coincidences_vchannels.getChannels()"
   ]
  },
  {
   "cell_type": "code",
   "execution_count": 6,
   "metadata": {},
   "outputs": [],
   "source": [
    "# TODO This kills the coincidence channels in the visualisation. Needs to be worked on\n",
    "idealAngles = [0, -22.5, -11.25, 11.25] # for triplett |HH> - |VV> initial state\n",
    "johannes_ideal_angles = [0, 45/2, -22.5/2, 22.5/2]\n",
    "johannes_classical_angles = [0, 45/2, -90/2, -45/2]"
   ]
  },
  {
   "cell_type": "code",
   "execution_count": 7,
   "metadata": {},
   "outputs": [
    {
     "name": "stdout",
     "output_type": "stream",
     "text": [
      "\n",
      "corr[a,b] = 0.81761\n",
      "\tN[|T,T>]=   259\t(0.136)\n",
      "\tN[|T,R>]=   137\t(0.072)\n",
      "\tN[|R,T>]=    37\t(0.019)\n",
      "\tN[|R,R>]=  1475\t(0.773)\n",
      "\n",
      "corr[a,B] = 0.58093\n",
      "\tN[|T,T>]=   201\t(0.111)\n",
      "\tN[|T,R>]=   305\t(0.169)\n",
      "\tN[|R,T>]=    73\t(0.040)\n",
      "\tN[|R,R>]=  1225\t(0.679)\n",
      "\n",
      "corr[A,b] = 0.45262\n",
      "\tN[|T,T>]=   202\t(0.119)\n",
      "\tN[|T,R>]=   390\t(0.230)\n",
      "\tN[|R,T>]=    75\t(0.044)\n",
      "\tN[|R,R>]=  1032\t(0.607)\n",
      "\n",
      "corr[A,B] = -0.55895\n",
      "\tN[|T,T>]=    58\t(0.037)\n",
      "\tN[|T,R>]=  1046\t(0.667)\n",
      "\tN[|R,T>]=   177\t(0.113)\n",
      "\tN[|R,R>]=   288\t(0.184)\n",
      "\n",
      "S = abs(corrs[0,0] + corrs[0,1] + corrs[1,0] - corrs[1,1]) = 2.4101152627559705\n"
     ]
    }
   ],
   "source": [
    "TTC.measureS(CHSH_angles=idealAngles, integration_time_per_basis_setting_SI=2, TTSimulator=None, coincidence_window_SI=1.0e-9, debug=True)"
   ]
  },
  {
   "cell_type": "code",
   "execution_count": 22,
   "metadata": {},
   "outputs": [
    {
     "name": "stdout",
     "output_type": "stream",
     "text": [
      "SPCM Pairs: ['TT', 'TR', 'RT', 'RR']\n",
      "\n",
      "corr[a,b] = [ 0.811 -0.827 -0.798  0.786]\n",
      "\tN[a , b ]=[1106  173  129 1617]\n",
      "\tN[a , b ]=[ 119 1744 1015  213]\n",
      "\tN[a , b ]=[  84 1411  777  112]\n",
      "\tN[a , b ]=[ 842  126   72 1102]\n",
      "\n",
      "corr[a,B] = [ 0.522 -0.511 -0.503  0.491]\n",
      "\tN[a , B ]=[ 903  463  266 1375]\n",
      "\tN[a , B ]=[ 276 1482  861  423]\n",
      "\tN[a , B ]=[ 234 1156  604  357]\n",
      "\tN[a , B ]=[722 390 218 907]\n",
      "\n",
      "corr[A,b] = [ 0.384 -0.442 -0.358  0.402]\n",
      "\tN[A , b ]=[ 783  398  252 1083]\n",
      "\tN[A , b ]=[ 273 1323  732  320]\n",
      "\tN[A , b ]=[ 402 1156  644  553]\n",
      "\tN[A , b ]=[734 562 399 966]\n",
      "\n",
      "corr[A,B] = [-0.7    0.744  0.641 -0.696]\n",
      "\tN[A , B ]=[ 207 1432  729  322]\n",
      "\tN[A , B ]=[ 909  247  210 1140]\n",
      "\tN[A , B ]=[ 993  195  143 1389]\n",
      "\tN[A , B ]=[ 129 1584  885  131]\n",
      "\n",
      "S = abs(corrs[0,0] + corrs[0,1] + corrs[1,0] - corrs[1,1]) = TT, TR, RT, RR : [2.41735482 2.52424128 2.30037829 2.37563537]\n"
     ]
    }
   ],
   "source": [
    "TTC.measure_S_with_two_ports(CHSH_angles=idealAngles, debug=True)"
   ]
  },
  {
   "cell_type": "code",
   "execution_count": null,
   "metadata": {},
   "outputs": [
    {
     "ename": "NameError",
     "evalue": "name 'TT_Simulator' is not defined",
     "output_type": "error",
     "traceback": [
      "\u001b[1;31m---------------------------------------------------------------------------\u001b[0m",
      "\u001b[1;31mNameError\u001b[0m                                 Traceback (most recent call last)",
      "Cell \u001b[1;32mIn[1], line 1\u001b[0m\n\u001b[1;32m----> 1\u001b[0m SimulatorPhiPlus \u001b[38;5;241m=\u001b[39m \u001b[43mTT_Simulator\u001b[49m(two_particle_states[\u001b[38;5;124m'\u001b[39m\u001b[38;5;124mphi_plus\u001b[39m\u001b[38;5;124m'\u001b[39m], initial_state_noise\u001b[38;5;241m=\u001b[39m\u001b[38;5;241m0.00\u001b[39m, debug\u001b[38;5;241m=\u001b[39m\u001b[38;5;28;01mFalse\u001b[39;00m)\n\u001b[0;32m      2\u001b[0m SimulatorPhiMinus \u001b[38;5;241m=\u001b[39m TT_Simulator(two_particle_states[\u001b[38;5;124m'\u001b[39m\u001b[38;5;124mphi_minus\u001b[39m\u001b[38;5;124m'\u001b[39m], initial_state_noise\u001b[38;5;241m=\u001b[39m\u001b[38;5;241m0.00\u001b[39m, debug\u001b[38;5;241m=\u001b[39m\u001b[38;5;28;01mFalse\u001b[39;00m)\n\u001b[0;32m      3\u001b[0m TTC\u001b[38;5;241m.\u001b[39mmeasureS(CHSH_angles\u001b[38;5;241m=\u001b[39midealAngles, integration_time_per_basis_setting_SI\u001b[38;5;241m=\u001b[39m\u001b[38;5;241m1\u001b[39m, TTSimulator\u001b[38;5;241m=\u001b[39mSimulatorPhiPlus, coincidence_window_SI\u001b[38;5;241m=\u001b[39m\u001b[38;5;241m0.5e-9\u001b[39m)\n",
      "\u001b[1;31mNameError\u001b[0m: name 'TT_Simulator' is not defined"
     ]
    }
   ],
   "source": [
    "SimulatorPhiPlus = TT_Simulator(two_particle_states['phi_plus'], initial_state_noise=0.00, debug=False)\n",
    "SimulatorPhiMinus = TT_Simulator(two_particle_states['phi_minus'], initial_state_noise=0.00, debug=False)\n",
    "TTC.measureS(CHSH_angles=idealAngles, integration_time_per_basis_setting_SI=1, TTSimulator=SimulatorPhiPlus, coincidence_window_SI=0.5e-9)"
   ]
  },
  {
   "cell_type": "markdown",
   "metadata": {},
   "source": [
    "# OSC Server Setup\n"
   ]
  },
  {
   "cell_type": "code",
   "execution_count": 7,
   "metadata": {},
   "outputs": [
    {
     "name": "stdout",
     "output_type": "stream",
     "text": [
      "OSC Server Started. Serving on ('192.168.0.2', 7401)\n",
      "----------------------------------------------------\n"
     ]
    }
   ],
   "source": [
    "my_ip = '192.168.0.2'\n",
    "my_port = 7401 \n",
    "clemens_port = 7401\n",
    "visual_port = 7403\n",
    "\n",
    "if 'OSC' not in globals():\n",
    "    OSC = OSCCommunicator(my_ip=my_ip, my_port=my_port)\n",
    "\n",
    "Myself = OSCTarget(ip=my_ip, port=my_port, name='Myself')\n",
    "Clemens = OSCTarget(ip='192.168.0.3', port=clemens_port, name='Clemens')\n",
    "Visuals = OSCTarget(ip=my_ip, port=visual_port, name='Visuals')\n",
    "\n",
    "# Start the server\n",
    "OSC.start_server()"
   ]
  },
  {
   "cell_type": "code",
   "execution_count": 8,
   "metadata": {},
   "outputs": [
    {
     "name": "stdout",
     "output_type": "stream",
     "text": [
      "Measurement [1, 2, 3, 4] sent to Clemens\n"
     ]
    }
   ],
   "source": [
    "# Send measurements\n",
    "measurement_results = [1, 2, 3, 4]\n",
    "OSC.send_measurement(target=Clemens, measurement_results=measurement_results)\n"
   ]
  },
  {
   "cell_type": "code",
   "execution_count": 9,
   "metadata": {},
   "outputs": [
    {
     "name": "stdout",
     "output_type": "stream",
     "text": [
      "Measurement hi sent to Visuals\n"
     ]
    }
   ],
   "source": [
    "OSC.send_visuals(target=Visuals, measurement_results=\"hi\")"
   ]
  },
  {
   "cell_type": "code",
   "execution_count": 10,
   "metadata": {},
   "outputs": [],
   "source": [
    "# Global flag to control the loop\n",
    "performance_running = False\n",
    "resultTranslate = {0 : [1, 1],\n",
    "                   1 : [1, -1],\n",
    "                   2 : [-1, 1],\n",
    "                   3 : [-1, -1]}\n",
    "# a A b B\n",
    "Q_angles = [0, -22.5, 11.5, -11.5]\n",
    "C_angles = [0, 22.5, -45, -22.5]\n",
    "\n",
    "                    # ab, aB, Ab, AB\n",
    "angle_pair_dict = {'Q_all':[(0, 11.5), (0, -11.5), (-22.5, 11.5), (-22.5, -11.5)],\n",
    "                    # ab, AB\n",
    "                   'Q_diagonal': [(0, 11.5), (-22.5, -11.5)],\n",
    "                    # ab, AB\n",
    "                   'C_diagonal': [(0, -45), (22.5, -22.5)],\n",
    "                    # AB\n",
    "                   'C_single': [(-45, -22.5)],\n",
    "                   }\n",
    "\n",
    "def performance_cycle():\n",
    "    \"\"\"The function you want to execute repeatedly.\"\"\"\n",
    "    global performance_running\n",
    "    \n",
    "    time_of_last_visual = time.time()\n",
    "    while performance_running:\n",
    "        theta_a, theta_b = random.choice(angle_pair_dict[OSC.currently_selected_state])\n",
    "        \n",
    "        measurement_results = TTC.get_single_measurement(theta_a, theta_b)\n",
    "        \n",
    "        # check if setup is measuring Quantum or Classical angles for conversion to clemens format        \n",
    "        if OSC.currently_selected_state[0] == 'Q':\n",
    "            check_angles = Q_angles\n",
    "        elif OSC.currently_selected_state[0] == 'C':\n",
    "            check_angles = C_angles\n",
    "\n",
    "        resultClemensFormat = [1 if theta_a == check_angles[0] else 2, 1 if theta_b == check_angles[2] else 2 ,*resultTranslate[measurement_results]]\n",
    "\n",
    "        OSC.send_measurement(Clemens, resultClemensFormat)\n",
    "\n",
    "        #if time.time() - time_of_last_visual > 7:\n",
    "        #    OSC.send_visuals(Visuals, resultClemensFormat)\n",
    "        #    time_of_last_visual = time.time()\n",
    "\n",
    "\n",
    "def start_performance():\n",
    "    \"\"\"Starts the task in a separate thread.\"\"\"\n",
    "    global performance_running\n",
    "    performance_running = True  # Ensure the loop is enabled\n",
    "    task_thread = threading.Thread(target=performance_cycle, daemon=True)\n",
    "    task_thread.start()\n",
    "\n",
    "def stop_performance():\n",
    "    \"\"\"Signals the task to stop gracefully.\"\"\"\n",
    "    global performance_running\n",
    "    performance_running = False\n",
    "    print('performance stopped...')\n"
   ]
  },
  {
   "cell_type": "code",
   "execution_count": null,
   "metadata": {},
   "outputs": [],
   "source": [
    "Myself.client.send_message(\"/bruQner/set/state\", 'Q_all')"
   ]
  },
  {
   "cell_type": "code",
   "execution_count": null,
   "metadata": {},
   "outputs": [
    {
     "name": "stdout",
     "output_type": "stream",
     "text": [
      "performance stopped...\n"
     ]
    }
   ],
   "source": [
    "stop_performance()"
   ]
  },
  {
   "cell_type": "code",
   "execution_count": null,
   "metadata": {},
   "outputs": [],
   "source": []
  },
  {
   "cell_type": "code",
   "execution_count": 12,
   "metadata": {},
   "outputs": [
    {
     "name": "stderr",
     "output_type": "stream",
     "text": [
      "Exception in thread Thread-21 (performance_cycle):\n",
      "Traceback (most recent call last):\n",
      "  File \"C:\\Program Files\\WindowsApps\\PythonSoftwareFoundation.Python.3.10_3.10.3056.0_x64__qbz5n2kfra8p0\\lib\\threading.py\", line 1016, in _bootstrap_inner\n",
      "    self.run()\n",
      "  File \"C:\\Users\\ghana\\AppData\\Local\\Packages\\PythonSoftwareFoundation.Python.3.10_qbz5n2kfra8p0\\LocalCache\\local-packages\\Python310\\site-packages\\ipykernel\\ipkernel.py\", line 766, in run_closure\n",
      "    _threading_Thread_run(self)\n",
      "  File \"C:\\Program Files\\WindowsApps\\PythonSoftwareFoundation.Python.3.10_3.10.3056.0_x64__qbz5n2kfra8p0\\lib\\threading.py\", line 953, in run\n",
      "    self._target(*self._args, **self._kwargs)\n",
      "  File \"C:\\Users\\ghana\\AppData\\Local\\Temp\\ipykernel_18348\\1005914504.py\", line 29, in performance_cycle\n",
      "  File \"\\\\wsl.localhost\\Ubuntu\\home\\benjaminorthner\\projects\\bruQner\\calibration_and_testing\\..\\src\\time_tagger\\time_tagger_controller.py\", line 550, in get_single_measurement\n",
      "    eventsByChannel = self.collect_stream_data(integration_time, max_time=max_time, minimum_event_count=minimum_event_count)\n",
      "TypeError: TimeTaggerController.collect_stream_data() got an unexpected keyword argument 'minimum_event_count'\n"
     ]
    }
   ],
   "source": [
    "start_performance()"
   ]
  }
 ],
 "metadata": {
  "kernelspec": {
   "display_name": "Python 3",
   "language": "python",
   "name": "python3"
  },
  "language_info": {
   "codemirror_mode": {
    "name": "ipython",
    "version": 3
   },
   "file_extension": ".py",
   "mimetype": "text/x-python",
   "name": "python",
   "nbconvert_exporter": "python",
   "pygments_lexer": "ipython3",
   "version": "3.10.11"
  }
 },
 "nbformat": 4,
 "nbformat_minor": 2
}
