{
 "cells": [
  {
   "cell_type": "code",
   "execution_count": 1,
   "metadata": {},
   "outputs": [],
   "source": [
    "import sys\n",
    "sys.path.insert(0, '../')\n",
    "\n",
    "from src.time_tagger import TimeTaggerController, TT_Simulator, two_particle_states\n",
    "from src.kinetic_mount_controller import KineticMountControl\n",
    "from src.osc import OSCCommunicator, OSCTarget\n",
    "import time\n",
    "import threading\n",
    "import random"
   ]
  },
  {
   "cell_type": "markdown",
   "metadata": {},
   "source": [
    "# Setup Mount Controller"
   ]
  },
  {
   "cell_type": "code",
   "execution_count": 2,
   "metadata": {},
   "outputs": [
    {
     "name": "stdout",
     "output_type": "stream",
     "text": [
      "\n",
      "ASSIGNING CONTROLLERS\n",
      "---------------------------------------------------------------\n",
      "Ports Found: ['COM5', 'COM4']\n",
      "---------------------------------------------------------------\n",
      "Device succesfully connected (Rotation Mount) (Address: 0)\n",
      "Device succesfully connected (Rotation Mount) (Address: 0)\n"
     ]
    }
   ],
   "source": [
    "# only run if not already created\n",
    "if 'KMC' not in globals():  \n",
    "    KMC = KineticMountControl(number_of_devices=2, address_search_depth=0)\n",
    "    #KMC.swap_alice_bob()"
   ]
  },
  {
   "cell_type": "code",
   "execution_count": 3,
   "metadata": {},
   "outputs": [],
   "source": [
    "# Init the Time Tagger and the Kinetic Mount Controller\n",
    "TTC = TimeTaggerController()\n",
    "\n",
    "# NOTE Look at the trace, sucessively block each port and assign the channels numbers in the next cell\n",
    "# NOTE afterwards stop and close the graphic\n",
    "#TTC.displayCountTraces()"
   ]
  },
  {
   "cell_type": "code",
   "execution_count": 4,
   "metadata": {},
   "outputs": [],
   "source": [
    "# connect KMC and TTC\n",
    "TTC.setKineticMountController(KMC)\n",
    "# set alice channels\n",
    "TTC.set_alice_reflection_channel(4)\n",
    "TTC.set_alice_transmission_channel(3)\n",
    "# set bob channels\n",
    "TTC.set_bob_reflection_channel(1)\n",
    "TTC.set_bob_transmission_channel(2)\n",
    "\n",
    "\n",
    "# set bob home offset\n",
    "KMC.bob.set_home_offset(-43 % 360)\n",
    "KMC.bob.home()\n",
    "# set alice home offset\n",
    "KMC.alice.set_home_offset(9)\n",
    "KMC.alice.home()\n",
    "\n"
   ]
  },
  {
   "cell_type": "code",
   "execution_count": 5,
   "metadata": {},
   "outputs": [
    {
     "name": "stdout",
     "output_type": "stream",
     "text": [
      "Delays Before Correction\n",
      "Alice_T :     0 ps \t/     0.0 mm\n",
      "Alice_R :   137 ps \t/    41.1 mm\n",
      "Bob_T   :  -603 ps \t/  -180.9 mm\n",
      "Bob_R   :    32 ps \t/     9.6 mm\n",
      "\n",
      "Delays After Correction\n",
      "Alice_T :     0 ps \t/     0.0 mm\n",
      "Alice_R :    -1 ps \t/    -0.3 mm\n",
      "Bob_T   :   -29 ps \t/    -8.7 mm\n",
      "Bob_R   :     5 ps \t/     1.5 mm\n"
     ]
    }
   ],
   "source": [
    "_ = TTC.performDelayAdjustment(integration_time=5)#, manual_delays=[0, 98, -677, 2])"
   ]
  },
  {
   "cell_type": "code",
   "execution_count": 46,
   "metadata": {},
   "outputs": [],
   "source": [
    "KMC.rotate_simulataneously(45, 0)"
   ]
  },
  {
   "cell_type": "code",
   "execution_count": 19,
   "metadata": {},
   "outputs": [],
   "source": [
    "\n",
    "KMC.rotate_simulataneously(0, 0)"
   ]
  },
  {
   "cell_type": "code",
   "execution_count": 7,
   "metadata": {},
   "outputs": [],
   "source": [
    "KMC.rotate_simulataneously(45, 0)"
   ]
  },
  {
   "cell_type": "code",
   "execution_count": 9,
   "metadata": {},
   "outputs": [
    {
     "data": {
      "application/vnd.jupyter.widget-view+json": {
       "model_id": "de5c590ca12c4c6a9964dc9f7e72016f",
       "version_major": 2,
       "version_minor": 0
      },
      "text/plain": [
       "Output()"
      ]
     },
     "metadata": {},
     "output_type": "display_data"
    },
    {
     "data": {
      "application/vnd.jupyter.widget-view+json": {
       "model_id": "a32308288f56484ab62bb23402f4cd68",
       "version_major": 2,
       "version_minor": 0
      },
      "text/plain": [
       "Output()"
      ]
     },
     "metadata": {},
     "output_type": "display_data"
    }
   ],
   "source": [
    "n_values = 150\n",
    "trace_width = 3\n",
    "TTC.displayCountTraces(n_values=n_values, trace_width=trace_width, plot_title='<b>Raw Counts<b>')\n",
    "TTC.displayCoincidenceTraces(coincidence_window_SI=0.5e-9, n_values=n_values, trace_width=trace_width, plot_title='<b>Coincidences<b>')"
   ]
  },
  {
   "cell_type": "code",
   "execution_count": 37,
   "metadata": {},
   "outputs": [],
   "source": [
    "KMC.rotate_simulataneously(0, 0, wait_for_completion=False)"
   ]
  },
  {
   "cell_type": "code",
   "execution_count": 21,
   "metadata": {},
   "outputs": [],
   "source": [
    "\n",
    "KMC.rotate_simulataneously(-22.5, -11.25, wait_for_completion=False)"
   ]
  },
  {
   "cell_type": "code",
   "execution_count": null,
   "metadata": {},
   "outputs": [],
   "source": [
    "# TODO\n",
    "# coincidence channel handling and destruction\n",
    "#TTC.coincidences_vchannels.getChannels()"
   ]
  },
  {
   "cell_type": "code",
   "execution_count": 6,
   "metadata": {},
   "outputs": [],
   "source": [
    "# TODO This kills the coincidence channels in the visualisation. Needs to be worked on\n",
    "idealAngles = [0, -22.5, -11.25, 11.25] # for triplett |HH> - |VV> initial state\n",
    "johannes_ideal_angles = [0, 45/2, -22.5/2, 22.5/2]\n",
    "johannes_classical_angles = [0, 45/2, -90/2, -45/2]"
   ]
  },
  {
   "cell_type": "code",
   "execution_count": 7,
   "metadata": {},
   "outputs": [
    {
     "name": "stdout",
     "output_type": "stream",
     "text": [
      "\n",
      "corr[a,b] = 0.82495\n",
      "\tN[|T,T>]=  2940\t(0.431) ███████████████████▍                         \n",
      "\tN[|T,R>]=   344\t(0.050) ██▎                                          \n",
      "\tN[|R,T>]=   253\t(0.037) █▋                                           \n",
      "\tN[|R,R>]=  3284\t(0.481) █████████████████████▋                       \n",
      "\n",
      "corr[a,B] = 0.52049\n",
      "\tN[|T,T>]=  2556\t(0.371) ████████████████▋                            \n",
      "\tN[|T,R>]=   961\t(0.140) ██████▎                                      \n",
      "\tN[|R,T>]=   689\t(0.100) ████▌                                        \n",
      "\tN[|R,R>]=  2676\t(0.389) █████████████████▌                           \n",
      "\n",
      "corr[A,b] = 0.34216\n",
      "\tN[|T,T>]=  2143\t(0.302) █████████████▋                               \n",
      "\tN[|T,R>]=  1055\t(0.149) ██████▋                                      \n",
      "\tN[|R,T>]=  1280\t(0.180) ████████▏                                    \n",
      "\tN[|R,R>]=  2621\t(0.369) ████████████████▋                            \n",
      "\n",
      "corr[A,B] = -0.64126\n",
      "\tN[|T,T>]=   559\t(0.081) ███▋                                         \n",
      "\tN[|T,R>]=  2738\t(0.396) █████████████████▊                           \n",
      "\tN[|R,T>]=  2935\t(0.425) ███████████████████▏                         \n",
      "\tN[|R,R>]=   681\t(0.099) ████▌                                        \n",
      "\n",
      "S = abs(corrs[0,0] + corrs[0,1] + corrs[1,0] - corrs[1,1]) = 2.3288570563020796\n"
     ]
    }
   ],
   "source": [
    "TTC.measureS(CHSH_angles=idealAngles, integration_time_per_basis_setting_SI=2, TTSimulator=None, coincidence_window_SI=1.0e-9, debug=True)"
   ]
  },
  {
   "cell_type": "code",
   "execution_count": 8,
   "metadata": {},
   "outputs": [
    {
     "name": "stdout",
     "output_type": "stream",
     "text": [
      "SPCM Pairs: ['TT', 'TR', 'RT', 'RR']\n",
      "\n",
      "corr[a,b] = [ 0.835 -0.81  -0.823  0.783]\n",
      "\tN[a , b ]=[1386  145  161 1222]\n",
      "\tN[a , b ]=[ 129 1183 1435  170]\n",
      "\tN[a , b ]=[ 106 1204 1251  112]\n",
      "\tN[a , b ]=[1231  106  100 1091]\n",
      "\n",
      "corr[a,B] = [ 0.504 -0.488 -0.511  0.545]\n",
      "\tN[a , B ]=[1142  357  355 1153]\n",
      "\tN[a , B ]=[ 338 1065 1173  311]\n",
      "\tN[a , B ]=[ 376  972 1017  288]\n",
      "\tN[a , B ]=[1025  344  354  881]\n",
      "\n",
      "corr[A,b] = [ 0.415 -0.377 -0.41   0.318]\n",
      "\tN[A , b ]=[999 399 357 924]\n",
      "\tN[A , b ]=[368 897 991 357]\n",
      "\tN[A , b ]=[ 449  925 1003  543]\n",
      "\tN[A , b ]=[975 425 477 814]\n",
      "\n",
      "corr[A,B] = [-0.765  0.651  0.726 -0.631]\n",
      "\tN[A , B ]=[ 188 1103 1195  273]\n",
      "\tN[A , B ]=[1230  229  220  952]\n",
      "\tN[A , B ]=[1319  233  177 1156]\n",
      "\tN[A , B ]=[ 152 1083 1301  204]\n",
      "\n",
      "S = abs(corrs[0,0] + corrs[0,1] + corrs[1,0] - corrs[1,1]) = TT, TR, RT, RR : [2.51871333 2.32588222 2.46946482 2.27627733]\n"
     ]
    }
   ],
   "source": [
    "TTC.measure_S_with_two_ports(CHSH_angles=idealAngles, debug=True)"
   ]
  },
  {
   "cell_type": "code",
   "execution_count": 9,
   "metadata": {},
   "outputs": [],
   "source": [
    "#SimulatorPhiPlus = TT_Simulator(two_particle_states['phi_plus'], initial_state_noise=0.00, debug=False)\n",
    "#SimulatorPhiMinus = TT_Simulator(two_particle_states['phi_minus'], initial_state_noise=0.00, debug=False)\n",
    "#TTC.measureS(CHSH_angles=idealAngles, integration_time_per_basis_setting_SI=1, TTSimulator=SimulatorPhiPlus, coincidence_window_SI=0.5e-9)"
   ]
  },
  {
   "cell_type": "markdown",
   "metadata": {},
   "source": [
    "# OSC Server Setup\n"
   ]
  },
  {
   "cell_type": "code",
   "execution_count": null,
   "metadata": {},
   "outputs": [
    {
     "name": "stdout",
     "output_type": "stream",
     "text": [
      "OSC Server Started. Serving on ('192.168.0.2', 7401)\n",
      "----------------------------------------------------\n"
     ]
    },
    {
     "name": "stdout",
     "output_type": "stream",
     "text": [
      "State Changed to: Q_all\n"
     ]
    }
   ],
   "source": [
    "my_ip = '192.168.0.2'\n",
    "visual_ip = '192.168.0.5'\n",
    "my_port = 7401 \n",
    "clemens_port = 7401\n",
    "visual_port = 7403\n",
    "\n",
    "if 'OSC' not in globals():\n",
    "    OSC = OSCCommunicator(my_ip=my_ip, my_port=my_port)\n",
    "\n",
    "Myself = OSCTarget(ip=my_ip, port=my_port, name='Myself')\n",
    "Clemens = OSCTarget(ip='192.168.0.3', port=clemens_port, name='Clemens')\n",
    "Visuals = OSCTarget(ip=visual_ip, port=visual_port, name='Visuals')\n",
    "\n",
    "# Start the server\n",
    "OSC.start_server()"
   ]
  },
  {
   "cell_type": "code",
   "execution_count": 9,
   "metadata": {},
   "outputs": [
    {
     "name": "stdout",
     "output_type": "stream",
     "text": [
      "Measurement [1, 2, 3, 4] sent to Clemens\n"
     ]
    }
   ],
   "source": [
    "# Send measurements\n",
    "measurement_results = [1, 2, 3, 4]\n",
    "OSC.send_measurement(target=Clemens, measurement_results=measurement_results)\n"
   ]
  },
  {
   "cell_type": "code",
   "execution_count": 10,
   "metadata": {},
   "outputs": [
    {
     "name": "stdout",
     "output_type": "stream",
     "text": [
      "Measurement hi sent to Visuals\n"
     ]
    }
   ],
   "source": [
    "OSC.send_visuals(target=Visuals, measurement_results=\"hi\")"
   ]
  },
  {
   "cell_type": "code",
   "execution_count": 11,
   "metadata": {},
   "outputs": [],
   "source": [
    "# Global flag to control the loop\n",
    "performance_running = False\n",
    "resultTranslate = {0 : [1, 1],\n",
    "                   1 : [1, -1],\n",
    "                   2 : [-1, 1],\n",
    "                   3 : [-1, -1]}\n",
    "# a A b B\n",
    "Q_angles = [0, -22.5, -11.5, 11.5]\n",
    "C_angles = [0, 22.5, -45, -22.5]\n",
    "\n",
    "                    # ab, aB, Ab, AB\n",
    "angle_pair_dict = {'Q_all':[(0, -11.5), (0, 11.5), (-22.5, -11.5), (-22.5, 11.5)],\n",
    "                    # ab, AB\n",
    "                   'Q_diagonal': [(0, 11.5), (-22.5, -11.5)],\n",
    "                    # ab, AB\n",
    "                   'C_diagonal': [(0, -45), (22.5, -22.5)],\n",
    "                    # AB\n",
    "                   'C_single': [(-45, -22.5)],\n",
    "                   }\n",
    "\n",
    "def performance_cycle():\n",
    "    \"\"\"The function you want to execute repeatedly.\"\"\"\n",
    "    global performance_running\n",
    "    \n",
    "    time_of_last_visual = time.time()\n",
    "    while performance_running:\n",
    "        theta_a, theta_b = random.choice(angle_pair_dict[OSC.currently_selected_state])\n",
    "        \n",
    "        measurement_results = TTC.get_single_measurement(theta_a, theta_b)\n",
    "        \n",
    "        # check if setup is measuring Quantum or Classical angles for conversion to clemens format        \n",
    "        if OSC.currently_selected_state[0] == 'Q':\n",
    "            check_angles = Q_angles\n",
    "        elif OSC.currently_selected_state[0] == 'C':\n",
    "            check_angles = C_angles\n",
    "\n",
    "        resultClemensFormat = [1 if theta_a == check_angles[0] else 2, 1 if theta_b == check_angles[2] else 2 ,*resultTranslate[measurement_results]]\n",
    "\n",
    "        OSC.send_measurement(Clemens, resultClemensFormat)\n",
    "\n",
    "        #if time.time() - time_of_last_visual > 7:\n",
    "        #    OSC.send_visuals(Visuals, resultClemensFormat)\n",
    "        #    time_of_last_visual = time.time()\n",
    "\n",
    "\n",
    "def start_performance():\n",
    "    \"\"\"Starts the task in a separate thread.\"\"\"\n",
    "    global performance_running\n",
    "    performance_running = True  # Ensure the loop is enabled\n",
    "    task_thread = threading.Thread(target=performance_cycle, daemon=True)\n",
    "    task_thread.start()\n",
    "\n",
    "def stop_performance():\n",
    "    \"\"\"Signals the task to stop gracefully.\"\"\"\n",
    "    global performance_running\n",
    "    performance_running = False\n",
    "    print('performance stopped...')\n"
   ]
  },
  {
   "cell_type": "code",
   "execution_count": 12,
   "metadata": {},
   "outputs": [],
   "source": [
    "Myself.client.send_message(\"/bruQner/set/state\", 'Q_all')"
   ]
  },
  {
   "cell_type": "code",
   "execution_count": null,
   "metadata": {},
   "outputs": [
    {
     "name": "stdout",
     "output_type": "stream",
     "text": [
      "performance stopped...\n"
     ]
    }
   ],
   "source": [
    "stop_performance()"
   ]
  },
  {
   "cell_type": "code",
   "execution_count": null,
   "metadata": {},
   "outputs": [],
   "source": []
  },
  {
   "cell_type": "code",
   "execution_count": 13,
   "metadata": {},
   "outputs": [
    {
     "name": "stderr",
     "output_type": "stream",
     "text": [
      "Exception in thread Thread-31 (performance_cycle):\n",
      "Traceback (most recent call last):\n",
      "  File \"C:\\Program Files\\WindowsApps\\PythonSoftwareFoundation.Python.3.10_3.10.3056.0_x64__qbz5n2kfra8p0\\lib\\threading.py\", line 1016, in _bootstrap_inner\n",
      "    self.run()\n",
      "  File \"C:\\Users\\ghana\\AppData\\Local\\Packages\\PythonSoftwareFoundation.Python.3.10_qbz5n2kfra8p0\\LocalCache\\local-packages\\Python310\\site-packages\\ipykernel\\ipkernel.py\", line 766, in run_closure\n",
      "    _threading_Thread_run(self)\n",
      "  File \"C:\\Program Files\\WindowsApps\\PythonSoftwareFoundation.Python.3.10_3.10.3056.0_x64__qbz5n2kfra8p0\\lib\\threading.py\", line 953, in run\n",
      "    self._target(*self._args, **self._kwargs)\n",
      "  File \"C:\\Users\\ghana\\AppData\\Local\\Temp\\ipykernel_7892\\2901152145.py\", line 29, in performance_cycle\n",
      "  File \"\\\\wsl.localhost\\Ubuntu\\home\\benjaminorthner\\projects\\bruQner\\calibration_and_testing\\..\\src\\time_tagger\\time_tagger_controller.py\", line 581, in get_single_measurement\n",
      "    eventsByChannel = self.collect_stream_data(integration_time, max_time=max_time, minimum_event_count=minimum_event_count)\n",
      "TypeError: TimeTaggerController.collect_stream_data() got an unexpected keyword argument 'minimum_event_count'\n"
     ]
    }
   ],
   "source": [
    "start_performance()"
   ]
  }
 ],
 "metadata": {
  "kernelspec": {
   "display_name": "Python 3",
   "language": "python",
   "name": "python3"
  },
  "language_info": {
   "codemirror_mode": {
    "name": "ipython",
    "version": 3
   },
   "file_extension": ".py",
   "mimetype": "text/x-python",
   "name": "python",
   "nbconvert_exporter": "python",
   "pygments_lexer": "ipython3",
   "version": "3.10.11"
  }
 },
 "nbformat": 4,
 "nbformat_minor": 2
}
