{
 "cells": [
  {
   "cell_type": "code",
   "execution_count": 1,
   "metadata": {},
   "outputs": [],
   "source": [
    "import sys\n",
    "sys.path.insert(0, '../')\n",
    "\n",
    "import numpy as np\n",
    "from src.time_tagger import TimeTaggerController, TT_Simulator, two_particle_states\n",
    "from src.kinetic_mount_controller import KineticMountControl\n",
    "from src.osc import OSCCommunicator, OSCTarget"
   ]
  },
  {
   "cell_type": "markdown",
   "metadata": {},
   "source": [
    "# OSC Server Setup"
   ]
  },
  {
   "cell_type": "code",
   "execution_count": 2,
   "metadata": {},
   "outputs": [
    {
     "name": "stdout",
     "output_type": "stream",
     "text": [
      "OSC Server Started. Serving on ('128.131.195.250', 7401)\n",
      "--------------------------------------------------------\n",
      "\n"
     ]
    }
   ],
   "source": [
    "my_ip = '128.131.195.250'\n",
    "my_port = 7401 \n",
    "\n",
    "if 'OSC' not in globals():\n",
    "    OSC = OSCCommunicator(my_ip=my_ip, my_port=my_port)\n",
    "\n",
    "Myself = OSCTarget(ip=my_ip, port=my_port, name='Myself')\n",
    "Clemens = OSCTarget(ip='192.168.0.3', port=7400, name='Clemens')\n",
    "\n",
    "# Start the server\n",
    "OSC.start_server()"
   ]
  },
  {
   "cell_type": "code",
   "execution_count": 9,
   "metadata": {},
   "outputs": [
    {
     "name": "stdout",
     "output_type": "stream",
     "text": [
      "Measurement [1, 2, 3, 4] sent to Myself\n"
     ]
    }
   ],
   "source": [
    "# Send measurements\n",
    "measurement_results = [1, 2, 3, 4]\n",
    "OSC.send_measurement(target=Myself, measurement_results=measurement_results)"
   ]
  },
  {
   "cell_type": "code",
   "execution_count": 3,
   "metadata": {},
   "outputs": [
    {
     "name": "stdout",
     "output_type": "stream",
     "text": [
      "Measurement [1] sent to Myself\n",
      "Test request sent to \"Myself\"\n"
     ]
    },
    {
     "name": "stdout",
     "output_type": "stream",
     "text": [
      "Received measurement: (1,)\n"
     ]
    }
   ],
   "source": [
    "OSC.send_measurement(target=Myself, measurement_results=[1])\n",
    "OSC.send_test_request(target=Myself)\n",
    "OSC.send_test_response(target=Myself)"
   ]
  }
 ],
 "metadata": {
  "kernelspec": {
   "display_name": "Python 3",
   "language": "python",
   "name": "python3"
  },
  "language_info": {
   "codemirror_mode": {
    "name": "ipython",
    "version": 3
   },
   "file_extension": ".py",
   "mimetype": "text/x-python",
   "name": "python",
   "nbconvert_exporter": "python",
   "pygments_lexer": "ipython3",
   "version": "3.10.11"
  }
 },
 "nbformat": 4,
 "nbformat_minor": 2
}
