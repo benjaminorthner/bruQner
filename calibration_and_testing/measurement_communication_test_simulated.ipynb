{
 "cells": [
  {
   "cell_type": "code",
   "execution_count": 1,
   "metadata": {},
   "outputs": [],
   "source": [
    "import sys\n",
    "sys.path.insert(0, '../')\n",
    "\n",
    "import numpy as np\n",
    "from src.time_tagger import TimeTaggerController, TT_Simulator, two_particle_states\n",
    "from src.kinetic_mount_controller import KineticMountControl\n",
    "from src.osc import OSCCommunicator, OSCTarget"
   ]
  },
  {
   "cell_type": "markdown",
   "metadata": {},
   "source": [
    "# OSC Server Setup"
   ]
  },
  {
   "cell_type": "code",
   "execution_count": 2,
   "metadata": {},
   "outputs": [
    {
     "name": "stdout",
     "output_type": "stream",
     "text": [
      "OSC Server Started. Serving on ('128.131.195.250', 7401)\n",
      "--------------------------------------------------------\n"
     ]
    }
   ],
   "source": [
    "my_ip = '128.131.195.250'\n",
    "my_port = 7401 \n",
    "\n",
    "if 'OSC' not in globals():\n",
    "    OSC = OSCCommunicator(my_ip=my_ip, my_port=my_port)\n",
    "\n",
    "Myself = OSCTarget(ip=my_ip, port=my_port, name='Myself')\n",
    "Clemens = OSCTarget(ip='192.168.0.3', port=7400, name='Clemens')\n",
    "\n",
    "# Start the server\n",
    "OSC.start_server()"
   ]
  },
  {
   "cell_type": "code",
   "execution_count": 3,
   "metadata": {},
   "outputs": [
    {
     "name": "stdout",
     "output_type": "stream",
     "text": [
      "Measurement [1, 2, 3, 4] sent to Myself\n"
     ]
    },
    {
     "name": "stdout",
     "output_type": "stream",
     "text": [
      "Received measurement: (1, 2, 3, 4)\n"
     ]
    }
   ],
   "source": [
    "# Send measurements\n",
    "measurement_results = [1, 2, 3, 4]\n",
    "OSC.send_measurement(target=Myself, measurement_results=measurement_results)"
   ]
  },
  {
   "cell_type": "markdown",
   "metadata": {},
   "source": [
    "# Setup Simulator"
   ]
  },
  {
   "cell_type": "code",
   "execution_count": 2,
   "metadata": {},
   "outputs": [],
   "source": [
    "SimulatorPhiPlus = TT_Simulator(two_particle_states['phi_plus'], initial_state_noise=0, debug=False)\n",
    "CHSH_angles = SimulatorPhiPlus.CHSH_angles_for_filters"
   ]
  },
  {
   "cell_type": "markdown",
   "metadata": {},
   "source": [
    "## Make 1 Measurement and Send to Clemens"
   ]
  },
  {
   "cell_type": "code",
   "execution_count": 131,
   "metadata": {},
   "outputs": [
    {
     "name": "stdout",
     "output_type": "stream",
     "text": [
      "theta_a=0.00, theta_b=-11.25\n",
      "counts: [413  80  73 434]\n",
      "formatted: [1, 1, 1, 1]\n"
     ]
    }
   ],
   "source": [
    "#TODO Package random choice stuff into extra function\n",
    "theta_a = np.random.choice(CHSH_angles[0:2])\n",
    "theta_b = np.random.choice(CHSH_angles[2:4])\n",
    "\n",
    "integratedMeasurement = SimulatorPhiPlus.measure_n_entangled_pairs_filter_angles(1000, theta_a, theta_b)\n",
    "print(f'theta_a={theta_a:.2f}, theta_b={theta_b:.2f}')\n",
    "print(f'counts: {integratedMeasurement}')\n",
    "\n",
    "#TODO convert to format clemens wants\n",
    "effectiveSingleMeasurement = np.random.choice(a=[0, 1, 2, 3], p=integratedMeasurement / integratedMeasurement.sum())\n",
    "\n",
    "mTranslate = {0 : [1, 1],\n",
    "              1 : [1, -1],\n",
    "              2 : [-1, 1],\n",
    "              3 : [-1, -1]}\n",
    "\n",
    "resultClemensFormat = [1 if theta_a == CHSH_angles[0] else 2, 1 if theta_b == CHSH_angles[2] else 2 ,*mTranslate[effectiveSingleMeasurement]]\n",
    "print(f'formatted: {resultClemensFormat}')\n",
    "\n",
    "#OSC.send_measurement(Clemens, resultClemensFormat)\n"
   ]
  },
  {
   "cell_type": "markdown",
   "metadata": {},
   "source": [
    "Two options for how I could manage getting single measurement results from the real experiment:\n",
    "\n",
    "1. Integrate counts over a period x, and then choose a random result based on the distribution accross the 4 coincidence options (Gives the expected behaviour but introduces a non-true random choice, but we could sample this randomness from somewhere else. Also have non true random choice of basis anyway). This would be by far the simpler option\n",
    "\n",
    "2. Could read out RAW time tag data for all 4 coincidence virtual channels and and pick the channel that got the earliest time tag. Would be the more elegant option, but is more prone to systematic errors like not all channels starting at the same time (could mitigate by choosing a threashold wait time)"
   ]
  }
 ],
 "metadata": {
  "kernelspec": {
   "display_name": "Python 3",
   "language": "python",
   "name": "python3"
  },
  "language_info": {
   "codemirror_mode": {
    "name": "ipython",
    "version": 3
   },
   "file_extension": ".py",
   "mimetype": "text/x-python",
   "name": "python",
   "nbconvert_exporter": "python",
   "pygments_lexer": "ipython3",
   "version": "3.10.11"
  }
 },
 "nbformat": 4,
 "nbformat_minor": 2
}
