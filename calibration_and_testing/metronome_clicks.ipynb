{
 "cells": [
  {
   "cell_type": "code",
   "execution_count": 1,
   "metadata": {},
   "outputs": [],
   "source": [
    "import sys\n",
    "sys.path.insert(0, '../')\n",
    "\n",
    "from src.time_tagger import TimeTaggerController, TT_Simulator, two_particle_states\n",
    "from src.kinetic_mount_controller import KineticMountControl\n",
    "from src.osc import OSCCommunicator, OSCTarget\n",
    "import time\n",
    "import threading\n",
    "import random"
   ]
  },
  {
   "cell_type": "code",
   "execution_count": 2,
   "metadata": {},
   "outputs": [
    {
     "name": "stdout",
     "output_type": "stream",
     "text": [
      "\n",
      "ASSIGNING CONTROLLERS\n",
      "---------------------------------------------------------------\n",
      "Ports Found: ['COM8', 'COM9']\n",
      "---------------------------------------------------------------\n",
      "Device succesfully connected (Rotation Mount) (Address: 0)\n",
      "Device succesfully connected (Rotation Mount) (Address: 0)\n"
     ]
    }
   ],
   "source": [
    "# only run if not already created\n",
    "if 'KMC' not in globals():  \n",
    "    KMC = KineticMountControl(number_of_devices=2, address_search_depth=0)\n",
    "    #KMC.swap_alice_bob()\n",
    "\n",
    "TTC = TimeTaggerController()\n",
    "# connect KMC and TTC\n",
    "TTC.setKineticMountController(KMC)\n",
    "# set alice channels\n",
    "TTC.set_alice_reflection_channel(1)\n",
    "TTC.set_alice_transmission_channel(4)\n",
    "# set bob channels\n",
    "TTC.set_bob_reflection_channel(3)\n",
    "TTC.set_bob_transmission_channel(2)\n",
    "\n",
    "\n",
    "# set bob home offset\n",
    "KMC.bob.set_home_offset(-43 % 360)\n",
    "KMC.bob.home()\n",
    "# set alice home offset\n",
    "KMC.alice.set_home_offset(9)\n",
    "KMC.alice.home()\n",
    "\n"
   ]
  },
  {
   "cell_type": "code",
   "execution_count": 3,
   "metadata": {},
   "outputs": [
    {
     "name": "stdout",
     "output_type": "stream",
     "text": [
      "Delays Before Correction\n",
      "Alice_T :     0 ps \t/     0.0 mm\n",
      "Alice_R :   289 ps \t/    86.7 mm\n",
      "Bob_T   :  -472 ps \t/  -141.6 mm\n",
      "Bob_R   :   -36 ps \t/   -10.8 mm\n",
      "\n",
      "Delays After Correction\n",
      "Alice_T :     0 ps \t/     0.0 mm\n",
      "Alice_R :    -7 ps \t/    -2.1 mm\n",
      "Bob_T   :    -5 ps \t/    -1.5 mm\n",
      "Bob_R   :     0 ps \t/     0.0 mm\n"
     ]
    }
   ],
   "source": [
    "_ = TTC.performDelayAdjustment(integration_time=5)#, manual_delays=[0, 947, 78, -502])"
   ]
  },
  {
   "cell_type": "code",
   "execution_count": 4,
   "metadata": {},
   "outputs": [
    {
     "data": {
      "application/vnd.jupyter.widget-view+json": {
       "model_id": "f115a6870a6d4a0e994f9bc552876b34",
       "version_major": 2,
       "version_minor": 0
      },
      "text/plain": [
       "Output()"
      ]
     },
     "metadata": {},
     "output_type": "display_data"
    },
    {
     "data": {
      "application/vnd.jupyter.widget-view+json": {
       "model_id": "f8860a585a034c78885d24e1fcecb0ad",
       "version_major": 2,
       "version_minor": 0
      },
      "text/plain": [
       "Output()"
      ]
     },
     "metadata": {},
     "output_type": "display_data"
    },
    {
     "name": "stderr",
     "output_type": "stream",
     "text": [
      "No such comm: 4e438d80a19a4d5b8cdc9d1e983be9fe\n"
     ]
    }
   ],
   "source": [
    "n_values = 150\n",
    "trace_width = 3\n",
    "TTC.displayCountTraces(n_values=n_values, trace_width=trace_width, plot_title='<b>Raw Counts<b>')\n",
    "TTC.displayCoincidenceTraces(coincidence_window_SI=0.5e-9, n_values=n_values, trace_width=trace_width, plot_title='<b>Coincidences<b>')"
   ]
  },
  {
   "cell_type": "code",
   "execution_count": 44,
   "metadata": {},
   "outputs": [],
   "source": [
    "KMC.rotate_simulataneously(0, 45, wait_for_completion=False)"
   ]
  },
  {
   "cell_type": "code",
   "execution_count": 5,
   "metadata": {},
   "outputs": [
    {
     "name": "stdout",
     "output_type": "stream",
     "text": [
      "\n",
      "corr[a,b] = 0.81669\n",
      "\tN[|T,T>]=  2287\t(0.447)\n",
      "\tN[|T,R>]=   352\t(0.069)\n",
      "\tN[|R,T>]=   117\t(0.023)\n",
      "\tN[|R,R>]=  2361\t(0.461)\n",
      "\n",
      "corr[a,B] = 0.57418\n",
      "\tN[|T,T>]=  1831\t(0.349)\n",
      "\tN[|T,R>]=   662\t(0.126)\n",
      "\tN[|R,T>]=   456\t(0.087)\n",
      "\tN[|R,R>]=  2302\t(0.438)\n",
      "\n",
      "corr[A,b] = 0.45004\n",
      "\tN[|T,T>]=  1558\t(0.306)\n",
      "\tN[|T,R>]=   672\t(0.132)\n",
      "\tN[|R,T>]=   726\t(0.143)\n",
      "\tN[|R,R>]=  2128\t(0.419)\n",
      "\n",
      "corr[A,B] = -0.59464\n",
      "\tN[|T,T>]=   324\t(0.068)\n",
      "\tN[|T,R>]=  1991\t(0.417)\n",
      "\tN[|R,T>]=  1817\t(0.380)\n",
      "\tN[|R,R>]=   644\t(0.135)\n",
      "\n",
      "S = abs(corrs[0,0] + corrs[0,1] + corrs[1,0] - corrs[1,1]) = 2.435545018946393\n"
     ]
    }
   ],
   "source": [
    "plusAngles = [0, -22.5, -11.25, 11.25] # for triplett |HH> + |VV> initial state (plate looks backwards)\n",
    "minusAngles = [0, -22.5, 11.25, -11.25] # for triplett |HH> + |VV> initial state (plate looks forwards/correct)\n",
    "TTC.measureS(CHSH_angles=plusAngles, integration_time_per_basis_setting_SI=2, TTSimulator=None, coincidence_window_SI=0.5e-9, debug=True)"
   ]
  },
  {
   "cell_type": "code",
   "execution_count": 7,
   "metadata": {},
   "outputs": [
    {
     "name": "stdout",
     "output_type": "stream",
     "text": [
      "\n",
      "corr[a,b] = -1.0\n",
      "\tN[|T,T>]=     0\t(0.000)\n",
      "\tN[|T,R>]=  2503\t(0.501)\n",
      "\tN[|R,T>]=  2497\t(0.499)\n",
      "\tN[|R,R>]=     0\t(0.000)\n",
      "\n",
      "corr[a,B] = 0.0008\n",
      "\tN[|T,T>]=  1225\t(0.245)\n",
      "\tN[|T,R>]=  1284\t(0.257)\n",
      "\tN[|R,T>]=  1214\t(0.243)\n",
      "\tN[|R,R>]=  1277\t(0.255)\n",
      "\n",
      "corr[A,b] = 0.0096\n",
      "\tN[|T,T>]=  1220\t(0.244)\n",
      "\tN[|T,R>]=  1251\t(0.250)\n",
      "\tN[|R,T>]=  1225\t(0.245)\n",
      "\tN[|R,R>]=  1304\t(0.261)\n",
      "\n",
      "corr[A,B] = 1.0\n",
      "\tN[|T,T>]=  2519\t(0.504)\n",
      "\tN[|T,R>]=     0\t(0.000)\n",
      "\tN[|R,T>]=     0\t(0.000)\n",
      "\tN[|R,R>]=  2481\t(0.496)\n",
      "\n",
      "S = abs(corrs[0,0] + corrs[0,1] + corrs[1,0] - corrs[1,1]) = 1.9895999999999998\n"
     ]
    }
   ],
   "source": [
    "idealAngles = [0, -22.5, -11.25, 11.25] # for triplett |HH> - |VV> initial state\n",
    "johannes_ideal_angles = [0, 45/2, -22.5/2, 22.5/2]\n",
    "johannes_classical_angles = [0, 45/2, 90/2, 45/2]\n",
    "SimulatorPhiPlus = TT_Simulator(two_particle_states['phi_plus'], initial_state_noise=0.00, debug=False)\n",
    "SimulatorPhiMinus = TT_Simulator(two_particle_states['phi_minus'], initial_state_noise=0.00, debug=False)\n",
    "TTC.measureS(CHSH_angles=johannes_classical_angles, integration_time_per_basis_setting_SI=1, TTSimulator=SimulatorPhiPlus, coincidence_window_SI=0.5e-9)\n"
   ]
  },
  {
   "cell_type": "code",
   "execution_count": 6,
   "metadata": {},
   "outputs": [
    {
     "name": "stdout",
     "output_type": "stream",
     "text": [
      "OSC Server Started. Serving on ('192.168.0.2', 7401)\n",
      "----------------------------------------------------\n"
     ]
    }
   ],
   "source": [
    "my_ip = '192.168.0.2'\n",
    "clemens_ip = \"192.168.0.3\"\n",
    "enar_ip = \"192.168.0.5\"\n",
    "my_port = 7401 \n",
    "clemens_port = 7401\n",
    "enar_port = 10000\n",
    "\n",
    "if 'OSC' not in globals():\n",
    "    OSC = OSCCommunicator(my_ip=my_ip, my_port=my_port)\n",
    "\n",
    "Myself = OSCTarget(ip=my_ip, port=my_port, name='Myself')\n",
    "Clemens = OSCTarget(ip=clemens_ip, port=clemens_port, name='Clemens')\n",
    "Enar = OSCTarget(ip=enar_ip, port=enar_port, name=\"Enar\")\n",
    "\n",
    "# Start the server\n",
    "OSC.start_server()\n"
   ]
  },
  {
   "cell_type": "code",
   "execution_count": 7,
   "metadata": {},
   "outputs": [],
   "source": [
    "# Global flag to control the loop\n",
    "resultTranslate = {0 : [1, 1],\n",
    "                   1 : [1, -1],\n",
    "                   2 : [-1, 1],\n",
    "                   3 : [-1, -1]}\n",
    "\n",
    "                    # ab, aB, Ab, AB\n",
    "angle_pair_dict = {'Q_all':[(0, -11.25), (0, 11.25), (-22.5, -11.25), (-22.5, 11.25)], # set for plusAngles\n",
    "                    # Classical angles\n",
    "                   'C_all':[(0, 90/2), (0, 45/2), (45/2, 90/2), (45/2, 45/2)],\n",
    "                    # ab, AB\n",
    "                   'Q_diagonal': [(0, 11.25), (-22.5, -11.25)],\n",
    "                    # ab, AB\n",
    "                   'C_diagonal': [(0, -45), (22.5, -22.5)],\n",
    "                    # AB\n",
    "                   'C_single': [(-45, -22.5)],\n",
    "                   }\n",
    "\n",
    "def angle_pairs_to_filter_angles(angle_pairs):\n",
    "    return [angle_pairs[0][0],angle_pairs[2][0],angle_pairs[0][1],angle_pairs[1][1]]\n",
    "\n",
    "# for this perf we only want Q_all\n",
    "angle_pairs = angle_pair_dict[OSC.currently_selected_state]\n",
    "\n",
    "# setup system with correct initial angles\n",
    "KMC.rotate_simulataneously(*angle_pairs[0])\n",
    "\n",
    "def send_results(filterAngles, result, theta_a, theta_b):\n",
    "    resultClemensFormat = [1 if theta_a == filterAngles[0] else 2, 1 if theta_b == filterAngles[2] else 2 ,*resultTranslate[result]]\n",
    "    OSC.send_measurement(Clemens, resultClemensFormat)\n",
    "    OSC.send_measurement(Enar, resultClemensFormat)\n",
    "\n",
    "def performance_cycle_both(cycles):\n",
    "    \"\"\"The function you want to execute repeatedly.\"\"\"\n",
    "    metronome_interval_target = 0.526\n",
    "    correction_time = 0\n",
    "\n",
    "    # get currently selected angles by clemens and give back list in form [a,A,b,B]\n",
    "    angle_pairs = angle_pair_dict[OSC.currently_selected_state]\n",
    "    filterAngles = angle_pairs_to_filter_angles(angle_pairs) \n",
    "\n",
    "    prev_theta_a, prev_theta_b = angle_pairs[0]\n",
    "    last_valid_measurement_results = [1,1,-1,-1]\n",
    "    for i in range(cycles):\n",
    "        OSC.send_click_reference(Clemens)\n",
    "        theta_a, theta_b = random.choice(angle_pairs)\n",
    "        #theta_a, theta_b = [filterAngles[0:2][i%2], filterAngles[2:4][i%2]]\n",
    "        t = time.perf_counter() \n",
    "\n",
    "        measurement_results, prev_theta_a, prev_theta_b = TTC.get_single_measurement_metronome(angle_pairs, theta_a, theta_b, prev_theta_a, prev_theta_b, metronome_interval=metronome_interval_target - correction_time/1.3, integration_time=0.065, max_integration_time=0.07, max_rotation_duration=0.35)\n",
    "\n",
    "        # incase no coincidence is seen during integration time, repeat last measurement (only happens rarely)\n",
    "        if measurement_results == -1:\n",
    "            print(\"No Coincidence\")\n",
    "            measurement_results == last_valid_measurement_results\n",
    "        else:\n",
    "            last_valid_measurement_results = measurement_results\n",
    "\n",
    "        send_results(filterAngles, last_valid_measurement_results, theta_a, theta_b)\n",
    "        correction_time = time.perf_counter() - t - metronome_interval_target\n",
    "\n",
    "def performance_cycle_alice(cycles):\n",
    "    \"\"\"Only Alice flips positions every time\"\"\"\n",
    "    \n",
    "    angle_pairs = angle_pair_dict[OSC.currently_selected_state]\n",
    "    filterAngles = angle_pairs_to_filter_angles(angle_pairs) \n",
    "\n",
    "    prev_theta_a, prev_theta_b = angle_pairs[0]\n",
    "    for i in range(cycles):\n",
    "        theta_a, theta_b = [filterAngles[0:2][i%2], 0]\n",
    "        t = time.perf_counter() \n",
    "        measurement_results, prev_theta_a, prev_theta_b = TTC.get_single_measurement_metronome(angle_pairs, theta_a, theta_b, prev_theta_a, prev_theta_b, metronome_interval=0.500, integration_time=0.065, max_integration_time=0.07, max_rotation_duration=0.35)\n",
    "        print(time.perf_counter() - t)        \n",
    "\n",
    "def performance_cycle_bob(cycles):\n",
    "    \"\"\"Only Bob flips positions every time\"\"\"\n",
    "   \n",
    "    angle_pairs = angle_pair_dict[OSC.currently_selected_state]\n",
    "    filterAngles = angle_pairs_to_filter_angles(angle_pairs) \n",
    "\n",
    "    prev_theta_a, prev_theta_b = angle_pairs[0]\n",
    "    for i in range(cycles):\n",
    "        theta_a, theta_b = [0, filterAngles[2:4][i%2]]\n",
    "        t = time.perf_counter() \n",
    "        measurement_results, prev_theta_a, prev_theta_b = TTC.get_single_measurement_metronome(angle_pairs, theta_a, theta_b, prev_theta_a, prev_theta_b, metronome_interval=0.5, integration_time=0.065, max_integration_time=0.07, max_rotation_duration=0.35)\n",
    "        print(time.perf_counter() - t)        "
   ]
  },
  {
   "cell_type": "code",
   "execution_count": 12,
   "metadata": {},
   "outputs": [
    {
     "name": "stdout",
     "output_type": "stream",
     "text": [
      "Click sent to Clemens\n",
      "Measurement [2, 2, -1, 1] sent to Clemens\n",
      "Measurement [2, 2, -1, 1] sent to Enar\n",
      "Click sent to Clemens\n",
      "Measurement [1, 1, 1, 1] sent to Clemens\n",
      "Measurement [1, 1, 1, 1] sent to Enar\n",
      "Click sent to Clemens\n",
      "Measurement [2, 1, 1, 1] sent to Clemens\n",
      "Measurement [2, 1, 1, 1] sent to Enar\n",
      "Click sent to Clemens\n",
      "Measurement [1, 2, -1, -1] sent to Clemens\n",
      "Measurement [1, 2, -1, -1] sent to Enar\n",
      "Click sent to Clemens\n",
      "Measurement [1, 1, -1, -1] sent to Clemens\n",
      "Measurement [1, 1, -1, -1] sent to Enar\n",
      "Click sent to Clemens\n",
      "Measurement [1, 1, 1, 1] sent to Clemens\n",
      "Measurement [1, 1, 1, 1] sent to Enar\n",
      "Click sent to Clemens\n",
      "Measurement [1, 1, 1, -1] sent to Clemens\n",
      "Measurement [1, 1, 1, -1] sent to Enar\n",
      "Click sent to Clemens\n",
      "Measurement [2, 2, 1, -1] sent to Clemens\n",
      "Measurement [2, 2, 1, -1] sent to Enar\n",
      "Click sent to Clemens\n",
      "Measurement [2, 2, 1, -1] sent to Clemens\n",
      "Measurement [2, 2, 1, -1] sent to Enar\n",
      "Click sent to Clemens\n"
     ]
    },
    {
     "ename": "KeyboardInterrupt",
     "evalue": "",
     "output_type": "error",
     "traceback": [
      "\u001b[1;31m---------------------------------------------------------------------------\u001b[0m",
      "\u001b[1;31mKeyboardInterrupt\u001b[0m                         Traceback (most recent call last)",
      "Cell \u001b[1;32mIn[12], line 1\u001b[0m\n\u001b[1;32m----> 1\u001b[0m \u001b[43mperformance_cycle_both\u001b[49m\u001b[43m(\u001b[49m\u001b[38;5;241;43m80000\u001b[39;49m\u001b[43m)\u001b[49m\n",
      "Cell \u001b[1;32mIn[7], line 50\u001b[0m, in \u001b[0;36mperformance_cycle_both\u001b[1;34m(cycles)\u001b[0m\n\u001b[0;32m     47\u001b[0m \u001b[38;5;66;03m#theta_a, theta_b = [filterAngles[0:2][i%2], filterAngles[2:4][i%2]]\u001b[39;00m\n\u001b[0;32m     48\u001b[0m t \u001b[38;5;241m=\u001b[39m time\u001b[38;5;241m.\u001b[39mperf_counter() \n\u001b[1;32m---> 50\u001b[0m measurement_results, prev_theta_a, prev_theta_b \u001b[38;5;241m=\u001b[39m \u001b[43mTTC\u001b[49m\u001b[38;5;241;43m.\u001b[39;49m\u001b[43mget_single_measurement_metronome\u001b[49m\u001b[43m(\u001b[49m\u001b[43mangle_pairs\u001b[49m\u001b[43m,\u001b[49m\u001b[43m \u001b[49m\u001b[43mtheta_a\u001b[49m\u001b[43m,\u001b[49m\u001b[43m \u001b[49m\u001b[43mtheta_b\u001b[49m\u001b[43m,\u001b[49m\u001b[43m \u001b[49m\u001b[43mprev_theta_a\u001b[49m\u001b[43m,\u001b[49m\u001b[43m \u001b[49m\u001b[43mprev_theta_b\u001b[49m\u001b[43m,\u001b[49m\u001b[43m \u001b[49m\u001b[43mmetronome_interval\u001b[49m\u001b[38;5;241;43m=\u001b[39;49m\u001b[43mmetronome_interval_target\u001b[49m\u001b[43m \u001b[49m\u001b[38;5;241;43m-\u001b[39;49m\u001b[43m \u001b[49m\u001b[43mcorrection_time\u001b[49m\u001b[38;5;241;43m/\u001b[39;49m\u001b[38;5;241;43m1.3\u001b[39;49m\u001b[43m,\u001b[49m\u001b[43m \u001b[49m\u001b[43mintegration_time\u001b[49m\u001b[38;5;241;43m=\u001b[39;49m\u001b[38;5;241;43m0.065\u001b[39;49m\u001b[43m,\u001b[49m\u001b[43m \u001b[49m\u001b[43mmax_integration_time\u001b[49m\u001b[38;5;241;43m=\u001b[39;49m\u001b[38;5;241;43m0.07\u001b[39;49m\u001b[43m,\u001b[49m\u001b[43m \u001b[49m\u001b[43mmax_rotation_duration\u001b[49m\u001b[38;5;241;43m=\u001b[39;49m\u001b[38;5;241;43m0.35\u001b[39;49m\u001b[43m)\u001b[49m\n\u001b[0;32m     52\u001b[0m \u001b[38;5;66;03m# incase no coincidence is seen during integration time, repeat last measurement (only happens rarely)\u001b[39;00m\n\u001b[0;32m     53\u001b[0m \u001b[38;5;28;01mif\u001b[39;00m measurement_results \u001b[38;5;241m==\u001b[39m \u001b[38;5;241m-\u001b[39m\u001b[38;5;241m1\u001b[39m:\n",
      "File \u001b[1;32m\\\\wsl.localhost\\Ubuntu\\home\\benjaminorthner\\projects\\bruQner\\calibration_and_testing\\..\\src\\time_tagger\\time_tagger_controller.py:620\u001b[0m, in \u001b[0;36mTimeTaggerController.get_single_measurement_metronome\u001b[1;34m(self, angle_pairs, theta_a, theta_b, prev_theta_a, prev_theta_b, metronome_interval, integration_time, max_integration_time, max_rotation_duration, coincidence_window_SI, debug)\u001b[0m\n\u001b[0;32m    617\u001b[0m \u001b[38;5;66;03m# Perform rotation\u001b[39;00m\n\u001b[0;32m    618\u001b[0m \u001b[38;5;66;03m# Do not wait for completion, instead just go to max time\u001b[39;00m\n\u001b[0;32m    619\u001b[0m t2 \u001b[38;5;241m=\u001b[39m time\u001b[38;5;241m.\u001b[39mperf_counter()\n\u001b[1;32m--> 620\u001b[0m \u001b[38;5;28;43mself\u001b[39;49m\u001b[38;5;241;43m.\u001b[39;49m\u001b[43mKMC\u001b[49m\u001b[38;5;241;43m.\u001b[39;49m\u001b[43mrotate_simulataneously_metronome\u001b[49m\u001b[43m(\u001b[49m\u001b[43mtheta_a\u001b[49m\u001b[43m,\u001b[49m\u001b[43m \u001b[49m\u001b[43mtheta_b\u001b[49m\u001b[43m,\u001b[49m\u001b[43m \u001b[49m\u001b[43mprev_theta_a\u001b[49m\u001b[43m,\u001b[49m\u001b[43m \u001b[49m\u001b[43mprev_theta_b\u001b[49m\u001b[43m,\u001b[49m\u001b[43m \u001b[49m\u001b[43mwait_for_completion\u001b[49m\u001b[38;5;241;43m=\u001b[39;49m\u001b[38;5;28;43;01mFalse\u001b[39;49;00m\u001b[43m,\u001b[49m\u001b[43m \u001b[49m\u001b[43mtarget_duration\u001b[49m\u001b[38;5;241;43m=\u001b[39;49m\u001b[43mmax_rotation_duration\u001b[49m\u001b[43m)\u001b[49m\n\u001b[0;32m    621\u001b[0m timings[\u001b[38;5;124m'\u001b[39m\u001b[38;5;124mrotate_simultaneously\u001b[39m\u001b[38;5;124m'\u001b[39m] \u001b[38;5;241m=\u001b[39m time\u001b[38;5;241m.\u001b[39mperf_counter() \u001b[38;5;241m-\u001b[39m t2\n\u001b[0;32m    624\u001b[0m \u001b[38;5;66;03m# if angles_changed (in other words, if a click has happened) integrate now\u001b[39;00m\n\u001b[0;32m    625\u001b[0m \u001b[38;5;66;03m# else do nothing and wait\u001b[39;00m\n",
      "File \u001b[1;32m\\\\wsl.localhost\\Ubuntu\\home\\benjaminorthner\\projects\\bruQner\\calibration_and_testing\\..\\src\\kinetic_mount_controller\\kinetic_mount_controller.py:213\u001b[0m, in \u001b[0;36mKineticMountControl.rotate_simulataneously_metronome\u001b[1;34m(self, alice_angle, bob_angle, alice_prev_angle, bob_prev_angle, wait_for_completion, target_duration)\u001b[0m\n\u001b[0;32m    211\u001b[0m \u001b[38;5;66;03m# wait until target duration is reached regardless of wait_for_completion parameter\u001b[39;00m\n\u001b[0;32m    212\u001b[0m \u001b[38;5;28;01mif\u001b[39;00m time\u001b[38;5;241m.\u001b[39mperf_counter() \u001b[38;5;241m-\u001b[39m start_time \u001b[38;5;241m<\u001b[39m\u001b[38;5;241m=\u001b[39m  target_duration:\n\u001b[1;32m--> 213\u001b[0m     \u001b[38;5;28;43mself\u001b[39;49m\u001b[38;5;241;43m.\u001b[39;49m\u001b[43mhybrid_wait\u001b[49m\u001b[43m(\u001b[49m\u001b[43mtarget_duration\u001b[49m\u001b[43m,\u001b[49m\u001b[43m \u001b[49m\u001b[43mstart_time\u001b[49m\u001b[38;5;241;43m=\u001b[39;49m\u001b[43mstart_time\u001b[49m\u001b[43m)\u001b[49m\n",
      "File \u001b[1;32m\\\\wsl.localhost\\Ubuntu\\home\\benjaminorthner\\projects\\bruQner\\calibration_and_testing\\..\\src\\kinetic_mount_controller\\kinetic_mount_controller.py:120\u001b[0m, in \u001b[0;36mKineticMountControl.hybrid_wait\u001b[1;34m(target_duration, start_time)\u001b[0m\n\u001b[0;32m    117\u001b[0m     \u001b[38;5;28;01mbreak\u001b[39;00m\n\u001b[0;32m    119\u001b[0m \u001b[38;5;28;01mif\u001b[39;00m remaining_time \u001b[38;5;241m>\u001b[39m \u001b[38;5;241m0.02\u001b[39m:  \u001b[38;5;66;03m# Sleep only for durations > 20ms\u001b[39;00m\n\u001b[1;32m--> 120\u001b[0m     \u001b[43mtime\u001b[49m\u001b[38;5;241;43m.\u001b[39;49m\u001b[43msleep\u001b[49m\u001b[43m(\u001b[49m\u001b[43mremaining_time\u001b[49m\u001b[43m \u001b[49m\u001b[38;5;241;43m-\u001b[39;49m\u001b[43m \u001b[49m\u001b[38;5;241;43m0.02\u001b[39;49m\u001b[43m)\u001b[49m\n",
      "\u001b[1;31mKeyboardInterrupt\u001b[0m: "
     ]
    }
   ],
   "source": [
    "performance_cycle_both(80000)"
   ]
  },
  {
   "cell_type": "code",
   "execution_count": 4,
   "metadata": {},
   "outputs": [
    {
     "ename": "AttributeError",
     "evalue": "'NoneType' object has no attribute 'getChannels'",
     "output_type": "error",
     "traceback": [
      "\u001b[1;31m---------------------------------------------------------------------------\u001b[0m",
      "\u001b[1;31mAttributeError\u001b[0m                            Traceback (most recent call last)",
      "Cell \u001b[1;32mIn[4], line 2\u001b[0m\n\u001b[0;32m      1\u001b[0m start \u001b[38;5;241m=\u001b[39m time\u001b[38;5;241m.\u001b[39mperf_counter()\n\u001b[1;32m----> 2\u001b[0m result \u001b[38;5;241m=\u001b[39m \u001b[43mTTC\u001b[49m\u001b[38;5;241;43m.\u001b[39;49m\u001b[43mcollect_stream_data_single_attempt\u001b[49m\u001b[43m(\u001b[49m\u001b[38;5;241;43m0.065\u001b[39;49m\u001b[43m,\u001b[49m\u001b[43m \u001b[49m\u001b[38;5;241;43m0.065\u001b[39;49m\u001b[43m)\u001b[49m\n\u001b[0;32m      3\u001b[0m \u001b[38;5;28mprint\u001b[39m(time\u001b[38;5;241m.\u001b[39mperf_counter() \u001b[38;5;241m-\u001b[39m start, result )\n",
      "File \u001b[1;32m\\\\wsl.localhost\\Ubuntu\\home\\benjaminorthner\\projects\\bruQner\\calibration_and_testing\\..\\src\\time_tagger\\time_tagger_controller.py:513\u001b[0m, in \u001b[0;36mTimeTaggerController.collect_stream_data_single_attempt\u001b[1;34m(self, integration_time, target_duration)\u001b[0m\n\u001b[0;32m    507\u001b[0m events_by_channel \u001b[38;5;241m=\u001b[39m []\n\u001b[0;32m    509\u001b[0m \u001b[38;5;66;03m# Create the stream\u001b[39;00m\n\u001b[0;32m    510\u001b[0m stream \u001b[38;5;241m=\u001b[39m TimeTagger\u001b[38;5;241m.\u001b[39mTimeTagStream(\n\u001b[0;32m    511\u001b[0m     tagger\u001b[38;5;241m=\u001b[39m\u001b[38;5;28mself\u001b[39m\u001b[38;5;241m.\u001b[39mtagger,\n\u001b[0;32m    512\u001b[0m     n_max_events\u001b[38;5;241m=\u001b[39m\u001b[38;5;241m1000\u001b[39m,\n\u001b[1;32m--> 513\u001b[0m     channels\u001b[38;5;241m=\u001b[39m\u001b[38;5;28;43mself\u001b[39;49m\u001b[38;5;241;43m.\u001b[39;49m\u001b[43mcoincidences_vchannels\u001b[49m\u001b[38;5;241;43m.\u001b[39;49m\u001b[43mgetChannels\u001b[49m()\n\u001b[0;32m    514\u001b[0m )\n\u001b[0;32m    516\u001b[0m \u001b[38;5;28;01mtry\u001b[39;00m:\n\u001b[0;32m    517\u001b[0m     \u001b[38;5;66;03m# Perform a single attempt at data collection\u001b[39;00m\n\u001b[0;32m    518\u001b[0m     \u001b[38;5;28;01mtry\u001b[39;00m:\n",
      "\u001b[1;31mAttributeError\u001b[0m: 'NoneType' object has no attribute 'getChannels'"
     ]
    }
   ],
   "source": [
    "start = time.perf_counter()\n",
    "result = TTC.collect_stream_data_single_attempt(0.065, 0.065)\n",
    "print(time.perf_counter() - start, result )"
   ]
  },
  {
   "cell_type": "markdown",
   "metadata": {},
   "source": [
    "# TODO"
   ]
  },
  {
   "cell_type": "code",
   "execution_count": 8,
   "metadata": {},
   "outputs": [
    {
     "name": "stdout",
     "output_type": "stream",
     "text": [
      "0.3302461499988567\n"
     ]
    }
   ],
   "source": [
    "start = time.perf_counter()\n",
    "KMC.rotate_simulataneously_metronome(0, 45, wait_for_completion=False,target_duration=0.33)\n",
    "KMC.rotate_simulataneously_metronome(0, 0, wait_for_completion=False, target_duration=0.33)\n",
    "KMC.rotate_simulataneously_metronome(0, 45, wait_for_completion=False, target_duration=0.33)\n",
    "KMC.rotate_simulataneously_metronome(0, 0, wait_for_completion=False, target_duration=0.33)\n",
    "duration = time.perf_counter() - start\n",
    "print(duration/4)"
   ]
  },
  {
   "cell_type": "markdown",
   "metadata": {},
   "source": [
    "Check with audio again, for some reason delay comp not working on single rotator rotations yet. (cw and ccw)\n",
    "\n",
    "implement OSC sending"
   ]
  }
 ],
 "metadata": {
  "kernelspec": {
   "display_name": "Python 3",
   "language": "python",
   "name": "python3"
  },
  "language_info": {
   "codemirror_mode": {
    "name": "ipython",
    "version": 3
   },
   "file_extension": ".py",
   "mimetype": "text/x-python",
   "name": "python",
   "nbconvert_exporter": "python",
   "pygments_lexer": "ipython3",
   "version": "3.10.11"
  }
 },
 "nbformat": 4,
 "nbformat_minor": 2
}
