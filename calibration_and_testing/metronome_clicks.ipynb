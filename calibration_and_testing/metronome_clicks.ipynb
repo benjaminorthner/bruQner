{
 "cells": [
  {
   "cell_type": "code",
   "execution_count": 1,
   "metadata": {},
   "outputs": [],
   "source": [
    "import sys\n",
    "sys.path.insert(0, '../')\n",
    "\n",
    "from src.time_tagger import TimeTaggerController, TT_Simulator, two_particle_states\n",
    "from src.kinetic_mount_controller import KineticMountControl\n",
    "from src.osc import OSCCommunicator, OSCTarget\n",
    "import time\n",
    "import threading\n",
    "import random"
   ]
  },
  {
   "cell_type": "code",
   "execution_count": 2,
   "metadata": {},
   "outputs": [
    {
     "name": "stdout",
     "output_type": "stream",
     "text": [
      "\n",
      "ASSIGNING CONTROLLERS\n",
      "---------------------------------------------------------------\n",
      "Ports Found: ['COM8', 'COM9']\n",
      "---------------------------------------------------------------\n",
      "Device succesfully connected (Rotation Mount) (Address: 0)\n",
      "Device succesfully connected (Rotation Mount) (Address: 0)\n"
     ]
    }
   ],
   "source": [
    "# only run if not already created\n",
    "if 'KMC' not in globals():  \n",
    "    KMC = KineticMountControl(number_of_devices=2, address_search_depth=0)\n",
    "    #KMC.swap_alice_bob()\n",
    "\n",
    "TTC = TimeTaggerController()\n",
    "# connect KMC and TTC\n",
    "TTC.setKineticMountController(KMC)\n",
    "# set alice channels\n",
    "TTC.set_alice_reflection_channel(1)\n",
    "TTC.set_alice_transmission_channel(2)\n",
    "# set bob channels\n",
    "TTC.set_bob_reflection_channel(4)\n",
    "TTC.set_bob_transmission_channel(3)\n",
    "\n",
    "\n",
    "# set bob home offset\n",
    "KMC.bob.set_home_offset(-43 % 360)\n",
    "KMC.bob.home()\n",
    "# set alice home offset\n",
    "KMC.alice.set_home_offset(9)\n",
    "KMC.alice.home()\n",
    "\n"
   ]
  },
  {
   "cell_type": "code",
   "execution_count": 3,
   "metadata": {},
   "outputs": [
    {
     "name": "stdout",
     "output_type": "stream",
     "text": [
      "Delays Before Correction\n",
      "Alice_T :     0 ps \t/     0.0 mm\n",
      "Alice_R :   -26 ps \t/    -7.8 mm\n",
      "Bob_T   :  -551 ps \t/  -165.3 mm\n",
      "Bob_R   :  -246 ps \t/   -73.8 mm\n",
      "\n",
      "Delays After Correction\n",
      "Alice_T :     0 ps \t/     0.0 mm\n",
      "Alice_R :    10 ps \t/     3.0 mm\n",
      "Bob_T   :     4 ps \t/     1.2 mm\n",
      "Bob_R   :   -38 ps \t/   -11.4 mm\n"
     ]
    }
   ],
   "source": [
    "_ = TTC.performDelayAdjustment(integration_time=5)#, manual_delays=[0, 947, 78, -502])"
   ]
  },
  {
   "cell_type": "code",
   "execution_count": 4,
   "metadata": {},
   "outputs": [
    {
     "data": {
      "application/vnd.jupyter.widget-view+json": {
       "model_id": "74c11088ab6a4294a4ecb4d4b58df112",
       "version_major": 2,
       "version_minor": 0
      },
      "text/plain": [
       "Output()"
      ]
     },
     "metadata": {},
     "output_type": "display_data"
    },
    {
     "data": {
      "application/vnd.jupyter.widget-view+json": {
       "model_id": "e96312668dec4f8787fcc9c9c7b34055",
       "version_major": 2,
       "version_minor": 0
      },
      "text/plain": [
       "Output()"
      ]
     },
     "metadata": {},
     "output_type": "display_data"
    },
    {
     "name": "stderr",
     "output_type": "stream",
     "text": [
      "No such comm: 7f4b49f4d4b444bbb91b6abdc7be9710\n",
      "No such comm: b6ab7f7c1d584c6aa773c7e865897881\n"
     ]
    }
   ],
   "source": [
    "n_values = 150\n",
    "trace_width = 3\n",
    "TTC.displayCountTraces(n_values=n_values, trace_width=trace_width, plot_title='<b>Raw Counts<b>')\n",
    "TTC.displayCoincidenceTraces(coincidence_window_SI=0.5e-9, n_values=n_values, trace_width=trace_width, plot_title='<b>Coincidences<b>')"
   ]
  },
  {
   "cell_type": "code",
   "execution_count": 3,
   "metadata": {},
   "outputs": [],
   "source": [
    "KMC.rotate_simulataneously(0, 0, wait_for_completion=False)"
   ]
  },
  {
   "cell_type": "code",
   "execution_count": 4,
   "metadata": {},
   "outputs": [],
   "source": [
    "# Global flag to control the loop\n",
    "resultTranslate = {0 : [1, 1],\n",
    "                   1 : [1, -1],\n",
    "                   2 : [-1, 1],\n",
    "                   3 : [-1, -1]}\n",
    "# a A b B\n",
    "Q_angles = [0, -22.5, 11.5, -11.5]\n",
    "C_angles = [0, 22.5, -45, -22.5]\n",
    "\n",
    "                    # ab, aB, Ab, AB\n",
    "angle_pair_dict = {'Q_all':[(0, 11.5), (0, -11.5), (-22.5, 11.5), (-22.5, -11.5)],\n",
    "                    # ab, AB\n",
    "                   'Q_diagonal': [(0, 11.5), (-22.5, -11.5)],\n",
    "                    # ab, AB\n",
    "                   'C_diagonal': [(0, -45), (22.5, -22.5)],\n",
    "                    # AB\n",
    "                   'C_single': [(-45, -22.5)],\n",
    "                   }\n",
    "\n",
    "# for this perf we only want Q_all\n",
    "angle_pairs = angle_pair_dict['Q_all']\n",
    "\n",
    "# setup system with correct initial angles\n",
    "KMC.rotate_simulataneously(*angle_pairs[0])\n",
    "\n",
    "def performance_cycle(cycles):\n",
    "    \"\"\"The function you want to execute repeatedly.\"\"\"\n",
    "   \n",
    "    time_of_last_visual = time.time()\n",
    "    prev_theta_a, prev_theta_b = angle_pairs[0]\n",
    "    for _ in range(cycles):\n",
    "        theta_a, theta_b = random.choice(angle_pairs)\n",
    "        \n",
    "        measurement_results, prev_theta_a, prev_theta_b = TTC.get_single_measurement_metronome(angle_pairs, theta_a, theta_b, prev_theta_a, prev_theta_b, integration_time=0.065, max_integration_time=0.07, max_rotation_duration=0.35)\n",
    "        "
   ]
  },
  {
   "cell_type": "code",
   "execution_count": 6,
   "metadata": {},
   "outputs": [],
   "source": [
    "TTC.createCoincidenceChannels(0.5e-9)"
   ]
  },
  {
   "cell_type": "code",
   "execution_count": 4,
   "metadata": {},
   "outputs": [
    {
     "ename": "AttributeError",
     "evalue": "'NoneType' object has no attribute 'getChannels'",
     "output_type": "error",
     "traceback": [
      "\u001b[1;31m---------------------------------------------------------------------------\u001b[0m",
      "\u001b[1;31mAttributeError\u001b[0m                            Traceback (most recent call last)",
      "Cell \u001b[1;32mIn[4], line 2\u001b[0m\n\u001b[0;32m      1\u001b[0m start \u001b[38;5;241m=\u001b[39m time\u001b[38;5;241m.\u001b[39mperf_counter()\n\u001b[1;32m----> 2\u001b[0m result \u001b[38;5;241m=\u001b[39m \u001b[43mTTC\u001b[49m\u001b[38;5;241;43m.\u001b[39;49m\u001b[43mcollect_stream_data_single_attempt\u001b[49m\u001b[43m(\u001b[49m\u001b[38;5;241;43m0.065\u001b[39;49m\u001b[43m,\u001b[49m\u001b[43m \u001b[49m\u001b[38;5;241;43m0.065\u001b[39;49m\u001b[43m)\u001b[49m\n\u001b[0;32m      3\u001b[0m \u001b[38;5;28mprint\u001b[39m(time\u001b[38;5;241m.\u001b[39mperf_counter() \u001b[38;5;241m-\u001b[39m start, result )\n",
      "File \u001b[1;32m\\\\wsl.localhost\\Ubuntu\\home\\benjaminorthner\\projects\\bruQner\\calibration_and_testing\\..\\src\\time_tagger\\time_tagger_controller.py:513\u001b[0m, in \u001b[0;36mTimeTaggerController.collect_stream_data_single_attempt\u001b[1;34m(self, integration_time, target_duration)\u001b[0m\n\u001b[0;32m    507\u001b[0m events_by_channel \u001b[38;5;241m=\u001b[39m []\n\u001b[0;32m    509\u001b[0m \u001b[38;5;66;03m# Create the stream\u001b[39;00m\n\u001b[0;32m    510\u001b[0m stream \u001b[38;5;241m=\u001b[39m TimeTagger\u001b[38;5;241m.\u001b[39mTimeTagStream(\n\u001b[0;32m    511\u001b[0m     tagger\u001b[38;5;241m=\u001b[39m\u001b[38;5;28mself\u001b[39m\u001b[38;5;241m.\u001b[39mtagger,\n\u001b[0;32m    512\u001b[0m     n_max_events\u001b[38;5;241m=\u001b[39m\u001b[38;5;241m1000\u001b[39m,\n\u001b[1;32m--> 513\u001b[0m     channels\u001b[38;5;241m=\u001b[39m\u001b[38;5;28;43mself\u001b[39;49m\u001b[38;5;241;43m.\u001b[39;49m\u001b[43mcoincidences_vchannels\u001b[49m\u001b[38;5;241;43m.\u001b[39;49m\u001b[43mgetChannels\u001b[49m()\n\u001b[0;32m    514\u001b[0m )\n\u001b[0;32m    516\u001b[0m \u001b[38;5;28;01mtry\u001b[39;00m:\n\u001b[0;32m    517\u001b[0m     \u001b[38;5;66;03m# Perform a single attempt at data collection\u001b[39;00m\n\u001b[0;32m    518\u001b[0m     \u001b[38;5;28;01mtry\u001b[39;00m:\n",
      "\u001b[1;31mAttributeError\u001b[0m: 'NoneType' object has no attribute 'getChannels'"
     ]
    }
   ],
   "source": [
    "start = time.perf_counter()\n",
    "result = TTC.collect_stream_data_single_attempt(0.065, 0.065)\n",
    "print(time.perf_counter() - start, result )"
   ]
  },
  {
   "cell_type": "code",
   "execution_count": 5,
   "metadata": {},
   "outputs": [
    {
     "name": "stdout",
     "output_type": "stream",
     "text": [
      "Timing Summary: {'pre_rotation_time': 0.07006900000851601, 'rotate_simultaneously': 0.3501082000148017, 'post_rotation_time': 0.07002610000199638, 'total': 0.49054600001545623}\n",
      "Timing Summary: {'pre_rotation_time': 0.07008960001985542, 'rotate_simultaneously': 0.3500621000130195, 'post_rotation_time': 0.0700467000133358, 'total': 0.49020519998157397}\n",
      "Timing Summary: {'pre_rotation_time': 0.07005050001316704, 'rotate_simultaneously': 0.35009849999914877, 'post_rotation_time': 0.07005770000978373, 'total': 0.49021439999341965}\n",
      "Timing Summary: {'pre_rotation_time': 0.07004689998575486, 'rotate_simultaneously': 0.3500515000196174, 'post_rotation_time': 0.07003150001401082, 'total': 0.4901370999868959}\n",
      "Timing Summary: {'pre_rotation_time': 0.07004730001790449, 'rotate_simultaneously': 0.35004719998687506, 'post_rotation_time': 0.07037629999103956, 'total': 0.49047749998862855}\n",
      "Timing Summary: {'pre_rotation_time': 0.0700426000112202, 'rotate_simultaneously': 0.35699210001621395, 'post_rotation_time': 0.07003510001231916, 'total': 0.497076699975878}\n",
      "Timing Summary: {'pre_rotation_time': 0.07000410000910051, 'rotate_simultaneously': 0.35006180001073517, 'post_rotation_time': 0.07008770000538789, 'total': 0.4901605000195559}\n",
      "Timing Summary: {'pre_rotation_time': 0.07005449998541735, 'rotate_simultaneously': 0.3500536999781616, 'post_rotation_time': 0.07002750001265667, 'total': 0.49014330000500195}\n",
      "Timing Summary: {'pre_rotation_time': 0.0700827999971807, 'rotate_simultaneously': 0.3923839000053704, 'post_rotation_time': 0.07003770000301301, 'total': 0.5325106999953277}\n",
      "Timing Summary: {'pre_rotation_time': 0.07000430001062341, 'rotate_simultaneously': 0.3502186000114307, 'post_rotation_time': 0.07007960000191815, 'total': 0.4903109000006225}\n",
      "Timing Summary: {'pre_rotation_time': 0.07003849998000078, 'rotate_simultaneously': 0.350084199977573, 'post_rotation_time': 0.07002439998905174, 'total': 0.4901532999938354}\n",
      "Timing Summary: {'pre_rotation_time': 0.07004109999979846, 'rotate_simultaneously': 0.3500497000059113, 'post_rotation_time': 0.07002840001950972, 'total': 0.4901264999934938}\n",
      "Timing Summary: {'pre_rotation_time': 0.07009540000581183, 'rotate_simultaneously': 0.4024883000238333, 'post_rotation_time': 0.07005239999853075, 'total': 0.542643799999496}\n",
      "Timing Summary: {'pre_rotation_time': 0.07109230000060052, 'rotate_simultaneously': 0.35005580002325587, 'post_rotation_time': 0.07002939999802038, 'total': 0.49118430001544766}\n",
      "Timing Summary: {'pre_rotation_time': 0.07036209999932908, 'rotate_simultaneously': 0.35007949999999255, 'post_rotation_time': 0.07003000000258908, 'total': 0.49048259999835864}\n",
      "Timing Summary: {'pre_rotation_time': 0.07003830000758171, 'rotate_simultaneously': 0.3500542000110727, 'post_rotation_time': 0.07003619999159127, 'total': 0.4901374999899417}\n",
      "Timing Summary: {'pre_rotation_time': 0.07000539998989552, 'rotate_simultaneously': 0.35005660000024363, 'post_rotation_time': 0.07013129998813383, 'total': 0.49020699999528006}\n",
      "Timing Summary: {'pre_rotation_time': 0.07005219999700785, 'rotate_simultaneously': 0.350044999999227, 'post_rotation_time': 0.07007109999540262, 'total': 0.49017629999434575}\n",
      "Timing Summary: {'pre_rotation_time': 0.07004679998499341, 'rotate_simultaneously': 0.35004719998687506, 'post_rotation_time': 0.07004500000039116, 'total': 0.49014579999493435}\n",
      "Timing Summary: {'pre_rotation_time': 0.07000539998989552, 'rotate_simultaneously': 0.35005910001927987, 'post_rotation_time': 0.07003510001231916, 'total': 0.49010769999586046}\n",
      "Timing Summary: {'pre_rotation_time': 0.07004560000495985, 'rotate_simultaneously': 0.35005869998713024, 'post_rotation_time': 0.07003120001172647, 'total': 0.49014209999586456}\n",
      "Timing Summary: {'pre_rotation_time': 0.0700465000118129, 'rotate_simultaneously': 0.35005619999719784, 'post_rotation_time': 0.07002929999725893, 'total': 0.4901407999859657}\n",
      "Timing Summary: {'pre_rotation_time': 0.07022680001682602, 'rotate_simultaneously': 0.3500930000154767, 'post_rotation_time': 0.07009729999117553, 'total': 0.49042620000545867}\n",
      "Timing Summary: {'pre_rotation_time': 0.07000409997999668, 'rotate_simultaneously': 0.351797399984207, 'post_rotation_time': 0.07006050000200048, 'total': 0.49187030000030063}\n",
      "Timing Summary: {'pre_rotation_time': 0.07003659999463707, 'rotate_simultaneously': 0.3500528000004124, 'post_rotation_time': 0.07002710000961088, 'total': 0.49012269999366254}\n",
      "Timing Summary: {'pre_rotation_time': 0.07022130000405014, 'rotate_simultaneously': 0.35005949999322183, 'post_rotation_time': 0.0700527000008151, 'total': 0.4903409999969881}\n",
      "Timing Summary: {'pre_rotation_time': 0.07004009999218397, 'rotate_simultaneously': 0.3500371999980416, 'post_rotation_time': 0.07003050000639632, 'total': 0.49011489999247715}\n",
      "Timing Summary: {'pre_rotation_time': 0.07005609999760054, 'rotate_simultaneously': 0.3500939999939874, 'post_rotation_time': 0.0701460000127554, 'total': 0.49034040002152324}\n",
      "Timing Summary: {'pre_rotation_time': 0.07003980001900345, 'rotate_simultaneously': 0.35004469999694265, 'post_rotation_time': 0.07002939999802038, 'total': 0.49011980000068434}\n",
      "Timing Summary: {'pre_rotation_time': 0.07006379999802448, 'rotate_simultaneously': 0.3503223000152502, 'post_rotation_time': 0.07003199998871423, 'total': 0.49042660000850447}\n",
      "Timing Summary: {'pre_rotation_time': 0.07004209997830912, 'rotate_simultaneously': 0.3515466999961063, 'post_rotation_time': 0.07004890000098385, 'total': 0.49166149998200126}\n",
      "Timing Summary: {'pre_rotation_time': 0.07005660000140779, 'rotate_simultaneously': 0.35009700001683086, 'post_rotation_time': 0.07003020000411198, 'total': 0.4901911999913864}\n",
      "Timing Summary: {'pre_rotation_time': 0.07004749999032356, 'rotate_simultaneously': 0.35005020000971854, 'post_rotation_time': 0.07002799998736009, 'total': 0.49013469999772497}\n",
      "Timing Summary: {'pre_rotation_time': 0.07006779999937862, 'rotate_simultaneously': 0.3500550999888219, 'post_rotation_time': 0.07002980000106618, 'total': 0.4901614999980666}\n"
     ]
    },
    {
     "ename": "KeyboardInterrupt",
     "evalue": "",
     "output_type": "error",
     "traceback": [
      "\u001b[1;31m---------------------------------------------------------------------------\u001b[0m",
      "\u001b[1;31mKeyboardInterrupt\u001b[0m                         Traceback (most recent call last)",
      "Cell \u001b[1;32mIn[5], line 1\u001b[0m\n\u001b[1;32m----> 1\u001b[0m \u001b[43mperformance_cycle\u001b[49m\u001b[43m(\u001b[49m\u001b[38;5;241;43m100\u001b[39;49m\u001b[43m)\u001b[49m\n",
      "Cell \u001b[1;32mIn[4], line 34\u001b[0m, in \u001b[0;36mperformance_cycle\u001b[1;34m(cycles)\u001b[0m\n\u001b[0;32m     31\u001b[0m \u001b[38;5;28;01mfor\u001b[39;00m _ \u001b[38;5;129;01min\u001b[39;00m \u001b[38;5;28mrange\u001b[39m(cycles):\n\u001b[0;32m     32\u001b[0m     theta_a, theta_b \u001b[38;5;241m=\u001b[39m random\u001b[38;5;241m.\u001b[39mchoice(angle_pairs)\n\u001b[1;32m---> 34\u001b[0m     measurement_results, prev_theta_a, prev_theta_b \u001b[38;5;241m=\u001b[39m \u001b[43mTTC\u001b[49m\u001b[38;5;241;43m.\u001b[39;49m\u001b[43mget_single_measurement_metronome\u001b[49m\u001b[43m(\u001b[49m\u001b[43mangle_pairs\u001b[49m\u001b[43m,\u001b[49m\u001b[43m \u001b[49m\u001b[43mtheta_a\u001b[49m\u001b[43m,\u001b[49m\u001b[43m \u001b[49m\u001b[43mtheta_b\u001b[49m\u001b[43m,\u001b[49m\u001b[43m \u001b[49m\u001b[43mprev_theta_a\u001b[49m\u001b[43m,\u001b[49m\u001b[43m \u001b[49m\u001b[43mprev_theta_b\u001b[49m\u001b[43m,\u001b[49m\u001b[43m \u001b[49m\u001b[43mintegration_time\u001b[49m\u001b[38;5;241;43m=\u001b[39;49m\u001b[38;5;241;43m0.065\u001b[39;49m\u001b[43m,\u001b[49m\u001b[43m \u001b[49m\u001b[43mmax_integration_time\u001b[49m\u001b[38;5;241;43m=\u001b[39;49m\u001b[38;5;241;43m0.07\u001b[39;49m\u001b[43m,\u001b[49m\u001b[43m \u001b[49m\u001b[43mmax_rotation_duration\u001b[49m\u001b[38;5;241;43m=\u001b[39;49m\u001b[38;5;241;43m0.35\u001b[39;49m\u001b[43m)\u001b[49m\n",
      "File \u001b[1;32m\\\\wsl.localhost\\Ubuntu\\home\\benjaminorthner\\projects\\bruQner\\calibration_and_testing\\..\\src\\time_tagger\\time_tagger_controller.py:620\u001b[0m, in \u001b[0;36mTimeTaggerController.get_single_measurement_metronome\u001b[1;34m(self, angle_pairs, theta_a, theta_b, prev_theta_a, prev_theta_b, integration_time, max_integration_time, max_rotation_duration, coincidence_window_SI)\u001b[0m\n\u001b[0;32m    617\u001b[0m \u001b[38;5;66;03m# Perform rotation\u001b[39;00m\n\u001b[0;32m    618\u001b[0m \u001b[38;5;66;03m# Do not wait for completion, instead just go to max time\u001b[39;00m\n\u001b[0;32m    619\u001b[0m t2 \u001b[38;5;241m=\u001b[39m time\u001b[38;5;241m.\u001b[39mperf_counter()\n\u001b[1;32m--> 620\u001b[0m \u001b[38;5;28;43mself\u001b[39;49m\u001b[38;5;241;43m.\u001b[39;49m\u001b[43mKMC\u001b[49m\u001b[38;5;241;43m.\u001b[39;49m\u001b[43mrotate_simulataneously_metronome\u001b[49m\u001b[43m(\u001b[49m\u001b[43mtheta_a\u001b[49m\u001b[43m,\u001b[49m\u001b[43m \u001b[49m\u001b[43mtheta_b\u001b[49m\u001b[43m,\u001b[49m\u001b[43m \u001b[49m\u001b[43mwait_for_completion\u001b[49m\u001b[38;5;241;43m=\u001b[39;49m\u001b[38;5;28;43;01mTrue\u001b[39;49;00m\u001b[43m,\u001b[49m\u001b[43m \u001b[49m\u001b[43mtarget_duration\u001b[49m\u001b[38;5;241;43m=\u001b[39;49m\u001b[43mmax_rotation_duration\u001b[49m\u001b[43m)\u001b[49m\n\u001b[0;32m    621\u001b[0m timings[\u001b[38;5;124m'\u001b[39m\u001b[38;5;124mrotate_simultaneously\u001b[39m\u001b[38;5;124m'\u001b[39m] \u001b[38;5;241m=\u001b[39m time\u001b[38;5;241m.\u001b[39mperf_counter() \u001b[38;5;241m-\u001b[39m t2\n\u001b[0;32m    624\u001b[0m \u001b[38;5;66;03m# if angles_changed (in other words, if a click has happened) integrate now\u001b[39;00m\n\u001b[0;32m    625\u001b[0m \u001b[38;5;66;03m# else do nothing and wait\u001b[39;00m\n",
      "File \u001b[1;32m\\\\wsl.localhost\\Ubuntu\\home\\benjaminorthner\\projects\\bruQner\\calibration_and_testing\\..\\src\\kinetic_mount_controller\\kinetic_mount_controller.py:194\u001b[0m, in \u001b[0;36mKineticMountControl.rotate_simulataneously_metronome\u001b[1;34m(self, alice_angle, bob_angle, wait_for_completion, target_duration)\u001b[0m\n\u001b[0;32m    192\u001b[0m \u001b[38;5;66;03m# wait until target duration is reached\u001b[39;00m\n\u001b[0;32m    193\u001b[0m \u001b[38;5;28;01mif\u001b[39;00m time\u001b[38;5;241m.\u001b[39mperf_counter() \u001b[38;5;241m-\u001b[39m start_time \u001b[38;5;241m<\u001b[39m\u001b[38;5;241m=\u001b[39m  target_duration:\n\u001b[1;32m--> 194\u001b[0m     \u001b[38;5;28;43mself\u001b[39;49m\u001b[38;5;241;43m.\u001b[39;49m\u001b[43mhybrid_wait\u001b[49m\u001b[43m(\u001b[49m\u001b[43mtarget_duration\u001b[49m\u001b[43m,\u001b[49m\u001b[43m \u001b[49m\u001b[43mstart_time\u001b[49m\u001b[38;5;241;43m=\u001b[39;49m\u001b[43mstart_time\u001b[49m\u001b[43m)\u001b[49m\n",
      "File \u001b[1;32m\\\\wsl.localhost\\Ubuntu\\home\\benjaminorthner\\projects\\bruQner\\calibration_and_testing\\..\\src\\kinetic_mount_controller\\kinetic_mount_controller.py:120\u001b[0m, in \u001b[0;36mKineticMountControl.hybrid_wait\u001b[1;34m(target_duration, start_time)\u001b[0m\n\u001b[0;32m    117\u001b[0m     \u001b[38;5;28;01mbreak\u001b[39;00m\n\u001b[0;32m    119\u001b[0m \u001b[38;5;28;01mif\u001b[39;00m remaining_time \u001b[38;5;241m>\u001b[39m \u001b[38;5;241m0.02\u001b[39m:  \u001b[38;5;66;03m# Sleep only for durations > 20ms\u001b[39;00m\n\u001b[1;32m--> 120\u001b[0m     \u001b[43mtime\u001b[49m\u001b[38;5;241;43m.\u001b[39;49m\u001b[43msleep\u001b[49m\u001b[43m(\u001b[49m\u001b[43mremaining_time\u001b[49m\u001b[43m \u001b[49m\u001b[38;5;241;43m-\u001b[39;49m\u001b[43m \u001b[49m\u001b[38;5;241;43m0.02\u001b[39;49m\u001b[43m)\u001b[49m\n",
      "\u001b[1;31mKeyboardInterrupt\u001b[0m: "
     ]
    }
   ],
   "source": [
    "performance_cycle(100)"
   ]
  },
  {
   "cell_type": "code",
   "execution_count": 8,
   "metadata": {},
   "outputs": [
    {
     "name": "stdout",
     "output_type": "stream",
     "text": [
      "0.3302461499988567\n"
     ]
    }
   ],
   "source": [
    "start = time.perf_counter()\n",
    "KMC.rotate_simulataneously_metronome(0, 45, wait_for_completion=False,target_duration=0.33)\n",
    "KMC.rotate_simulataneously_metronome(0, 0, wait_for_completion=False, target_duration=0.33)\n",
    "KMC.rotate_simulataneously_metronome(0, 45, wait_for_completion=False, target_duration=0.33)\n",
    "KMC.rotate_simulataneously_metronome(0, 0, wait_for_completion=False, target_duration=0.33)\n",
    "duration = time.perf_counter() - start\n",
    "print(duration/4)"
   ]
  },
  {
   "cell_type": "markdown",
   "metadata": {},
   "source": [
    "# TODO"
   ]
  },
  {
   "cell_type": "markdown",
   "metadata": {},
   "source": [
    "I will implement the double buffer and make sure they can achieve metronomic clicks by correcting the timing. I might need to pass timing data from previous to next function"
   ]
  }
 ],
 "metadata": {
  "kernelspec": {
   "display_name": "Python 3",
   "language": "python",
   "name": "python3"
  },
  "language_info": {
   "codemirror_mode": {
    "name": "ipython",
    "version": 3
   },
   "file_extension": ".py",
   "mimetype": "text/x-python",
   "name": "python",
   "nbconvert_exporter": "python",
   "pygments_lexer": "ipython3",
   "version": "3.10.11"
  }
 },
 "nbformat": 4,
 "nbformat_minor": 2
}
