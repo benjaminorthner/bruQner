{
 "cells": [
  {
   "cell_type": "code",
   "execution_count": 1,
   "metadata": {},
   "outputs": [],
   "source": [
    "import sys\n",
    "sys.path.insert(0, '../')\n",
    "\n",
    "from src.time_tagger import TimeTaggerController, TT_Simulator, two_particle_states\n",
    "from src.kinetic_mount_controller import KineticMountControl\n",
    "from src.osc import OSCCommunicator, OSCTarget\n",
    "import time\n",
    "import threading\n",
    "import random"
   ]
  },
  {
   "cell_type": "code",
   "execution_count": 2,
   "metadata": {},
   "outputs": [
    {
     "name": "stdout",
     "output_type": "stream",
     "text": [
      "\n",
      "ASSIGNING CONTROLLERS\n",
      "---------------------------------------------------------------\n",
      "Ports Found: ['COM8', 'COM9']\n",
      "---------------------------------------------------------------\n",
      "Device succesfully connected (Rotation Mount) (Address: 0)\n",
      "Device succesfully connected (Rotation Mount) (Address: 0)\n"
     ]
    }
   ],
   "source": [
    "# only run if not already created\n",
    "if 'KMC' not in globals():  \n",
    "    KMC = KineticMountControl(number_of_devices=2, address_search_depth=0)\n",
    "    #KMC.swap_alice_bob()\n",
    "\n",
    "TTC = TimeTaggerController()\n",
    "# connect KMC and TTC\n",
    "TTC.setKineticMountController(KMC)\n",
    "# set alice channels\n",
    "TTC.set_alice_reflection_channel(1)\n",
    "TTC.set_alice_transmission_channel(2)\n",
    "# set bob channels\n",
    "TTC.set_bob_reflection_channel(4)\n",
    "TTC.set_bob_transmission_channel(3)\n",
    "\n",
    "\n",
    "# set bob home offset\n",
    "KMC.bob.set_home_offset(-43 % 360)\n",
    "KMC.bob.home()\n",
    "# set alice home offset\n",
    "KMC.alice.set_home_offset(9)\n",
    "KMC.alice.home()\n",
    "\n"
   ]
  },
  {
   "cell_type": "code",
   "execution_count": 3,
   "metadata": {},
   "outputs": [],
   "source": [
    "#_ = TTC.performDelayAdjustment(integration_time=5)#, manual_delays=[0, 947, 78, -502])"
   ]
  },
  {
   "cell_type": "code",
   "execution_count": 4,
   "metadata": {},
   "outputs": [],
   "source": [
    "n_values = 150\n",
    "trace_width = 3\n",
    "#TTC.displayCountTraces(n_values=n_values, trace_width=trace_width, plot_title='<b>Raw Counts<b>')\n",
    "#TTC.displayCoincidenceTraces(coincidence_window_SI=0.5e-9, n_values=n_values, trace_width=trace_width, plot_title='<b>Coincidences<b>')"
   ]
  },
  {
   "cell_type": "code",
   "execution_count": 5,
   "metadata": {},
   "outputs": [],
   "source": [
    "# Global flag to control the loop\n",
    "resultTranslate = {0 : [1, 1],\n",
    "                   1 : [1, -1],\n",
    "                   2 : [-1, 1],\n",
    "                   3 : [-1, -1]}\n",
    "# a A b B\n",
    "Q_angles = [0, -22.5, 11.5, -11.5]\n",
    "C_angles = [0, 22.5, -45, -22.5]\n",
    "\n",
    "                    # ab, aB, Ab, AB\n",
    "angle_pair_dict = {'Q_all':[(0, 11.5), (0, -11.5), (-22.5, 11.5), (-22.5, -11.5)],\n",
    "                    # ab, AB\n",
    "                   'Q_diagonal': [(0, 11.5), (-22.5, -11.5)],\n",
    "                    # ab, AB\n",
    "                   'C_diagonal': [(0, -45), (22.5, -22.5)],\n",
    "                    # AB\n",
    "                   'C_single': [(-45, -22.5)],\n",
    "                   }\n",
    "\n",
    "# for this perf we only want Q_all\n",
    "angle_pairs = angle_pair_dict['Q_all']\n",
    "\n",
    "# setup system with correct initial angles\n",
    "KMC.rotate_simulataneously(*angle_pairs[0])\n",
    "\n",
    "def performance_cycle(cycles):\n",
    "    \"\"\"The function you want to execute repeatedly.\"\"\"\n",
    "   \n",
    "    time_of_last_visual = time.time()\n",
    "    prev_theta_a, prev_theta_b = angle_pairs[0]\n",
    "    for _ in range(cycles):\n",
    "        theta_a, theta_b = random.choice(angle_pairs)\n",
    "        \n",
    "        measurement_results, prev_theta_a, prev_theta_b = TTC.get_single_measurement_metronome(angle_pairs, theta_a, theta_b, prev_theta_a, prev_theta_b, integration_time=0.05, max_time=0.1, min_event_count=1)\n",
    "        "
   ]
  },
  {
   "cell_type": "code",
   "execution_count": 6,
   "metadata": {},
   "outputs": [],
   "source": [
    "TTC.createCoincidenceChannels(0.5e-9)"
   ]
  },
  {
   "cell_type": "code",
   "execution_count": 205,
   "metadata": {},
   "outputs": [
    {
     "name": "stdout",
     "output_type": "stream",
     "text": [
      "0.06521200000133831 [1002 1004 1004 1004 1004 1002 1004 1004 1001 1001 1003 1004 1004 1004\n",
      " 1002 1001 1004 1004 1002 1002 1004 1004 1001 1004 1004 1001 1002 1001\n",
      " 1004 1003 1001 1003 1003 1001 1002 1002 1001 1003 1001 1004 1004 1001\n",
      " 1001 1004 1004 1004 1001 1003 1004 1001 1002 1001 1002 1004 1004 1003\n",
      " 1001 1001 1003 1001 1001 1001 1004 1001 1001 1001 1004 1003 1004 1004\n",
      " 1001 1004 1002 1001 1004 1004 1001 1004]\n"
     ]
    }
   ],
   "source": [
    "start = time.perf_counter()\n",
    "result = TTC.collect_stream_data_single_attempt(0.065, 0.065)\n",
    "print(time.perf_counter() - start, result )"
   ]
  },
  {
   "cell_type": "code",
   "execution_count": null,
   "metadata": {},
   "outputs": [
    {
     "name": "stdout",
     "output_type": "stream",
     "text": [
      "Collected 213 events in 0.12 seconds.\n",
      "Timing Summary: {'stream_loop': 0.1203823999967426, 'rotate_simultaneously': 0.30992200000036974, 'total': 0.430341800005408}\n",
      "Collected 46 events in 0.06 seconds.\n",
      "Timing Summary: {'stream_loop': 0.06287129998963792, 'rotate_simultaneously': 0.3090807999979006, 'total': 0.3720016000006581}\n",
      "Collected 38 events in 0.06 seconds.\n",
      "Timing Summary: {'stream_loop': 0.06264229999214876, 'rotate_simultaneously': 0.3413689000008162, 'total': 0.40440089999174234}\n",
      "Collected 55 events in 0.06 seconds.\n",
      "Timing Summary: {'rotate_simultaneously': 0.3109106000047177, 'stream_loop': 0.06493670000054408, 'total': 0.37587299999722745}\n",
      "Collected 55 events in 0.06 seconds.\n",
      "Timing Summary: {'rotate_simultaneously': 0.3044285000069067, 'stream_loop': 0.0636532999924384, 'total': 0.3681075999920722}\n",
      "Collected 54 events in 0.06 seconds.\n",
      "Timing Summary: {'rotate_simultaneously': 0.3091287000133889, 'stream_loop': 0.06500210000376683, 'total': 0.3741522000054829}\n",
      "Collected 58 events in 0.06 seconds.\n",
      "Timing Summary: {'rotate_simultaneously': 0.32060700000147335, 'stream_loop': 0.06523159999051131, 'total': 0.3858639999962179}\n",
      "Collected 54 events in 0.06 seconds.\n",
      "Timing Summary: {'rotate_simultaneously': 0.3121753999876091, 'stream_loop': 0.0607019000017317, 'total': 0.37290139999822713}\n",
      "Collected 57 events in 0.06 seconds.\n",
      "Timing Summary: {'stream_loop': 0.06211800000164658, 'rotate_simultaneously': 0.3157643000013195, 'total': 0.377913800009992}\n",
      "Collected 44 events in 0.06 seconds.\n",
      "Timing Summary: {'rotate_simultaneously': 0.310830900009023, 'stream_loop': 0.05637909998768009, 'total': 0.36723129999882076}\n"
     ]
    }
   ],
   "source": [
    "performance_cycle(10)"
   ]
  },
  {
   "cell_type": "markdown",
   "metadata": {},
   "source": [
    "# TODO"
   ]
  },
  {
   "cell_type": "markdown",
   "metadata": {},
   "source": [
    "I will implement the double buffer and make sure they can achieve metronomic clicks by correcting the timing. I might need to pass timing data from previous to next function"
   ]
  }
 ],
 "metadata": {
  "kernelspec": {
   "display_name": "Python 3",
   "language": "python",
   "name": "python3"
  },
  "language_info": {
   "codemirror_mode": {
    "name": "ipython",
    "version": 3
   },
   "file_extension": ".py",
   "mimetype": "text/x-python",
   "name": "python",
   "nbconvert_exporter": "python",
   "pygments_lexer": "ipython3",
   "version": "3.10.11"
  }
 },
 "nbformat": 4,
 "nbformat_minor": 2
}
