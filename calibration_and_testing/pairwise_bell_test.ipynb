{
 "cells": [
  {
   "cell_type": "code",
   "execution_count": 1,
   "metadata": {},
   "outputs": [],
   "source": [
    "\"\"\"\n",
    "This notebook can be used to perform a bell test and calculate the S value using all 4 output ports \n",
    "\"\"\"\n",
    "import sys\n",
    "sys.path.insert(0, '../')\n",
    "\n",
    "from src.time_tagger import TimeTaggerController \n",
    "from src.kinetic_mount_controller import KineticMountControl"
   ]
  },
  {
   "cell_type": "markdown",
   "metadata": {},
   "source": [
    "# Setup SPCMs"
   ]
  },
  {
   "cell_type": "code",
   "execution_count": 2,
   "metadata": {},
   "outputs": [],
   "source": [
    "# Init the Time Tagger and the Kinetic Mount Controller\n",
    "TTC = TimeTaggerController()\n",
    "\n",
    "# NOTE Look at the trace, sucessively block each port and assign the channels numbers in the next cell\n",
    "# NOTE afterwards stop and close the graphic\n",
    "#TTC.displayCountTraces()"
   ]
  },
  {
   "cell_type": "code",
   "execution_count": 3,
   "metadata": {},
   "outputs": [],
   "source": [
    "# set alice channels\n",
    "TTC.set_alice_reflection_channel(3)\n",
    "TTC.set_alice_transmission_channel(2)\n",
    "\n",
    "# set bob channels\n",
    "TTC.set_bob_reflection_channel(4)\n",
    "TTC.set_bob_transmission_channel(1)\n",
    "\n",
    "# NOTE Verify that each trace is correctly labelled and then stop and close the graphic again\n",
    "#TTC.displayCountTraces()"
   ]
  },
  {
   "cell_type": "code",
   "execution_count": 4,
   "metadata": {},
   "outputs": [
    {
     "data": {
      "application/vnd.jupyter.widget-view+json": {
       "model_id": "83a7ba5a0dc34699a7114b898bdfd039",
       "version_major": 2,
       "version_minor": 0
      },
      "text/plain": [
       "Output()"
      ]
     },
     "metadata": {},
     "output_type": "display_data"
    },
    {
     "name": "stderr",
     "output_type": "stream",
     "text": [
      "No such comm: 828042eb5ee544cfa89ba2f1f8d14f26\n"
     ]
    }
   ],
   "source": [
    "TTC.displayCoincidenceTraces()"
   ]
  },
  {
   "cell_type": "markdown",
   "metadata": {},
   "source": [
    "# Setup Kinetic Mounts"
   ]
  },
  {
   "cell_type": "code",
   "execution_count": 6,
   "metadata": {},
   "outputs": [
    {
     "name": "stdout",
     "output_type": "stream",
     "text": [
      "\n",
      "ASSIGNING CONTROLLERS\n",
      "---------------------------------------------------------------\n",
      "Ports Found: ['COM8', 'COM9', 'COM14']\n",
      "---------------------------------------------------------------\n",
      "Device succesfully connected (Rotation Mount)\n",
      "Device succesfully connected (Dual-Position Slider)\n",
      "Device succesfully connected (Rotation Mount)\n"
     ]
    }
   ],
   "source": [
    "# only run if not already created\n",
    "if 'KMC' not in globals():  \n",
    "    KMC = KineticMountControl(number_of_devices=3)"
   ]
  },
  {
   "cell_type": "code",
   "execution_count": 7,
   "metadata": {},
   "outputs": [
    {
     "data": {
      "text/plain": [
       "2"
      ]
     },
     "execution_count": 7,
     "metadata": {},
     "output_type": "execute_result"
    }
   ],
   "source": [
    "# set bob home offset\n",
    "KMC.bob.set_home_offset(-43 % 360)\n",
    "KMC.bob.home()\n",
    "# set alice home offset\n",
    "KMC.alice.set_home_offset(6)\n",
    "KMC.alice.home()\n",
    "# make sure shutter is open\n",
    "KMC.shutter.open()"
   ]
  },
  {
   "cell_type": "code",
   "execution_count": 8,
   "metadata": {},
   "outputs": [
    {
     "name": "stdout",
     "output_type": "stream",
     "text": [
      "\n",
      "corr[0,0] = 0.3264129181084198\n",
      "\tN[|T,T>]=1680\n",
      "\tN[|T,R>]=755\n",
      "\tN[|R,T>]=413\n",
      "\tN[|R,R>]=620\n",
      "\n",
      "corr[0,1] = 0.2848306332842415\n",
      "\tN[|T,T>]=1545\n",
      "\tN[|T,R>]=701\n",
      "\tN[|R,T>]=513\n",
      "\tN[|R,R>]=636\n",
      "\n",
      "corr[1,0] = 0.2015182884748102\n",
      "\tN[|T,T>]=967\n",
      "\tN[|T,R>]=469\n",
      "\tN[|R,T>]=688\n",
      "\tN[|R,R>]=774\n",
      "\n",
      "corr[1,1] = 0.2132904608788853\n",
      "\tN[|T,T>]=909\n",
      "\tN[|T,R>]=514\n",
      "\tN[|R,T>]=587\n",
      "\tN[|R,R>]=789\n",
      "\n",
      "S = abs(corrs[0,0] + corrs[0,1] + corrs[1,0] - corrs[1,1]) = 0.5994713789885862\n"
     ]
    }
   ],
   "source": [
    "TTC.measureS(KMC, CHSH_angles=[0.0, -45, -22.5, 22.5], integration_time_per_basis_setting_SI=4)"
   ]
  }
 ],
 "metadata": {
  "kernelspec": {
   "display_name": "Python 3",
   "language": "python",
   "name": "python3"
  },
  "language_info": {
   "codemirror_mode": {
    "name": "ipython",
    "version": 3
   },
   "file_extension": ".py",
   "mimetype": "text/x-python",
   "name": "python",
   "nbconvert_exporter": "python",
   "pygments_lexer": "ipython3",
   "version": "3.10.11"
  }
 },
 "nbformat": 4,
 "nbformat_minor": 2
}
