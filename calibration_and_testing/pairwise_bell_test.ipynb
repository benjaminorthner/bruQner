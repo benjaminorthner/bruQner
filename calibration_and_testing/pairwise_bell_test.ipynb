{
 "cells": [
  {
   "cell_type": "code",
   "execution_count": 1,
   "metadata": {},
   "outputs": [],
   "source": [
    "\"\"\"\n",
    "This notebook can be used to perform a bell test and calculate the S value between each pair of output ports\n",
    "\"\"\"\n",
    "import sys\n",
    "sys.path.insert(0, '../')\n",
    "\n",
    "from src.time_tagger import TimeTaggerController \n",
    "from src.kinetic_mount_controller import KineticMountControl"
   ]
  },
  {
   "cell_type": "markdown",
   "metadata": {},
   "source": [
    "# Setup SPCMs"
   ]
  },
  {
   "cell_type": "code",
   "execution_count": 2,
   "metadata": {},
   "outputs": [],
   "source": [
    "# Init the Time Tagger and the Kinetic Mount Controller\n",
    "TTC = TimeTaggerController()\n",
    "\n",
    "# NOTE Look at the trace, sucessively block each port and assign the channels numbers in the next cell\n",
    "# NOTE afterwards stop and close the graphic\n",
    "#TTC.displayCountTraces()"
   ]
  },
  {
   "cell_type": "code",
   "execution_count": 3,
   "metadata": {},
   "outputs": [],
   "source": [
    "# set alice channels\n",
    "TTC.set_alice_reflection_channel(3)\n",
    "TTC.set_alice_transmission_channel(2)\n",
    "\n",
    "# set bob channels\n",
    "TTC.set_bob_reflection_channel(4)\n",
    "TTC.set_bob_transmission_channel(1)\n",
    "\n",
    "# NOTE Verify that each trace is correctly labelled and then stop and close the graphic again\n",
    "#TTC.displayCountTraces()"
   ]
  },
  {
   "cell_type": "code",
   "execution_count": 4,
   "metadata": {},
   "outputs": [],
   "source": [
    "#TTC.displayCoincidenceTraces()"
   ]
  },
  {
   "cell_type": "markdown",
   "metadata": {},
   "source": [
    "# Setup Kinetic Mounts"
   ]
  },
  {
   "cell_type": "code",
   "execution_count": 5,
   "metadata": {},
   "outputs": [
    {
     "name": "stdout",
     "output_type": "stream",
     "text": [
      "\n",
      "ASSIGNING CONTROLLERS\n",
      "---------------------------------------------------------------\n",
      "Ports Found: ['COM8', 'COM9', 'COM14']\n",
      "---------------------------------------------------------------\n",
      "Device succesfully connected (Rotation Mount)\n",
      "Device succesfully connected (Dual-Position Slider)\n",
      "Device succesfully connected (Rotation Mount)\n"
     ]
    }
   ],
   "source": [
    "# only run if not already created\n",
    "if 'KMC' not in globals():  \n",
    "    KMC = KineticMountControl(number_of_devices=3)"
   ]
  },
  {
   "cell_type": "code",
   "execution_count": 6,
   "metadata": {},
   "outputs": [
    {
     "data": {
      "text/plain": [
       "2"
      ]
     },
     "execution_count": 6,
     "metadata": {},
     "output_type": "execute_result"
    }
   ],
   "source": [
    "# set bob home offset\n",
    "KMC.bob.set_home_offset(-43 % 360)\n",
    "KMC.bob.home()\n",
    "# set alice home offset\n",
    "KMC.alice.set_home_offset(6)\n",
    "KMC.alice.home()\n",
    "# make sure shutter is open\n",
    "KMC.shutter.open()"
   ]
  },
  {
   "cell_type": "code",
   "execution_count": 7,
   "metadata": {},
   "outputs": [
    {
     "name": "stdout",
     "output_type": "stream",
     "text": [
      "[1 3 0 0]\n",
      "[1 1 1 1]\n",
      "corr[0,0] = 0.2\n",
      "\tN[0]=1\n",
      "\tN[1]=4\n",
      "\tN[2]=0\n",
      "\tN[3]=5\n",
      "corr[0,1] = -0.75\n",
      "\tN[0]=0\n",
      "\tN[1]=4\n",
      "\tN[2]=3\n",
      "\tN[3]=1\n",
      "corr[1,0] = -0.2\n",
      "\tN[0]=0\n",
      "\tN[1]=3\n",
      "\tN[2]=0\n",
      "\tN[3]=2\n",
      "corr[1,1] = 1.0\n",
      "\tN[0]=1\n",
      "\tN[1]=0\n",
      "\tN[2]=0\n",
      "\tN[3]=2\n",
      "S = 0.6499999999999999\n"
     ]
    }
   ],
   "source": [
    "TTC.measureS(KMC, CHSH_angles=[0.0, -44.99765161562661, -22.49651806456107, 22.50037066640107])"
   ]
  }
 ],
 "metadata": {
  "kernelspec": {
   "display_name": "Python 3",
   "language": "python",
   "name": "python3"
  },
  "language_info": {
   "codemirror_mode": {
    "name": "ipython",
    "version": 3
   },
   "file_extension": ".py",
   "mimetype": "text/x-python",
   "name": "python",
   "nbconvert_exporter": "python",
   "pygments_lexer": "ipython3",
   "version": "3.10.11"
  }
 },
 "nbformat": 4,
 "nbformat_minor": 2
}
