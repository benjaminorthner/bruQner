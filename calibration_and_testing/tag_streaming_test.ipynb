{
 "cells": [
  {
   "cell_type": "code",
   "execution_count": 1,
   "metadata": {},
   "outputs": [],
   "source": [
    "import sys\n",
    "sys.path.insert(0, '../')\n",
    "\n",
    "import numpy as np\n",
    "from src.time_tagger import TimeTaggerController, TT_Simulator, two_particle_states\n",
    "from src.kinetic_mount_controller import KineticMountControl\n",
    "from src.osc import OSCCommunicator\n",
    "import matplotlib.pyplot as plt\n",
    "import time\n",
    "import asyncio\n",
    "import TimeTagger\n"
   ]
  },
  {
   "cell_type": "code",
   "execution_count": 2,
   "metadata": {},
   "outputs": [],
   "source": [
    "# Init the Time Tagger and the Kinetic Mount Controller\n",
    "TTC = TimeTaggerController()\n",
    "\n",
    "# NOTE Look at the trace, sucessively block each port and assign the channels numbers in the next cell\n",
    "# NOTE afterwards stop and close the graphic\n",
    "#TTC.displayCountTraces()\n",
    "\n",
    "# set alice channels\n",
    "TTC.set_alice_reflection_channel(4)\n",
    "TTC.set_alice_transmission_channel(3)\n",
    "# set bob channels\n",
    "TTC.set_bob_reflection_channel(2)\n",
    "TTC.set_bob_transmission_channel(1)\n",
    "\n"
   ]
  },
  {
   "cell_type": "code",
   "execution_count": 3,
   "metadata": {},
   "outputs": [],
   "source": [
    "TTC.createCoincidenceChannels(coincidence_window_SI=0.5e-9)\n",
    "#TTC.displayCoincidenceTraces()"
   ]
  },
  {
   "cell_type": "code",
   "execution_count": 4,
   "metadata": {},
   "outputs": [
    {
     "name": "stdout",
     "output_type": "stream",
     "text": [
      "<TimeTagger.Coincidences; proxy of <Swig Object of type 'Coincidences *' at 0x000001A69D4EBAE0> >\n"
     ]
    }
   ],
   "source": [
    "print(TTC.coincidences_vchannels)"
   ]
  },
  {
   "cell_type": "code",
   "execution_count": 41,
   "metadata": {},
   "outputs": [
    {
     "data": {
      "text/plain": [
       "3"
      ]
     },
     "execution_count": 41,
     "metadata": {},
     "output_type": "execute_result"
    }
   ],
   "source": [
    "CHSH_angles = [0, -22.5, -11.25, 11.25]\n",
    "theta_a = np.random.choice(CHSH_angles[0:2])\n",
    "theta_b = np.random.choice(CHSH_angles[2:4])\n",
    "\n",
    "TTC.get_single_measurement(theta_a, theta_b)\n"
   ]
  },
  {
   "cell_type": "code",
   "execution_count": 6,
   "metadata": {},
   "outputs": [],
   "source": [
    "#stream = TimeTagger.TimeTagStream(tagger=TTC.tagger, n_max_events=100, channels=self.coincidences_vchannels.getChannels())\n",
    "#stream.start()\n",
    "#stream.waitUntilFinished()\n",
    "#return stream \n"
   ]
  }
 ],
 "metadata": {
  "kernelspec": {
   "display_name": "Python 3",
   "language": "python",
   "name": "python3"
  },
  "language_info": {
   "codemirror_mode": {
    "name": "ipython",
    "version": 3
   },
   "file_extension": ".py",
   "mimetype": "text/x-python",
   "name": "python",
   "nbconvert_exporter": "python",
   "pygments_lexer": "ipython3",
   "version": "3.10.11"
  }
 },
 "nbformat": 4,
 "nbformat_minor": 2
}
