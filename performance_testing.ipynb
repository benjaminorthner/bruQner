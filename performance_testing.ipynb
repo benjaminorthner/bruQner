{
 "cells": [
  {
   "cell_type": "code",
   "execution_count": 1,
   "metadata": {},
   "outputs": [],
   "source": [
    "import asyncio\n",
    "import threading\n",
    "import time\n",
    "import numpy as np\n",
    "import matplotlib.pyplot as plt\n",
    "import ipywidgets as widgets\n",
    "from IPython.display import display\n",
    "from src.kinetic_mount_controller import KineticMountControl\n",
    "from src.time_tagger import TT_Simulator, two_particle_states\n",
    "%matplotlib widget"
   ]
  },
  {
   "cell_type": "code",
   "execution_count": 1,
   "metadata": {},
   "outputs": [
    {
     "ename": "NameError",
     "evalue": "name 'KineticMountControl' is not defined",
     "output_type": "error",
     "traceback": [
      "\u001b[1;31m---------------------------------------------------------------------------\u001b[0m",
      "\u001b[1;31mNameError\u001b[0m                                 Traceback (most recent call last)",
      "Cell \u001b[1;32mIn[1], line 9\u001b[0m\n\u001b[0;32m      6\u001b[0m \u001b[38;5;28;01mdef\u001b[39;00m \u001b[38;5;21mperformance_loop\u001b[39m():\n\u001b[0;32m      7\u001b[0m     \u001b[38;5;28;01mpass\u001b[39;00m\n\u001b[1;32m----> 9\u001b[0m KMC \u001b[38;5;241m=\u001b[39m \u001b[43mKineticMountControl\u001b[49m(number_of_devices\u001b[38;5;241m=\u001b[39m\u001b[38;5;241m3\u001b[39m)\n",
      "\u001b[1;31mNameError\u001b[0m: name 'KineticMountControl' is not defined"
     ]
    }
   ],
   "source": [
    "def setup():\n",
    "\n",
    "    #KMC = KineticMountController(number_of_devices=3)\n",
    "    pass\n",
    "\n",
    "def performance_loop():\n",
    "    pass\n",
    "\n",
    "KMC = KineticMountControl(number_of_devices=3)"
   ]
  },
  {
   "cell_type": "code",
   "execution_count": 5,
   "metadata": {},
   "outputs": [
    {
     "name": "stdout",
     "output_type": "stream",
     "text": [
      "\n",
      "ASSIGNING CONTROLLER\n",
      "---------------------------------------------------------------\n",
      "COM9 unavailable.\n",
      "\n",
      "Ports Found: []\n"
     ]
    },
    {
     "ename": "Exception",
     "evalue": "\n\nNo ports found. Make sure Controller is plugged in\n",
     "output_type": "error",
     "traceback": [
      "\u001b[1;31m---------------------------------------------------------------------------\u001b[0m",
      "\u001b[1;31mException\u001b[0m                                 Traceback (most recent call last)",
      "Cell \u001b[1;32mIn[5], line 1\u001b[0m\n\u001b[1;32m----> 1\u001b[0m KMC \u001b[38;5;241m=\u001b[39m \u001b[43mKineticMountController\u001b[49m\u001b[43m(\u001b[49m\u001b[43mnumber_of_devices\u001b[49m\u001b[38;5;241;43m=\u001b[39;49m\u001b[38;5;241;43m3\u001b[39;49m\u001b[43m)\u001b[49m\n\u001b[0;32m      2\u001b[0m roA, shutter, roB \u001b[38;5;241m=\u001b[39m KMC\u001b[38;5;241m.\u001b[39mdevices\n\u001b[0;32m      3\u001b[0m roA\u001b[38;5;241m.\u001b[39mhome()\n",
      "File \u001b[1;32m\\\\wsl.localhost\\Ubuntu\\home\\benjaminorthner\\projects\\bruQner\\src\\kinetic_mount_controller\\kinetic_mount_controller.py:43\u001b[0m, in \u001b[0;36mKineticMountController.__init__\u001b[1;34m(self, number_of_devices)\u001b[0m\n\u001b[0;32m     40\u001b[0m \u001b[38;5;28mprint\u001b[39m(\u001b[38;5;124mf\u001b[39m\u001b[38;5;124m\"\u001b[39m\u001b[38;5;124mPorts Found: \u001b[39m\u001b[38;5;132;01m{\u001b[39;00mports_found\u001b[38;5;132;01m}\u001b[39;00m\u001b[38;5;124m\"\u001b[39m)\n\u001b[0;32m     42\u001b[0m \u001b[38;5;28;01mif\u001b[39;00m \u001b[38;5;129;01mnot\u001b[39;00m ports_found:\n\u001b[1;32m---> 43\u001b[0m     \u001b[38;5;28;01mraise\u001b[39;00m \u001b[38;5;167;01mException\u001b[39;00m(\u001b[38;5;124m\"\u001b[39m\u001b[38;5;130;01m\\n\u001b[39;00m\u001b[38;5;130;01m\\n\u001b[39;00m\u001b[38;5;124mNo ports found. Make sure Controller is plugged in\u001b[39m\u001b[38;5;130;01m\\n\u001b[39;00m\u001b[38;5;124m\"\u001b[39m)\n\u001b[0;32m     45\u001b[0m \u001b[38;5;28mself\u001b[39m\u001b[38;5;241m.\u001b[39mcontroller \u001b[38;5;241m=\u001b[39m elliptec\u001b[38;5;241m.\u001b[39mController(ports_found[\u001b[38;5;241m0\u001b[39m], debug\u001b[38;5;241m=\u001b[39m\u001b[38;5;28;01mFalse\u001b[39;00m)\n\u001b[0;32m     46\u001b[0m \u001b[38;5;28mself\u001b[39m\u001b[38;5;241m.\u001b[39m_print_div()\n",
      "\u001b[1;31mException\u001b[0m: \n\nNo ports found. Make sure Controller is plugged in\n"
     ]
    }
   ],
   "source": [
    "roA, shutter, roB = KMC1.devices\n",
    "roA.home()\n",
    "roB.home()\n",
    "shutter.home()"
   ]
  },
  {
   "cell_type": "code",
   "execution_count": 14,
   "metadata": {},
   "outputs": [
    {
     "ename": "KeyboardInterrupt",
     "evalue": "",
     "output_type": "error",
     "traceback": [
      "\u001b[1;31m---------------------------------------------------------------------------\u001b[0m",
      "\u001b[1;31mKeyboardInterrupt\u001b[0m                         Traceback (most recent call last)",
      "Cell \u001b[1;32mIn[14], line 4\u001b[0m\n\u001b[0;32m      2\u001b[0m aA \u001b[38;5;241m=\u001b[39m \u001b[38;5;241m0\u001b[39m\n\u001b[0;32m      3\u001b[0m \u001b[38;5;28;01mwhile\u001b[39;00m \u001b[38;5;28;01mTrue\u001b[39;00m:\n\u001b[1;32m----> 4\u001b[0m     \u001b[43mroB\u001b[49m\u001b[38;5;241;43m.\u001b[39;49m\u001b[43mset_angle\u001b[49m\u001b[43m(\u001b[49m\u001b[43maA\u001b[49m\u001b[43m)\u001b[49m\n\u001b[0;32m      5\u001b[0m     aA \u001b[38;5;241m+\u001b[39m\u001b[38;5;241m=\u001b[39m \u001b[38;5;241m5\u001b[39m\n",
      "File \u001b[1;32m\\\\wsl.localhost\\Ubuntu\\home\\benjaminorthner\\projects\\bruQner\\src\\elliptec\\rotator.py:26\u001b[0m, in \u001b[0;36mRotator.set_angle\u001b[1;34m(self, angle, delay)\u001b[0m\n\u001b[0;32m     24\u001b[0m time\u001b[38;5;241m.\u001b[39msleep(delay)\n\u001b[0;32m     25\u001b[0m position \u001b[38;5;241m=\u001b[39m \u001b[38;5;28mself\u001b[39m\u001b[38;5;241m.\u001b[39mangle_to_pos(angle)\n\u001b[1;32m---> 26\u001b[0m status \u001b[38;5;241m=\u001b[39m \u001b[38;5;28;43mself\u001b[39;49m\u001b[38;5;241;43m.\u001b[39;49m\u001b[43mmove\u001b[49m\u001b[43m(\u001b[49m\u001b[38;5;124;43m\"\u001b[39;49m\u001b[38;5;124;43mabsolute\u001b[39;49m\u001b[38;5;124;43m\"\u001b[39;49m\u001b[43m,\u001b[49m\u001b[43m \u001b[49m\u001b[43mposition\u001b[49m\u001b[43m)\u001b[49m\n\u001b[0;32m     27\u001b[0m angle \u001b[38;5;241m=\u001b[39m \u001b[38;5;28mself\u001b[39m\u001b[38;5;241m.\u001b[39mextract_angle_from_status(status)\n\u001b[0;32m     28\u001b[0m \u001b[38;5;28;01mreturn\u001b[39;00m angle\n",
      "File \u001b[1;32m\\\\wsl.localhost\\Ubuntu\\home\\benjaminorthner\\projects\\bruQner\\src\\elliptec\\motor.py:60\u001b[0m, in \u001b[0;36mMotor.move\u001b[1;34m(self, req, data)\u001b[0m\n\u001b[0;32m     57\u001b[0m \u001b[38;5;28;01mif\u001b[39;00m instruction \u001b[38;5;241m==\u001b[39m \u001b[38;5;124mb\u001b[39m\u001b[38;5;124m\"\u001b[39m\u001b[38;5;124mho\u001b[39m\u001b[38;5;124m\"\u001b[39m:\n\u001b[0;32m     58\u001b[0m     instruction \u001b[38;5;241m=\u001b[39m \u001b[38;5;124mb\u001b[39m\u001b[38;5;124m\"\u001b[39m\u001b[38;5;124mho0\u001b[39m\u001b[38;5;124m\"\u001b[39m\n\u001b[1;32m---> 60\u001b[0m status \u001b[38;5;241m=\u001b[39m \u001b[38;5;28;43mself\u001b[39;49m\u001b[38;5;241;43m.\u001b[39;49m\u001b[43msend_instruction\u001b[49m\u001b[43m(\u001b[49m\u001b[43minstruction\u001b[49m\u001b[43m,\u001b[49m\u001b[43m \u001b[49m\u001b[43mmessage\u001b[49m\u001b[38;5;241;43m=\u001b[39;49m\u001b[43mdata\u001b[49m\u001b[43m)\u001b[49m\n\u001b[0;32m     61\u001b[0m \u001b[38;5;28;01mif\u001b[39;00m \u001b[38;5;28mself\u001b[39m\u001b[38;5;241m.\u001b[39mdebug:\n\u001b[0;32m     62\u001b[0m     move_check(status)  \u001b[38;5;66;03m# TODO: make it return success as boolean?\u001b[39;00m\n",
      "File \u001b[1;32m\\\\wsl.localhost\\Ubuntu\\home\\benjaminorthner\\projects\\bruQner\\src\\elliptec\\motor.py:37\u001b[0m, in \u001b[0;36mMotor.send_instruction\u001b[1;34m(self, instruction, message)\u001b[0m\n\u001b[0;32m     35\u001b[0m \u001b[38;5;28;01mdef\u001b[39;00m \u001b[38;5;21msend_instruction\u001b[39m(\u001b[38;5;28mself\u001b[39m, instruction, message\u001b[38;5;241m=\u001b[39m\u001b[38;5;28;01mNone\u001b[39;00m):\n\u001b[0;32m     36\u001b[0m \u001b[38;5;250m    \u001b[39m\u001b[38;5;124;03m\"\"\"Sends an instruction to the motor. Returns the response from the motor.\"\"\"\u001b[39;00m\n\u001b[1;32m---> 37\u001b[0m     response \u001b[38;5;241m=\u001b[39m \u001b[38;5;28;43mself\u001b[39;49m\u001b[38;5;241;43m.\u001b[39;49m\u001b[43mcontroller\u001b[49m\u001b[38;5;241;43m.\u001b[39;49m\u001b[43msend_instruction\u001b[49m\u001b[43m(\u001b[49m\u001b[43minstruction\u001b[49m\u001b[43m,\u001b[49m\u001b[43m \u001b[49m\u001b[43maddress\u001b[49m\u001b[38;5;241;43m=\u001b[39;49m\u001b[38;5;28;43mself\u001b[39;49m\u001b[38;5;241;43m.\u001b[39;49m\u001b[43maddress\u001b[49m\u001b[43m,\u001b[49m\u001b[43m \u001b[49m\u001b[43mmessage\u001b[49m\u001b[38;5;241;43m=\u001b[39;49m\u001b[43mmessage\u001b[49m\u001b[43m)\u001b[49m\n\u001b[0;32m     39\u001b[0m     \u001b[38;5;28;01mreturn\u001b[39;00m response\n",
      "File \u001b[1;32m\\\\wsl.localhost\\Ubuntu\\home\\benjaminorthner\\projects\\bruQner\\src\\elliptec\\controller.py:100\u001b[0m, in \u001b[0;36mController.send_instruction\u001b[1;34m(self, instruction, address, message)\u001b[0m\n\u001b[0;32m     98\u001b[0m \u001b[38;5;28;01mwith\u001b[39;00m \u001b[38;5;28mself\u001b[39m\u001b[38;5;241m.\u001b[39mlock:\n\u001b[0;32m     99\u001b[0m     \u001b[38;5;28mself\u001b[39m\u001b[38;5;241m.\u001b[39ms\u001b[38;5;241m.\u001b[39mwrite(command)  \u001b[38;5;66;03m# This actually executes the command\u001b[39;00m\n\u001b[1;32m--> 100\u001b[0m     response \u001b[38;5;241m=\u001b[39m \u001b[38;5;28;43mself\u001b[39;49m\u001b[38;5;241;43m.\u001b[39;49m\u001b[43mread_response\u001b[49m\u001b[43m(\u001b[49m\u001b[43m)\u001b[49m\n\u001b[0;32m    102\u001b[0m \u001b[38;5;28;01mreturn\u001b[39;00m response\n",
      "File \u001b[1;32m\\\\wsl.localhost\\Ubuntu\\home\\benjaminorthner\\projects\\bruQner\\src\\elliptec\\controller.py:59\u001b[0m, in \u001b[0;36mController.read_response\u001b[1;34m(self)\u001b[0m\n\u001b[0;32m     57\u001b[0m \u001b[38;5;28;01mdef\u001b[39;00m \u001b[38;5;21mread_response\u001b[39m(\u001b[38;5;28mself\u001b[39m):\n\u001b[0;32m     58\u001b[0m \u001b[38;5;250m    \u001b[39m\u001b[38;5;124;03m\"\"\"Reads the response from the controller.\"\"\"\u001b[39;00m\n\u001b[1;32m---> 59\u001b[0m     response \u001b[38;5;241m=\u001b[39m \u001b[38;5;28;43mself\u001b[39;49m\u001b[38;5;241;43m.\u001b[39;49m\u001b[43ms\u001b[49m\u001b[38;5;241;43m.\u001b[39;49m\u001b[43mread_until\u001b[49m\u001b[43m(\u001b[49m\u001b[38;5;124;43mb\u001b[39;49m\u001b[38;5;124;43m\"\u001b[39;49m\u001b[38;5;130;43;01m\\r\u001b[39;49;00m\u001b[38;5;130;43;01m\\n\u001b[39;49;00m\u001b[38;5;124;43m\"\u001b[39;49m\u001b[43m)\u001b[49m  \u001b[38;5;66;03m# Waiting until response read\u001b[39;00m\n\u001b[0;32m     61\u001b[0m     \u001b[38;5;28;01mif\u001b[39;00m \u001b[38;5;28mself\u001b[39m\u001b[38;5;241m.\u001b[39mdebug:\n\u001b[0;32m     62\u001b[0m         \u001b[38;5;28mprint\u001b[39m(\u001b[38;5;124m\"\u001b[39m\u001b[38;5;124mRX:\u001b[39m\u001b[38;5;124m\"\u001b[39m, response)\n",
      "File \u001b[1;32m~\\AppData\\Local\\Packages\\PythonSoftwareFoundation.Python.3.10_qbz5n2kfra8p0\\LocalCache\\local-packages\\Python310\\site-packages\\serial\\serialutil.py:663\u001b[0m, in \u001b[0;36mSerialBase.read_until\u001b[1;34m(self, expected, size)\u001b[0m\n\u001b[0;32m    661\u001b[0m timeout \u001b[38;5;241m=\u001b[39m Timeout(\u001b[38;5;28mself\u001b[39m\u001b[38;5;241m.\u001b[39m_timeout)\n\u001b[0;32m    662\u001b[0m \u001b[38;5;28;01mwhile\u001b[39;00m \u001b[38;5;28;01mTrue\u001b[39;00m:\n\u001b[1;32m--> 663\u001b[0m     c \u001b[38;5;241m=\u001b[39m \u001b[38;5;28;43mself\u001b[39;49m\u001b[38;5;241;43m.\u001b[39;49m\u001b[43mread\u001b[49m\u001b[43m(\u001b[49m\u001b[38;5;241;43m1\u001b[39;49m\u001b[43m)\u001b[49m\n\u001b[0;32m    664\u001b[0m     \u001b[38;5;28;01mif\u001b[39;00m c:\n\u001b[0;32m    665\u001b[0m         line \u001b[38;5;241m+\u001b[39m\u001b[38;5;241m=\u001b[39m c\n",
      "File \u001b[1;32m~\\AppData\\Local\\Packages\\PythonSoftwareFoundation.Python.3.10_qbz5n2kfra8p0\\LocalCache\\local-packages\\Python310\\site-packages\\serial\\serialwin32.py:288\u001b[0m, in \u001b[0;36mSerial.read\u001b[1;34m(self, size)\u001b[0m\n\u001b[0;32m    286\u001b[0m \u001b[38;5;28;01mif\u001b[39;00m \u001b[38;5;129;01mnot\u001b[39;00m read_ok \u001b[38;5;129;01mand\u001b[39;00m win32\u001b[38;5;241m.\u001b[39mGetLastError() \u001b[38;5;129;01mnot\u001b[39;00m \u001b[38;5;129;01min\u001b[39;00m (win32\u001b[38;5;241m.\u001b[39mERROR_SUCCESS, win32\u001b[38;5;241m.\u001b[39mERROR_IO_PENDING):\n\u001b[0;32m    287\u001b[0m     \u001b[38;5;28;01mraise\u001b[39;00m SerialException(\u001b[38;5;124m\"\u001b[39m\u001b[38;5;124mReadFile failed (\u001b[39m\u001b[38;5;132;01m{!r}\u001b[39;00m\u001b[38;5;124m)\u001b[39m\u001b[38;5;124m\"\u001b[39m\u001b[38;5;241m.\u001b[39mformat(ctypes\u001b[38;5;241m.\u001b[39mWinError()))\n\u001b[1;32m--> 288\u001b[0m result_ok \u001b[38;5;241m=\u001b[39m \u001b[43mwin32\u001b[49m\u001b[38;5;241;43m.\u001b[39;49m\u001b[43mGetOverlappedResult\u001b[49m\u001b[43m(\u001b[49m\n\u001b[0;32m    289\u001b[0m \u001b[43m    \u001b[49m\u001b[38;5;28;43mself\u001b[39;49m\u001b[38;5;241;43m.\u001b[39;49m\u001b[43m_port_handle\u001b[49m\u001b[43m,\u001b[49m\n\u001b[0;32m    290\u001b[0m \u001b[43m    \u001b[49m\u001b[43mctypes\u001b[49m\u001b[38;5;241;43m.\u001b[39;49m\u001b[43mbyref\u001b[49m\u001b[43m(\u001b[49m\u001b[38;5;28;43mself\u001b[39;49m\u001b[38;5;241;43m.\u001b[39;49m\u001b[43m_overlapped_read\u001b[49m\u001b[43m)\u001b[49m\u001b[43m,\u001b[49m\n\u001b[0;32m    291\u001b[0m \u001b[43m    \u001b[49m\u001b[43mctypes\u001b[49m\u001b[38;5;241;43m.\u001b[39;49m\u001b[43mbyref\u001b[49m\u001b[43m(\u001b[49m\u001b[43mrc\u001b[49m\u001b[43m)\u001b[49m\u001b[43m,\u001b[49m\n\u001b[0;32m    292\u001b[0m \u001b[43m    \u001b[49m\u001b[38;5;28;43;01mTrue\u001b[39;49;00m\u001b[43m)\u001b[49m\n\u001b[0;32m    293\u001b[0m \u001b[38;5;28;01mif\u001b[39;00m \u001b[38;5;129;01mnot\u001b[39;00m result_ok:\n\u001b[0;32m    294\u001b[0m     \u001b[38;5;28;01mif\u001b[39;00m win32\u001b[38;5;241m.\u001b[39mGetLastError() \u001b[38;5;241m!=\u001b[39m win32\u001b[38;5;241m.\u001b[39mERROR_OPERATION_ABORTED:\n",
      "\u001b[1;31mKeyboardInterrupt\u001b[0m: "
     ]
    }
   ],
   "source": [
    "shutter.open()\n",
    "aA = 0\n",
    "while True:\n",
    "    roB.set_angle(aA)\n",
    "    aA += 5"
   ]
  },
  {
   "cell_type": "code",
   "execution_count": null,
   "metadata": {},
   "outputs": [],
   "source": []
  },
  {
   "cell_type": "code",
   "execution_count": 4,
   "metadata": {},
   "outputs": [
    {
     "name": "stdout",
     "output_type": "stream",
     "text": [
      "\n",
      "TIME-TAGGER SIMULATOR\n",
      "---------------------------------------------------------------\n",
      "Initialising . . .\n",
      "\u001b[F\u001b[K\n",
      "For the initial state:\n",
      "Matrix([[sqrt(2)/2], [0], [0], [sqrt(2)/2]])\n",
      "\n",
      "The correlation function has the form:\n",
      "cos(2*theta_a - 2*theta_b)\n",
      "\n",
      "We find the following optimal CHSH angles (in multiples of pi):\n",
      "a0:\t0.0000, a1:\t-0.2500\n",
      "b0:\t-0.1250, b1:\t0.1250\n",
      "\n",
      "And measurements taken at this angle will produce as CHSH value S of\n",
      "S = 2.8284 ( 100% of S_bell )\n",
      "\n",
      "---------------------------------------------------------------\n"
     ]
    }
   ],
   "source": [
    "# Setup kinetic mounts and calibrate\n",
    "setup()\n",
    "\n",
    "# Setup Simulator\n",
    "TTSim = TT_Simulator(two_particle_states['phi_plus'], initial_state_noise=0, debug=True)\n"
   ]
  },
  {
   "cell_type": "code",
   "execution_count": 5,
   "metadata": {},
   "outputs": [
    {
     "name": "stdout",
     "output_type": "stream",
     "text": [
      "[0.0, -44.99765161562661, -22.49651806456107, 22.50037066640107]\n",
      "[ 73 412 444  71]\n",
      "[432  80  72 416]\n",
      "[428  66  74 432]\n",
      "[424  69  81 426]\n",
      "[431  80  84 405]\n",
      "[410  74  81 435]\n",
      "[425  69  66 440]\n",
      "[426  75  76 423]\n",
      "[435  91  59 415]\n",
      "[408  67  97 428]\n"
     ]
    }
   ],
   "source": [
    "a_angles = TTSim.CHSH_angles[:2]\n",
    "b_angles = TTSim.CHSH_angles[2:]\n",
    "print([x * 180/np.pi for x in TTSim.CHSH_angles])\n",
    "\n",
    "for _ in range(10):\n",
    "    print(TTSim.measure_n_entangled_pairs(1000, np.random.choice(a_angles), np.random.choice(b_angles)))\n"
   ]
  },
  {
   "cell_type": "code",
   "execution_count": 6,
   "metadata": {},
   "outputs": [
    {
     "ename": "AttributeError",
     "evalue": "'Shutter' object has no attribute 'set_angle'",
     "output_type": "error",
     "traceback": [
      "\u001b[1;31m---------------------------------------------------------------------------\u001b[0m",
      "\u001b[1;31mAttributeError\u001b[0m                            Traceback (most recent call last)",
      "Cell \u001b[1;32mIn[6], line 22\u001b[0m\n\u001b[0;32m     19\u001b[0m theta_b \u001b[38;5;241m=\u001b[39m np\u001b[38;5;241m.\u001b[39mrandom\u001b[38;5;241m.\u001b[39mchoice(b_angles) \u001b[38;5;241m*\u001b[39m \u001b[38;5;241m90\u001b[39m \u001b[38;5;241m/\u001b[39m np\u001b[38;5;241m.\u001b[39mpi\n\u001b[0;32m     21\u001b[0m \u001b[38;5;66;03m# move filters, convert from radians and convert from polarisation orientation to filter angle (/2)\u001b[39;00m\n\u001b[1;32m---> 22\u001b[0m \u001b[43mset_angles_simultaneously\u001b[49m\u001b[43m(\u001b[49m\u001b[43mroA\u001b[49m\u001b[43m,\u001b[49m\u001b[43m \u001b[49m\u001b[43mroB\u001b[49m\u001b[43m,\u001b[49m\u001b[43m \u001b[49m\u001b[43mtheta_a\u001b[49m\u001b[43m,\u001b[49m\u001b[43m \u001b[49m\u001b[43mtheta_b\u001b[49m\u001b[43m)\u001b[49m\n",
      "Cell \u001b[1;32mIn[6], line 6\u001b[0m, in \u001b[0;36mset_angles_simultaneously\u001b[1;34m(a_hwp, b_hwp, angle1, angle2)\u001b[0m\n\u001b[0;32m      1\u001b[0m \u001b[38;5;28;01mdef\u001b[39;00m \u001b[38;5;21mset_angles_simultaneously\u001b[39m(a_hwp, b_hwp, angle1, angle2):\n\u001b[0;32m      2\u001b[0m \u001b[38;5;250m    \u001b[39m\u001b[38;5;124;03m\"\"\"\u001b[39;00m\n\u001b[0;32m      3\u001b[0m \u001b[38;5;124;03m    Does not actually work simultaneously yet because can not handle responses from controller asynchronously without errors\u001b[39;00m\n\u001b[0;32m      4\u001b[0m \u001b[38;5;124;03m    But it is still slighly faster than just running back to back\u001b[39;00m\n\u001b[0;32m      5\u001b[0m \u001b[38;5;124;03m    \"\"\"\u001b[39;00m\n\u001b[1;32m----> 6\u001b[0m     thread_a \u001b[38;5;241m=\u001b[39m threading\u001b[38;5;241m.\u001b[39mThread(target\u001b[38;5;241m=\u001b[39m\u001b[43ma_hwp\u001b[49m\u001b[38;5;241;43m.\u001b[39;49m\u001b[43mset_angle\u001b[49m, args\u001b[38;5;241m=\u001b[39m(angle1,))\n\u001b[0;32m      7\u001b[0m     thread_b \u001b[38;5;241m=\u001b[39m threading\u001b[38;5;241m.\u001b[39mThread(target\u001b[38;5;241m=\u001b[39mb_hwp\u001b[38;5;241m.\u001b[39mset_angle, args\u001b[38;5;241m=\u001b[39m(angle2,))\n\u001b[0;32m      9\u001b[0m     \u001b[38;5;66;03m# Start both threads\u001b[39;00m\n",
      "\u001b[1;31mAttributeError\u001b[0m: 'Shutter' object has no attribute 'set_angle'"
     ]
    }
   ],
   "source": [
    "def set_angles_simultaneously(a_hwp, b_hwp, angle1, angle2):\n",
    "    \"\"\"\n",
    "    Does not actually work simultaneously yet because can not handle responses from controller asynchronously without errors\n",
    "    But it is still slighly faster than just running back to back\n",
    "    \"\"\"\n",
    "    thread_a = threading.Thread(target=a_hwp.set_angle, args=(angle1,))\n",
    "    thread_b = threading.Thread(target=b_hwp.set_angle, args=(angle2,))\n",
    "\n",
    "    # Start both threads\n",
    "    thread_a.start()\n",
    "    thread_b.start()\n",
    "\n",
    "    # Wait for both threads to complete\n",
    "    thread_a.join()\n",
    "    thread_b.join()\n",
    "\n",
    "while True:\n",
    "    theta_a = np.random.choice(a_angles) * 90 / np.pi\n",
    "    theta_b = np.random.choice(b_angles) * 90 / np.pi\n",
    "\n",
    "    # move filters, convert from radians and convert from polarisation orientation to filter angle (/2)\n",
    "    set_angles_simultaneously(roA, roB, theta_a, theta_b)"
   ]
  },
  {
   "cell_type": "code",
   "execution_count": 8,
   "metadata": {},
   "outputs": [
    {
     "data": {
      "text/plain": [
       "-0.0075"
      ]
     },
     "execution_count": 8,
     "metadata": {},
     "output_type": "execute_result"
    }
   ],
   "source": [
    "#roA.set_angle(0)"
   ]
  },
  {
   "cell_type": "code",
   "execution_count": 12,
   "metadata": {},
   "outputs": [
    {
     "data": {
      "application/vnd.jupyter.widget-view+json": {
       "model_id": "8336778ea7784c6aa02f68008bd1b853",
       "version_major": 2,
       "version_minor": 0
      },
      "text/plain": [
       "Button(description='Start Simulation', style=ButtonStyle())"
      ]
     },
     "metadata": {},
     "output_type": "display_data"
    },
    {
     "data": {
      "application/vnd.jupyter.widget-view+json": {
       "model_id": "ee2d4ce2a4dd473d91a2b152f1cf8d53",
       "version_major": 2,
       "version_minor": 0
      },
      "text/plain": [
       "Button(description='Stop Simulation', style=ButtonStyle())"
      ]
     },
     "metadata": {},
     "output_type": "display_data"
    },
    {
     "data": {
      "application/vnd.jupyter.widget-view+json": {
       "model_id": "70f9414fd55f44f59fbba0fcb6321f2d",
       "version_major": 2,
       "version_minor": 0
      },
      "image/png": "[encoded data removed]",
      "text/html": [
       "\n",
       "            <div style=\"display: inline-block;\">\n",
       "                <div class=\"jupyter-widgets widget-label\" style=\"text-align: center;\">\n",
       "                    Figure\n",
       "                </div>\n",
       "                <img src='data:image/png;base64,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' width=640.0/>\n",
       "            </div>\n",
       "        "
      ],
      "text/plain": [
       "Canvas(toolbar=Toolbar(toolitems=[('Home', 'Reset original view', 'home', 'home'), ('Back', 'Back to previous …"
      ]
     },
     "metadata": {},
     "output_type": "display_data"
    },
    {
     "name": "stdout",
     "output_type": "stream",
     "text": [
      "-22.498825807813304 -11.248259032280535\n",
      "-22.498825807813304 -11.248259032280535\n",
      "0.0 -11.248259032280535\n",
      "-22.498825807813304 11.250185333200536\n",
      "0.0 11.250185333200536\n",
      "0.0 -11.248259032280535\n",
      "-22.498825807813304 11.250185333200536\n",
      "0.0 -11.248259032280535\n",
      "0.0 -11.248259032280535\n",
      "0.0 11.250185333200536\n",
      "-22.498825807813304 -11.248259032280535\n",
      "0.0 -11.248259032280535\n",
      "-22.498825807813304 -11.248259032280535\n",
      "0.0 -11.248259032280535\n",
      "-22.498825807813304 -11.248259032280535\n",
      "0.0 -11.248259032280535\n",
      "-22.498825807813304 11.250185333200536\n",
      "-22.498825807813304 11.250185333200536\n",
      "0.0 11.250185333200536\n",
      "-22.498825807813304 -11.248259032280535\n",
      "-22.498825807813304 11.250185333200536\n",
      "0.0 -11.248259032280535\n",
      "-22.498825807813304 -11.248259032280535\n",
      "-22.498825807813304 -11.248259032280535\n",
      "-22.498825807813304 11.250185333200536\n",
      "-22.498825807813304 11.250185333200536\n",
      "0.0 -11.248259032280535\n",
      "-22.498825807813304 -11.248259032280535\n",
      "0.0 11.250185333200536\n",
      "-22.498825807813304 -11.248259032280535\n",
      "Simulation stopped.\n",
      "0.0 -11.248259032280535\n",
      "0.0 11.250185333200536\n",
      "-22.498825807813304 -11.248259032280535\n",
      "0.0 -11.248259032280535\n",
      "0.0 -11.248259032280535\n",
      "-22.498825807813304 -11.248259032280535\n",
      "-22.498825807813304 11.250185333200536\n",
      "-22.498825807813304 11.250185333200536\n",
      "-22.498825807813304 -11.248259032280535\n",
      "-22.498825807813304 11.250185333200536\n",
      "0.0 11.250185333200536\n",
      "-22.498825807813304 11.250185333200536\n",
      "-22.498825807813304 11.250185333200536\n",
      "0.0 -11.248259032280535\n",
      "-22.498825807813304 11.250185333200536\n",
      "-22.498825807813304 11.250185333200536\n",
      "-22.498825807813304 -11.248259032280535\n",
      "-22.498825807813304 -11.248259032280535\n",
      "0.0 -11.248259032280535\n",
      "-22.498825807813304 11.250185333200536\n",
      "0.0 -11.248259032280535\n",
      "0.0 -11.248259032280535\n",
      "0.0 11.250185333200536\n",
      "0.0 11.250185333200536\n",
      "0.0 -11.248259032280535\n",
      "0.0 11.250185333200536\n",
      "-22.498825807813304 11.250185333200536\n",
      "-22.498825807813304 -11.248259032280535\n",
      "-22.498825807813304 11.250185333200536\n",
      "-22.498825807813304 -11.248259032280535\n",
      "-22.498825807813304 -11.248259032280535\n",
      "-22.498825807813304 -11.248259032280535\n",
      "0.0 11.250185333200536\n",
      "0.0 -11.248259032280535\n",
      "0.0 -11.248259032280535\n",
      "0.0 -11.248259032280535\n",
      "0.0 11.250185333200536\n",
      "-22.498825807813304 11.250185333200536\n",
      "-22.498825807813304 11.250185333200536\n",
      "-22.498825807813304 11.250185333200536\n",
      "-22.498825807813304 -11.248259032280535\n",
      "-22.498825807813304 -11.248259032280535\n",
      "-22.498825807813304 -11.248259032280535\n",
      "-22.498825807813304 11.250185333200536\n",
      "0.0 11.250185333200536\n",
      "-22.498825807813304 11.250185333200536\n",
      "0.0 -11.248259032280535\n",
      "0.0 11.250185333200536\n",
      "-22.498825807813304 11.250185333200536\n",
      "-22.498825807813304 -11.248259032280535\n",
      "0.0 11.250185333200536\n",
      "0.0 11.250185333200536\n",
      "0.0 -11.248259032280535\n",
      "-22.498825807813304 11.250185333200536\n",
      "0.0 -11.248259032280535\n",
      "-22.498825807813304 -11.248259032280535\n",
      "0.0 -11.248259032280535\n",
      "-22.498825807813304 -11.248259032280535\n",
      "0.0 11.250185333200536\n",
      "0.0 11.250185333200536\n",
      "0.0 -11.248259032280535\n",
      "0.0 11.250185333200536\n",
      "-22.498825807813304 -11.248259032280535\n",
      "0.0 11.250185333200536\n",
      "0.0 11.250185333200536\n",
      "0.0 11.250185333200536\n",
      "-22.498825807813304 -11.248259032280535\n",
      "0.0 -11.248259032280535\n",
      "0.0 11.250185333200536\n",
      "0.0 -11.248259032280535\n",
      "0.0 -11.248259032280535\n",
      "-22.498825807813304 11.250185333200536\n",
      "0.0 -11.248259032280535\n",
      "-22.498825807813304 11.250185333200536\n",
      "-22.498825807813304 -11.248259032280535\n",
      "0.0 11.250185333200536\n",
      "0.0 11.250185333200536\n",
      "-22.498825807813304 11.250185333200536\n",
      "0.0 -11.248259032280535\n",
      "0.0 -11.248259032280535\n",
      "-22.498825807813304 11.250185333200536\n",
      "0.0 -11.248259032280535\n",
      "-22.498825807813304 -11.248259032280535\n",
      "-22.498825807813304 11.250185333200536\n",
      "-22.498825807813304 -11.248259032280535\n",
      "-22.498825807813304 11.250185333200536\n",
      "0.0 -11.248259032280535\n",
      "0.0 11.250185333200536\n",
      "Simulation stopped.\n"
     ]
    }
   ],
   "source": [
    "# Define a flag\n",
    "stop_simulation = False\n",
    "\n",
    "def run_simulation():\n",
    "    global stop_simulation\n",
    "    data = []\n",
    "    i = 0\n",
    "    while not stop_simulation:\n",
    "        # Simulate data generation\n",
    "        theta_a = np.random.choice(a_angles)\n",
    "        theta_b = np.random.choice(b_angles)\n",
    "\n",
    "        # move filters, convert from radians and convert from polarisation orientation to filter angle (/2)\n",
    "        #roA.set_angle(theta_a * 90/np.pi)\n",
    "        #roB.set_angle(theta_b * 90/np.pi)\n",
    "\n",
    "        print(theta_a*90/np.pi, theta_b*90/np.pi)\n",
    "\n",
    "        new_data = TTSim.measure_n_entangled_pairs(200, theta_a, theta_b)\n",
    "        data.append(new_data)\n",
    "        i += 1\n",
    "        time.sleep(0.01)  # simulate delay\n",
    "        yield new_data  # yield data for real-time plotting\n",
    "        \n",
    "        if i >= 1000:  # Optional: stop after 100 iterations\n",
    "            break\n",
    "    print(\"Simulation stopped.\")\n",
    "    \n",
    "# Start the thread\n",
    "def start_thread():\n",
    "    global stop_simulation\n",
    "    stop_simulation = False\n",
    "    thread = threading.Thread(target=threaded_simulation)\n",
    "    thread.start()\n",
    "\n",
    "# Function to update the plot\n",
    "def update_plot(data):\n",
    "    lineHH.set_xdata(list(range(len(data))))\n",
    "    lineHH.set_ydata([x[0] for x in data])\n",
    "    lineHV.set_xdata(list(range(len(data))))\n",
    "    lineHV.set_ydata([x[1] for x in data])\n",
    "    lineVH.set_xdata(list(range(len(data))))\n",
    "    lineVH.set_ydata([x[2] for x in data])\n",
    "    lineVV.set_xdata(list(range(len(data))))\n",
    "    lineVV.set_ydata([x[3] for x in data])\n",
    "    ax.relim()\n",
    "    ax.autoscale_view()\n",
    "    fig.canvas.draw()\n",
    "\n",
    "# Thread function to run simulation and update plot\n",
    "def threaded_simulation():\n",
    "    data = []\n",
    "    for value in run_simulation():\n",
    "        data.append(value)\n",
    "        update_plot(data)\n",
    "\n",
    "# Interactive controls\n",
    "def stop_thread():\n",
    "    global stop_simulation\n",
    "    stop_simulation = True\n",
    "\n",
    "fig, ax = plt.subplots()\n",
    "lineHH, = ax.plot([], [], label=r\"|HH>\")\n",
    "lineHV, = ax.plot([], [], label=r\"|HV>\")\n",
    "lineVH, = ax.plot([], [], label=r\"|VH>\")\n",
    "lineVV, = ax.plot([], [], label=r\"|VV>\")\n",
    "\n",
    "ax.legend(loc='upper right')\n",
    "\n",
    "# Adding buttons to control simulation\n",
    "start_button = widgets.Button(description=\"Start Simulation\")\n",
    "stop_button = widgets.Button(description=\"Stop Simulation\")\n",
    "\n",
    "start_button.on_click(lambda x: start_thread())\n",
    "stop_button.on_click(lambda x: stop_thread())\n",
    "\n",
    "display(start_button, stop_button)\n",
    "\n",
    "# TODO\n",
    "# implement a gauge that shows the current S value based on the measurements already done. Should have a line that differentiates classical from quantum\n"
   ]
  }
 ],
 "metadata": {
  "kernelspec": {
   "display_name": "Python 3",
   "language": "python",
   "name": "python3"
  },
  "language_info": {
   "codemirror_mode": {
    "name": "ipython",
    "version": 3
   },
   "file_extension": ".py",
   "mimetype": "text/x-python",
   "name": "python",
   "nbconvert_exporter": "python",
   "pygments_lexer": "ipython3",
   "version": "3.10.11"
  }
 },
 "nbformat": 4,
 "nbformat_minor": 2
}
