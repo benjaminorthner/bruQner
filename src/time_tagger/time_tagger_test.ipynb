{
 "cells": [
  {
   "cell_type": "code",
   "execution_count": 1,
   "metadata": {},
   "outputs": [],
   "source": [
    "import TimeTagger\n",
    "import numpy as np\n",
    "import asyncio\n",
    "import plotly.graph_objs as go\n",
    "from ipywidgets import Button\n"
   ]
  },
  {
   "cell_type": "code",
   "execution_count": 2,
   "metadata": {},
   "outputs": [
    {
     "data": {
      "text/plain": [
       "[(3, 4), (3, 1), (2, 4), (2, 1)]"
      ]
     },
     "execution_count": 2,
     "metadata": {},
     "output_type": "execute_result"
    }
   ],
   "source": [
    "# create time tagger object (link to device) and get the active channels\n",
    "tagger = TimeTagger.createTimeTagger()\n",
    "input_channels = tagger.getChannelList(TimeTagger.ChannelEdge.Rising)\n",
    "for ch in input_channels:\n",
    "    tagger.setTriggerLevel(ch, 0.5)\n",
    "\n",
    "# get every combination of 2 channels\n",
    "groups = [(3, 4), (3, 1), (2, 4), (2, 1)]\n",
    "\n",
    "# 30ns coincidence window to match qutools (coincidence window is in ps)\n",
    "coincidenceWindowSI = 30e-9 # seconds\n",
    "coincidences_vchannels = TimeTagger.Coincidences(tagger, groups, coincidenceWindow=coincidenceWindowSI * 1e12)\n",
    "groups"
   ]
  },
  {
   "cell_type": "code",
   "execution_count": 3,
   "metadata": {},
   "outputs": [
    {
     "data": {
      "application/vnd.jupyter.widget-view+json": {
       "model_id": "b6d9570f0353466e995a4e63e2964219",
       "version_major": 2,
       "version_minor": 0
      },
      "text/plain": [
       "FigureWidget({\n",
       "    'data': [{'name': '|R, R>',\n",
       "              'type': 'scatter',\n",
       "              'uid': 'e53065b5-7555-4f08-828a-e1936514b4e6',\n",
       "              'x': array([             0,   100000000000,   200000000000, ..., 99700000000000,\n",
       "                          99800000000000, 99900000000000], dtype=int64),\n",
       "              'y': array([   0,    0,    0, ..., 2217, 2190, 2201])},\n",
       "             {'name': '|R, T>',\n",
       "              'type': 'scatter',\n",
       "              'uid': 'bc7728a2-a249-4b86-8f49-6a2d408a3d35',\n",
       "              'x': array([             0,   100000000000,   200000000000, ..., 99700000000000,\n",
       "                          99800000000000, 99900000000000], dtype=int64),\n",
       "              'y': array([   0,    0,    0, ..., 2204, 2248, 2183])},\n",
       "             {'name': '|T, R>',\n",
       "              'type': 'scatter',\n",
       "              'uid': '492e7de9-3a32-4176-a008-4dff57475c51',\n",
       "              'x': array([             0,   100000000000,   200000000000, ..., 99700000000000,\n",
       "                          99800000000000, 99900000000000], dtype=int64),\n",
       "              'y': array([   0,    0,    0, ..., 1504, 1518, 1525])},\n",
       "             {'name': '|T, T>',\n",
       "              'type': 'scatter',\n",
       "              'uid': '4f617bc7-4890-4b0a-b4b3-beac984c844d',\n",
       "              'x': array([             0,   100000000000,   200000000000, ..., 99700000000000,\n",
       "                          99800000000000, 99900000000000], dtype=int64),\n",
       "              'y': array([   0,    0,    0, ..., 1836, 1778, 1873])}],\n",
       "    'layout': {'template': '...'}\n",
       "})"
      ]
     },
     "metadata": {},
     "output_type": "display_data"
    },
    {
     "data": {
      "application/vnd.jupyter.widget-view+json": {
       "model_id": "be6101b477f84f7080da26fe2817b4ff",
       "version_major": 2,
       "version_minor": 0
      },
      "text/plain": [
       "Button(description='stop', style=ButtonStyle())"
      ]
     },
     "metadata": {},
     "output_type": "display_data"
    }
   ],
   "source": [
    "binwidthSI = 0.1\n",
    "# convert binwidth to ps\n",
    "traces = []\n",
    "for vch in [1,2,3,4]: #coincidences_vchannels.getChannels():\n",
    "    counter = TimeTagger.Counter(tagger=tagger, channels=[vch], binwidth=binwidthSI * 1e12, n_values=1000)\n",
    "    traces.append(counter)\n",
    "\n",
    "# Init figure\n",
    "fig_trace = go.FigureWidget()\n",
    "\n",
    "# add scatter for each virtual channel\n",
    "for trace, group in zip(traces, groups):\n",
    "    fig_trace.add_scatter(x=trace.getIndex(), y=trace.getData()[0], name=f\"|{'R' if group[0] == 3 else 'T'}, {'R' if group[1] == 4 else 'T'}>\")\n",
    "\n",
    "async def update_trace():\n",
    "    currentMax = 0\n",
    "    refreshPeriod = binwidthSI if binwidthSI > 0.05 else 0.05\n",
    "    while True:\n",
    "        # Batch updates for all traces\n",
    "        with fig_trace.batch_update():\n",
    "            for i, trace in enumerate(traces):\n",
    "                y_data = trace.getData()[0] / binwidthSI\n",
    "\n",
    "                ymax = np.max(y_data)\n",
    "                if ymax > currentMax:\n",
    "                    currentMax = 1 * ymax\n",
    "                    fig_trace.update_layout(yaxis=dict(range=[0, ymax]))\n",
    "\n",
    "                fig_trace.data[i].y = y_data\n",
    "\n",
    "        # do not update faster than binwidth\n",
    "        await asyncio.sleep(refreshPeriod) \n",
    "\n",
    "try:\n",
    "    task_trace.cancel()\n",
    "except:\n",
    "    pass\n",
    "loop = asyncio.get_event_loop()\n",
    "task_trace = loop.create_task(update_trace())\n",
    "\n",
    "button_trace = Button(description=\"stop\")\n",
    "button_trace.on_click(lambda a: task_trace.cancel())\n",
    "\n",
    "display(fig_trace, button_trace)"
   ]
  },
  {
   "cell_type": "code",
   "execution_count": null,
   "metadata": {},
   "outputs": [],
   "source": []
  }
 ],
 "metadata": {
  "kernelspec": {
   "display_name": "Python 3",
   "language": "python",
   "name": "python3"
  },
  "language_info": {
   "codemirror_mode": {
    "name": "ipython",
    "version": 3
   },
   "file_extension": ".py",
   "mimetype": "text/x-python",
   "name": "python",
   "nbconvert_exporter": "python",
   "pygments_lexer": "ipython3",
   "version": "3.10.11"
  }
 },
 "nbformat": 4,
 "nbformat_minor": 2
}
