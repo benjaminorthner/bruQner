{
 "cells": [
  {
   "cell_type": "code",
   "execution_count": 1,
   "metadata": {},
   "outputs": [],
   "source": [
    "from matplotlib import pyplot as plt\n",
    "from time import sleep\n",
    "import itertools\n",
    "import TimeTagger\n",
    "import numpy as np\n",
    "import asyncio\n",
    "import plotly.graph_objs as go\n",
    "from ipywidgets import Button\n"
   ]
  },
  {
   "cell_type": "code",
   "execution_count": 23,
   "metadata": {},
   "outputs": [
    {
     "data": {
      "text/plain": [
       "[(3, 4), (3, 1), (2, 4), (2, 1)]"
      ]
     },
     "execution_count": 23,
     "metadata": {},
     "output_type": "execute_result"
    }
   ],
   "source": [
    "# create time tagger object (link to device) and get the active channels\n",
    "tagger = TimeTagger.createTimeTagger()\n",
    "input_channels = tagger.getChannelList(TimeTagger.ChannelEdge.Rising)\n",
    "for ch in input_channels:\n",
    "    tagger.setTriggerLevel(ch, 0.5)\n",
    "\n",
    "# get every combination of 2 channels\n",
    "groups = [(3, 4), (3, 1), (2, 4), (2, 1)]\n",
    "\n",
    "# 30ns coincidence window to match qutools (coincidence window is in ps)\n",
    "coincidenceWindowSI = 30e-9 # seconds\n",
    "coincidences_vchannels = TimeTagger.Coincidences(tagger, groups, coincidenceWindow=coincidenceWindowSI * 1e12)\n",
    "groups"
   ]
  },
  {
   "cell_type": "code",
   "execution_count": 31,
   "metadata": {},
   "outputs": [
    {
     "data": {
      "application/vnd.jupyter.widget-view+json": {
       "model_id": "20cd0ca9fc78472ca50cc33dbb0f1db8",
       "version_major": 2,
       "version_minor": 0
      },
      "text/plain": [
       "FigureWidget({\n",
       "    'data': [{'name': '|R, R>',\n",
       "              'type': 'scatter',\n",
       "              'uid': '2180decc-15eb-4194-9322-e6d9319c90ca',\n",
       "              'x': array([            0,   10000000000,   20000000000, ..., 9970000000000,\n",
       "                          9980000000000, 9990000000000], dtype=int64),\n",
       "              'y': array([0, 0, 0, ..., 0, 0, 0])},\n",
       "             {'name': '|R, T>',\n",
       "              'type': 'scatter',\n",
       "              'uid': '36b2a6b2-a79a-41da-804a-cd8a460e5f16',\n",
       "              'x': array([            0,   10000000000,   20000000000, ..., 9970000000000,\n",
       "                          9980000000000, 9990000000000], dtype=int64),\n",
       "              'y': array([0, 0, 0, ..., 0, 0, 0])},\n",
       "             {'name': '|T, R>',\n",
       "              'type': 'scatter',\n",
       "              'uid': 'e7799033-2b3f-4765-b87d-78481a45aedd',\n",
       "              'x': array([            0,   10000000000,   20000000000, ..., 9970000000000,\n",
       "                          9980000000000, 9990000000000], dtype=int64),\n",
       "              'y': array([0, 0, 0, ..., 0, 0, 0])},\n",
       "             {'name': '|T, T>',\n",
       "              'type': 'scatter',\n",
       "              'uid': '81f28baf-b544-41a6-b444-258fec4442b0',\n",
       "              'x': array([            0,   10000000000,   20000000000, ..., 9970000000000,\n",
       "                          9980000000000, 9990000000000], dtype=int64),\n",
       "              'y': array([0, 0, 0, ..., 0, 0, 0])}],\n",
       "    'layout': {'template': '...'}\n",
       "})"
      ]
     },
     "metadata": {},
     "output_type": "display_data"
    },
    {
     "data": {
      "application/vnd.jupyter.widget-view+json": {
       "model_id": "86b16796734b4c8f933d36e217baf398",
       "version_major": 2,
       "version_minor": 0
      },
      "text/plain": [
       "Button(description='stop', style=ButtonStyle())"
      ]
     },
     "metadata": {},
     "output_type": "display_data"
    }
   ],
   "source": [
    "#trace = TimeTagger.Counter(tagger, [2], G10**9, 3000)\n",
    "binwidthSI = 0.01\n",
    "# convert binwidth to ps\n",
    "traces = []\n",
    "for vch in coincidences_vchannels.getChannels():\n",
    "    counter = TimeTagger.Counter(tagger=tagger, channels=[vch], binwidth=binwidthSI * 1e12, n_values=1000)\n",
    "    traces.append(counter)\n",
    "\n",
    "# Init figure\n",
    "fig_trace = go.FigureWidget()\n",
    "\n",
    "# add scatter for each virtual channel\n",
    "for trace, group in zip(traces, groups):\n",
    "    fig_trace.add_scatter(x=trace.getIndex(), y=trace.getData()[0], name=f\"|{'R' if group[0] == 3 else 'T'}, {'R' if group[1] == 4 else 'T'}>\")\n",
    "\n",
    "async def update_trace2():\n",
    "    currentMax = 0\n",
    "    while True:\n",
    "        \n",
    "        for i, trace in enumerate(traces):\n",
    "            # get y_data and coinvert to Hz based on binwidth\n",
    "            y_data = trace.getData()[0] / binwidthSI\n",
    "            \n",
    "            # update plotrange\n",
    "            ymax = np.max(y_data)\n",
    "            if ymax > currentMax:\n",
    "                currentMax = 1.2 * ymax\n",
    "                fig_trace.update_layout(yaxis=dict(range=[0, ymax]))\n",
    "\n",
    "            fig_trace.data[i].y = y_data\n",
    "        \n",
    "        await asyncio.sleep(0.05)\n",
    "\n",
    "async def update_trace():\n",
    "    currentMax = 0\n",
    "    while True:\n",
    "        # Batch updates for all traces\n",
    "        with fig_trace.batch_update():\n",
    "            for i, trace in enumerate(traces):\n",
    "                y_data = trace.getData()[0] / binwidthSI\n",
    "\n",
    "                ymax = np.max(y_data)\n",
    "                if ymax > currentMax:\n",
    "                    currentMax = 1 * ymax\n",
    "                    fig_trace.update_layout(yaxis=dict(range=[0, ymax]))\n",
    "\n",
    "                fig_trace.data[i].y = y_data\n",
    "\n",
    "        await asyncio.sleep(0.05)  # Adjust update interval as needed\n",
    "\n",
    "try:\n",
    "    task_trace.cancel()\n",
    "except:\n",
    "    pass\n",
    "loop = asyncio.get_event_loop()\n",
    "task_trace = loop.create_task(update_trace())\n",
    "\n",
    "button_trace = Button(description=\"stop\")\n",
    "button_trace.on_click(lambda a: task_trace.cancel())\n",
    "\n",
    "display(fig_trace, button_trace)"
   ]
  },
  {
   "cell_type": "code",
   "execution_count": null,
   "metadata": {},
   "outputs": [],
   "source": []
  }
 ],
 "metadata": {
  "kernelspec": {
   "display_name": "Python 3",
   "language": "python",
   "name": "python3"
  },
  "language_info": {
   "codemirror_mode": {
    "name": "ipython",
    "version": 3
   },
   "file_extension": ".py",
   "mimetype": "text/x-python",
   "name": "python",
   "nbconvert_exporter": "python",
   "pygments_lexer": "ipython3",
   "version": "3.10.11"
  }
 },
 "nbformat": 4,
 "nbformat_minor": 2
}
