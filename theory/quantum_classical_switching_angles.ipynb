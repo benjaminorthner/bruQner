{
 "cells": [
  {
   "cell_type": "code",
   "execution_count": 1,
   "metadata": {},
   "outputs": [],
   "source": [
    "import sys\n",
    "sys.path.insert(0, '../')\n",
    "\n",
    "from numpy import pi\n",
    "from src.time_tagger import TimeTaggerController, TT_Simulator, two_particle_states\n",
    "from src.kinetic_mount_controller import KineticMountControl\n",
    "from src.osc import OSCCommunicator, OSCTarget\n",
    "import time\n",
    "import threading\n",
    "import random\n"
   ]
  },
  {
   "cell_type": "code",
   "execution_count": 2,
   "metadata": {},
   "outputs": [
    {
     "name": "stdout",
     "output_type": "stream",
     "text": [
      "\n",
      "TIME-TAGGER SIMULATOR\n",
      "---------------------------------------------------------------\n",
      "Initialising . . .\n",
      "Matrix([[1/2, 0, 0, 1/2], [0, 0, 0, 0], [0, 0, 0, 0], [1/2, 0, 0, 1/2]])\n",
      "1\n",
      "Matrix([[cos(theta_a - theta_b)**2/2], [sin(theta_a - theta_b)**2/2], [sin(theta_a - theta_b)**2/2], [cos(theta_a - theta_b)**2/2]])\n",
      "cos(2*theta_a - 2*theta_b)\n",
      "Matrix([[cos(theta_a - theta_b)**2/2], [sin(theta_a - theta_b)**2/2], [sin(theta_a - theta_b)**2/2], [cos(theta_a - theta_b)**2/2]])\n",
      "cos(2*theta_a - 2*theta_b)\n",
      "\u001b[F\u001b[K\n",
      "For the initial state:\n",
      "Matrix([[sqrt(2)/2], [0], [0], [sqrt(2)/2]])\n",
      "\n",
      "The correlation function has the form:\n",
      "cos(2*theta_a - 2*theta_b)\n",
      "\n",
      "We find the following optimal CHSH angles (in multiples of pi):\n",
      "a0:\t0.0000, a1:\t-0.2500\n",
      "b0:\t-0.1250, b1:\t0.1250\n",
      "\n",
      "And measurements taken at this angle will produce as CHSH value S of\n",
      "S = 2.8284 ( 100% of S_bell )\n",
      "\n",
      "---------------------------------------------------------------\n"
     ]
    }
   ],
   "source": [
    "SimulatorPhiPlus = TT_Simulator(two_particle_states['phi_plus'], initial_state_noise_q=0, initial_state_noise_vis=1, debug=True)\n",
    "#SimulatorPhiMinus = TT_Simulator(two_particle_states['phi_minus'], initial_state_noise=0.00, debug=True)\n",
    "#TTC.measureS(CHSH_angles=idealAngles, integration_time_per_basis_setting_SI=1, TTSimulator=SimulatorPhiPlus, coincidence_window_SI=0.5e-9)"
   ]
  },
  {
   "cell_type": "code",
   "execution_count": 3,
   "metadata": {},
   "outputs": [
    {
     "data": {
      "text/plain": [
       "array([1, 0, 0, 0])"
      ]
     },
     "execution_count": 3,
     "metadata": {},
     "output_type": "execute_result"
    }
   ],
   "source": [
    "SimulatorPhiPlus.measure_n_entangled_pairs(1, 0, 0)"
   ]
  },
  {
   "cell_type": "code",
   "execution_count": 92,
   "metadata": {},
   "outputs": [
    {
     "name": "stdout",
     "output_type": "stream",
     "text": [
      "S(johannes_ideal_angles)       =  2.33653\n",
      "\tC(a0, b0) = 0.584    ██████████████████████████▍                  \n",
      "\tC(a0, b1) = 0.584    ██████████████████████████▍                  \n",
      "\tC(a1, b0) = 0.584    ██████████████████████████▍                  \n",
      "\tC(a1, b1) = -0.584   ██████████████████████████▍                  \n",
      "\n",
      "S(johannes_classical_angles)   = -1.65217\n",
      "\tC(a0, b0) = -0.826   █████████████████████████████████████▎       \n",
      "\tC(a0, b1) = -0.000   ▏                                            \n",
      "\tC(a1, b0) = -0.000   ▏                                            \n",
      "\tC(a1, b1) = 0.826    █████████████████████████████████████▎       \n",
      "\n",
      "S(johannes_classical_angles_1_7) =  1.65217\n",
      "\tC(a0, b0) = 0.826    █████████████████████████████████████▎       \n",
      "\tC(a0, b1) = 0.826    █████████████████████████████████████▎       \n",
      "\tC(a1, b0) = 0.826    █████████████████████████████████████▎       \n",
      "\tC(a1, b1) = 0.826    █████████████████████████████████████▎       \n",
      "\n",
      "S(other1)                      = -0.00000\n",
      "\tC(a0, b0) = -0.000   ▏                                            \n",
      "\tC(a0, b1) = -0.826   █████████████████████████████████████▎       \n",
      "\tC(a1, b0) = -0.000   ▏                                            \n",
      "\tC(a1, b1) = -0.826   █████████████████████████████████████▎       \n",
      "\n",
      "S(other2)                      =  0.73104\n",
      "\tC(a0, b0) = 0.362    ████████████████▍                            \n",
      "\tC(a0, b1) = 0.388    █████████████████▌                           \n",
      "\tC(a1, b0) = 0.614    ███████████████████████████▋                 \n",
      "\tC(a1, b1) = 0.633    ████████████████████████████▌                \n",
      "\n"
     ]
    }
   ],
   "source": [
    "johannes_ideal_angles = [0, -45/2, -22.5/2, 22.5/2] # because johannes used polarization angles i divide by 2 here\n",
    "johannes_classical_angles = [0, 45/2, 90/2, 45/2] # because johannes used polarization angles i divide by 2 here\n",
    "johannes_classical_angles_1_7 = [0, 180/2, 360/2, 180/2] # because johannes used polarization angles i divide by 2 here\n",
    "other1 = [0, 180/2, 45/2, 90/2]\n",
    "other2 = [0, 11/2, 32/2, 31/2]\n",
    "\n",
    "names = [\"johannes_ideal_angles\", \"johannes_classical_angles\", \"johannes_classical_angles_1_7\", \"other1\", \"other2\"]\n",
    "\n",
    "for name, angle_set in zip(names, [johannes_ideal_angles, johannes_classical_angles, johannes_classical_angles_1_7, other1, other2]):\n",
    "    \n",
    "    S = SimulatorPhiPlus.S_for_fixed_angles(*angle_set, angle_mode='degrees', angle_reference='filter', return_absolute=False)\n",
    "    print(f\"{f'S({name})':<{30}} = {S:>8.5f}\")\n",
    "\n",
    "    C = SimulatorPhiPlus.correlation_function_lambdified\n",
    "    for i in [0,1]:\n",
    "        for j in [2,3]:\n",
    "            conversion = 2 * pi/180\n",
    "            a = angle_set[i] * conversion\n",
    "            b = angle_set[j] * conversion\n",
    "            corr = C(a, b)\n",
    "            bar = SimulatorPhiPlus.render_bar(abs(corr))\n",
    "            print(f\"\\t{f'C(a{i}, b{j-2}) = {corr:.3f}':<{20}} {bar}\")\n",
    "    print()"
   ]
  },
  {
   "cell_type": "code",
   "execution_count": 23,
   "metadata": {},
   "outputs": [],
   "source": [
    "#SimulatorPhiPlus.correlation_function_lambdified(johannes_ideal_angles[0], johannes_ideal_angles[2]*2 * c/180)\n",
    "#SimulatorPhiPlus.correlation_function_lambdified(johannes_ideal_angles[1], johannes_ideal_angles[2]*2 * c/180)\n",
    "#SimulatorPhiPlus.correlation_function_lambdified(johannes_ideal_angles[0], johannes_ideal_angles[3]*2 * c/180)\n",
    "#SimulatorPhiPlus.correlation_function_lambdified(johannes_ideal_angles[1], johannes_ideal_angles[3]*2 * c/180)"
   ]
  }
 ],
 "metadata": {
  "kernelspec": {
   "display_name": "Python 3",
   "language": "python",
   "name": "python3"
  },
  "language_info": {
   "codemirror_mode": {
    "name": "ipython",
    "version": 3
   },
   "file_extension": ".py",
   "mimetype": "text/x-python",
   "name": "python",
   "nbconvert_exporter": "python",
   "pygments_lexer": "ipython3",
   "version": "3.11.9"
  }
 },
 "nbformat": 4,
 "nbformat_minor": 2
}
