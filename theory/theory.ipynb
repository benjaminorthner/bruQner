{
 "cells": [
  {
   "cell_type": "code",
   "execution_count": 113,
   "metadata": {},
   "outputs": [
    {
     "data": {
      "text/latex": [
       "$\\displaystyle \\left[\\begin{matrix}\\frac{\\sqrt{2} \\sin{\\left(2 \\theta_{1} \\right)} \\sin{\\left(2 \\theta_{2} \\right)}}{2} + \\frac{\\sqrt{2} \\cos{\\left(2 \\theta_{1} \\right)} \\cos{\\left(2 \\theta_{2} \\right)}}{2}\\\\- \\frac{\\sqrt{2} \\sin{\\left(2 \\theta_{1} \\right)} \\cos{\\left(2 \\theta_{2} \\right)}}{2} + \\frac{\\sqrt{2} \\sin{\\left(2 \\theta_{2} \\right)} \\cos{\\left(2 \\theta_{1} \\right)}}{2}\\\\\\frac{\\sqrt{2} \\sin{\\left(2 \\theta_{1} \\right)} \\cos{\\left(2 \\theta_{2} \\right)}}{2} - \\frac{\\sqrt{2} \\sin{\\left(2 \\theta_{2} \\right)} \\cos{\\left(2 \\theta_{1} \\right)}}{2}\\\\\\frac{\\sqrt{2} \\sin{\\left(2 \\theta_{1} \\right)} \\sin{\\left(2 \\theta_{2} \\right)}}{2} + \\frac{\\sqrt{2} \\cos{\\left(2 \\theta_{1} \\right)} \\cos{\\left(2 \\theta_{2} \\right)}}{2}\\end{matrix}\\right]$"
      ],
      "text/plain": [
       "Matrix([\n",
       "[ sqrt(2)*sin(2*theta_1)*sin(2*theta_2)/2 + sqrt(2)*cos(2*theta_1)*cos(2*theta_2)/2],\n",
       "[-sqrt(2)*sin(2*theta_1)*cos(2*theta_2)/2 + sqrt(2)*sin(2*theta_2)*cos(2*theta_1)/2],\n",
       "[ sqrt(2)*sin(2*theta_1)*cos(2*theta_2)/2 - sqrt(2)*sin(2*theta_2)*cos(2*theta_1)/2],\n",
       "[ sqrt(2)*sin(2*theta_1)*sin(2*theta_2)/2 + sqrt(2)*cos(2*theta_1)*cos(2*theta_2)/2]])"
      ]
     },
     "execution_count": 113,
     "metadata": {},
     "output_type": "execute_result"
    }
   ],
   "source": [
    "import sympy as sp\n",
    "from sympy.physics.quantum import TensorProduct\n",
    "\n",
    "def half_wave_plate_sympy(theta):\n",
    "    c = sp.cos(2 * theta)\n",
    "    s = sp.sin(2 * theta)\n",
    "    HWP_matrix = sp.Matrix([[c, s], [s, -c]])\n",
    "    return HWP_matrix\n",
    "\n",
    "# Define theta as a symbolic variable and create operator\n",
    "theta_1, theta_2 = sp.symbols('theta_1 theta_2')\n",
    "HWP_operator_1 = half_wave_plate_sympy(theta_1)\n",
    "HWP_operator_2 = half_wave_plate_sympy(theta_2)\n",
    "\n",
    "# Define horizontal and vertical polarization states\n",
    "H = sp.Matrix([1, 0])\n",
    "V = sp.Matrix([0, 1])\n",
    "\n",
    "# Bell state (vector)\n",
    "Phi_plus = (TensorProduct(H, H) + TensorProduct(V, V)) / sp.sqrt(2)\n",
    "\n",
    "\n",
    "# Apply HWP to the first qubit of the entangled state\n",
    "full_operator = TensorProduct(HWP_operator_1, HWP_operator_2)\n",
    "after_HWP_state = full_operator * Phi_plus\n",
    "after_HWP_state\n"
   ]
  },
  {
   "cell_type": "code",
   "execution_count": 121,
   "metadata": {},
   "outputs": [
    {
     "data": {
      "text/latex": [
       "$\\displaystyle \\left[\\begin{matrix}\\frac{1}{2}\\end{matrix}\\right]$"
      ],
      "text/plain": [
       "Matrix([[1/2]])"
      ]
     },
     "execution_count": 121,
     "metadata": {},
     "output_type": "execute_result"
    }
   ],
   "source": [
    "# Beam cube implementation:\n",
    "\n",
    "# Define the projection operator for vertically & horizontally polarized light\n",
    "P_V = V * V.T  # |V><V| projection operator\n",
    "P_H = H * H.T  # |H><H| projection operator\n",
    "\n",
    "# Projects into each combination of 2 output ports from either beam line\n",
    "VH_operator = TensorProduct(P_V, P_H)\n",
    "VV_operator = TensorProduct(P_V, P_V)\n",
    "HH_operator = TensorProduct(P_H, P_H)\n",
    "HV_operator = TensorProduct(P_H, P_V)\n",
    "\n",
    "after_HWP_state.subs({theta_1: 0, theta_2: 0})\n",
    "\n",
    "# Probability of getting coincidence in HV port\n",
    "(after_HWP_state.T * HV_operator * after_HWP_state).subs({theta_1:sp.pi/4, theta_2:0})"
   ]
  },
  {
   "cell_type": "code",
   "execution_count": null,
   "metadata": {},
   "outputs": [],
   "source": []
  }
 ],
 "metadata": {
  "kernelspec": {
   "display_name": "Python 3",
   "language": "python",
   "name": "python3"
  },
  "language_info": {
   "codemirror_mode": {
    "name": "ipython",
    "version": 3
   },
   "file_extension": ".py",
   "mimetype": "text/x-python",
   "name": "python",
   "nbconvert_exporter": "python",
   "pygments_lexer": "ipython3",
   "version": "3.10.11"
  }
 },
 "nbformat": 4,
 "nbformat_minor": 2
}
