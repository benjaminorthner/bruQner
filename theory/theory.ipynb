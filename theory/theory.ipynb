{
 "cells": [
  {
   "cell_type": "code",
   "execution_count": 17,
   "metadata": {},
   "outputs": [
    {
     "data": {
      "text/latex": [
       "$\\displaystyle \\left[\\begin{matrix}\\frac{\\sqrt{2}}{2}\\\\0\\\\0\\\\\\frac{\\sqrt{2}}{2}\\end{matrix}\\right]$"
      ],
      "text/plain": [
       "Matrix([\n",
       "[sqrt(2)/2],\n",
       "[        0],\n",
       "[        0],\n",
       "[sqrt(2)/2]])"
      ]
     },
     "execution_count": 17,
     "metadata": {},
     "output_type": "execute_result"
    }
   ],
   "source": [
    "import sympy as sp\n",
    "from sympy.physics.quantum import TensorProduct, Dagger\n",
    "from sympy.physics.quantum.trace import Tr\n",
    "\n",
    "def half_wave_plate_sympy(theta):\n",
    "    c = sp.cos(2 * theta)\n",
    "    s = sp.sin(2 * theta)\n",
    "    HWP_matrix = sp.Matrix([[c, s], [s, -c]])\n",
    "    return HWP_matrix\n",
    "\n",
    "# Define theta as a symbolic variable and create operator\n",
    "theta_1, theta_2 = sp.symbols('theta_1 theta_2', real=True)\n",
    "HWP_operator_1 = half_wave_plate_sympy(theta_1)\n",
    "HWP_operator_2 = half_wave_plate_sympy(theta_2)\n",
    "\n",
    "# Define horizontal and vertical polarization states\n",
    "H = sp.Matrix([1, 0])\n",
    "V = sp.Matrix([0, 1])\n",
    "\n",
    "# Bell state (vector)\n",
    "Phi_plus = (TensorProduct(H, H) + TensorProduct(V, V)) / sp.sqrt(2)\n",
    "Phi_minus = (TensorProduct(H, H) - TensorProduct(V, V)) / sp.sqrt(2)\n",
    "Psi_plus = (TensorProduct(H, V) + TensorProduct(V, H)) / sp.sqrt(2)\n",
    "Psi_minus = (TensorProduct(H, V) - TensorProduct(V, H)) / sp.sqrt(2)\n",
    "\n",
    "\n",
    "# Apply HWP to the first qubit of the entangled state\n",
    "HWP_total_operator = TensorProduct(HWP_operator_1, HWP_operator_2)\n",
    "after_HWP_state = HWP_total_operator * Phi_plus\n",
    "after_HWP_state.subs({theta_1: 0, theta_2: 0})\n"
   ]
  },
  {
   "cell_type": "code",
   "execution_count": 11,
   "metadata": {},
   "outputs": [
    {
     "data": {
      "text/latex": [
       "$\\displaystyle 0$"
      ],
      "text/plain": [
       "0"
      ]
     },
     "execution_count": 11,
     "metadata": {},
     "output_type": "execute_result"
    }
   ],
   "source": [
    "# Beam cube implementation:\n",
    "\n",
    "# Define the projection operator for vertically & horizontally polarized light\n",
    "P_V = V * V.T  # |V><V| projection operator\n",
    "P_H = H * H.T  # |H><H| projection operator\n",
    "\n",
    "# Projects into each combination of 2 output ports from either beam line\n",
    "VH_operator = TensorProduct(P_V, P_H)\n",
    "VV_operator = TensorProduct(P_V, P_V)\n",
    "HH_operator = TensorProduct(P_H, P_H)\n",
    "HV_operator = TensorProduct(P_H, P_V)\n",
    "\n",
    "after_HWP_state.subs({theta_1: 0, theta_2: 0})\n",
    "\n",
    "# Probability of getting coincidence in HV port\n",
    "(after_HWP_state.T * HV_operator * after_HWP_state).subs({theta_1:sp.pi/4, theta_2:0})[0]"
   ]
  },
  {
   "cell_type": "markdown",
   "metadata": {},
   "source": [
    "### Density Matrix Formalism"
   ]
  },
  {
   "cell_type": "code",
   "execution_count": 12,
   "metadata": {},
   "outputs": [
    {
     "data": {
      "text/latex": [
       "$\\displaystyle \\frac{1}{2}$"
      ],
      "text/plain": [
       "1/2"
      ]
     },
     "execution_count": 12,
     "metadata": {},
     "output_type": "execute_result"
    }
   ],
   "source": [
    "rho_phi_plus = TensorProduct(Phi_plus, Dagger(Phi_plus))\n",
    "\n",
    "rho_after_HWP = HWP_total_operator * rho_phi_plus * Dagger(HWP_total_operator)\n",
    "\n",
    "probability_HV = (Dagger(TensorProduct(H,V)) * rho_after_HWP * TensorProduct(H,V))[0]\n",
    "probability_HV.subs({theta_1:sp.pi/4, theta_2:0})"
   ]
  },
  {
   "cell_type": "markdown",
   "metadata": {},
   "source": [
    "### Reduced density matrices (for either Alice or Bob)"
   ]
  },
  {
   "cell_type": "code",
   "execution_count": 16,
   "metadata": {},
   "outputs": [
    {
     "name": "stdout",
     "output_type": "stream",
     "text": [
      "Alice: 1/2\n",
      "Bob: 1/2\n"
     ]
    }
   ],
   "source": [
    "def partial_trace(rho, trace_out, basis0, basis1):\n",
    "\n",
    "    if trace_out == 0:\n",
    "        operator_B0 = TensorProduct(sp.eye(2), basis0)\n",
    "        operator_B1 = TensorProduct(sp.eye(2), basis1)\n",
    "    elif trace_out == 1:\n",
    "        operator_B0 = TensorProduct(basis0, sp.eye(2))\n",
    "        operator_B1 = TensorProduct(basis1, sp.eye(2))\n",
    "\n",
    "    return Dagger(operator_B0) * rho * operator_B0 + Dagger(operator_B1) * rho * operator_B1 \n",
    "\n",
    "rho_Alice_after_HWP = partial_trace(rho_after_HWP, trace_out=1, basis0=H, basis1=V)\n",
    "rho_Bob_after_HWP = partial_trace(rho_after_HWP, trace_out=0, basis0=H, basis1=V)\n",
    "\n",
    "# probability alice measures H\n",
    "p_H_Alice = (Dagger(H) * rho_Alice_after_HWP * H)\n",
    "p_H_Bob = (Dagger(H) * rho_Alice_after_HWP * H)\n",
    "\n",
    "rA = sp.simplify(p_H_Alice)[0,0]\n",
    "rB = sp.simplify(p_H_Bob)[0,0]\n",
    "\n",
    "print(f\"Alice: {rA}\")\n",
    "print(f\"Bob: {rB}\") "
   ]
  },
  {
   "cell_type": "markdown",
   "metadata": {},
   "source": [
    "so we see that alice and bob always have a 50/50 chance of measuring H or V no matter what setting the HWP are set to"
   ]
  }
 ],
 "metadata": {
  "kernelspec": {
   "display_name": "Python 3",
   "language": "python",
   "name": "python3"
  },
  "language_info": {
   "codemirror_mode": {
    "name": "ipython",
    "version": 3
   },
   "file_extension": ".py",
   "mimetype": "text/x-python",
   "name": "python",
   "nbconvert_exporter": "python",
   "pygments_lexer": "ipython3",
   "version": "3.10.11"
  }
 },
 "nbformat": 4,
 "nbformat_minor": 2
}
