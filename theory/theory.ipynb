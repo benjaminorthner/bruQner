{
 "cells": [
  {
   "cell_type": "code",
   "execution_count": 459,
   "metadata": {},
   "outputs": [
    {
     "data": {
      "text/latex": [
       "$\\displaystyle \\left[\\begin{matrix}\\cos{\\left(2 \\theta_{1} \\right)} \\cos{\\left(2 \\theta_{2} \\right)} & \\sin{\\left(2 \\theta_{2} \\right)} \\cos{\\left(2 \\theta_{1} \\right)} & \\sin{\\left(2 \\theta_{1} \\right)} \\cos{\\left(2 \\theta_{2} \\right)} & \\sin{\\left(2 \\theta_{1} \\right)} \\sin{\\left(2 \\theta_{2} \\right)}\\\\\\sin{\\left(2 \\theta_{2} \\right)} \\cos{\\left(2 \\theta_{1} \\right)} & - \\cos{\\left(2 \\theta_{1} \\right)} \\cos{\\left(2 \\theta_{2} \\right)} & \\sin{\\left(2 \\theta_{1} \\right)} \\sin{\\left(2 \\theta_{2} \\right)} & - \\sin{\\left(2 \\theta_{1} \\right)} \\cos{\\left(2 \\theta_{2} \\right)}\\\\\\sin{\\left(2 \\theta_{1} \\right)} \\cos{\\left(2 \\theta_{2} \\right)} & \\sin{\\left(2 \\theta_{1} \\right)} \\sin{\\left(2 \\theta_{2} \\right)} & - \\cos{\\left(2 \\theta_{1} \\right)} \\cos{\\left(2 \\theta_{2} \\right)} & - \\sin{\\left(2 \\theta_{2} \\right)} \\cos{\\left(2 \\theta_{1} \\right)}\\\\\\sin{\\left(2 \\theta_{1} \\right)} \\sin{\\left(2 \\theta_{2} \\right)} & - \\sin{\\left(2 \\theta_{1} \\right)} \\cos{\\left(2 \\theta_{2} \\right)} & - \\sin{\\left(2 \\theta_{2} \\right)} \\cos{\\left(2 \\theta_{1} \\right)} & \\cos{\\left(2 \\theta_{1} \\right)} \\cos{\\left(2 \\theta_{2} \\right)}\\end{matrix}\\right]$"
      ],
      "text/plain": [
       "Matrix([\n",
       "[cos(2*theta_1)*cos(2*theta_2),  sin(2*theta_2)*cos(2*theta_1),  sin(2*theta_1)*cos(2*theta_2),  sin(2*theta_1)*sin(2*theta_2)],\n",
       "[sin(2*theta_2)*cos(2*theta_1), -cos(2*theta_1)*cos(2*theta_2),  sin(2*theta_1)*sin(2*theta_2), -sin(2*theta_1)*cos(2*theta_2)],\n",
       "[sin(2*theta_1)*cos(2*theta_2),  sin(2*theta_1)*sin(2*theta_2), -cos(2*theta_1)*cos(2*theta_2), -sin(2*theta_2)*cos(2*theta_1)],\n",
       "[sin(2*theta_1)*sin(2*theta_2), -sin(2*theta_1)*cos(2*theta_2), -sin(2*theta_2)*cos(2*theta_1),  cos(2*theta_1)*cos(2*theta_2)]])"
      ]
     },
     "execution_count": 459,
     "metadata": {},
     "output_type": "execute_result"
    }
   ],
   "source": [
    "import sympy as sp\n",
    "from sympy.physics.quantum import TensorProduct, Dagger\n",
    "from sympy.physics.quantum.trace import Tr\n",
    "import random\n",
    "import numpy as np\n",
    "\n",
    "def half_wave_plate_sympy(theta):\n",
    "    c = sp.cos(2 * theta)\n",
    "    s = sp.sin(2 * theta)\n",
    "    HWP_matrix = sp.Matrix([[c, s], [s, -c]])\n",
    "    return HWP_matrix\n",
    "\n",
    "# Define theta as a symbolic variable and create operator\n",
    "theta_1, theta_2, Lambda = sp.symbols('theta_1 theta_2 lambda', real=True)\n",
    "HWP_operator_1 = half_wave_plate_sympy(theta_1)\n",
    "HWP_operator_2 = half_wave_plate_sympy(theta_2)\n",
    "\n",
    "#polariser_operator = TensorProduct(sp.Matrix([[1, 0],[0, 0]]), sp.eye(2))\n",
    "\n",
    "# Define horizontal and vertical polarization states\n",
    "H = sp.Matrix([1, 0])\n",
    "V = sp.Matrix([0, 1])\n",
    "\n",
    "# Bell state (vector)\n",
    "Phi_plus = (TensorProduct(H, H) + TensorProduct(V, V)) / sp.sqrt(2)\n",
    "Phi_minus = (TensorProduct(H, H) - TensorProduct(V, V)) / sp.sqrt(2)\n",
    "Psi_plus = (TensorProduct(H, V) + TensorProduct(V, H)) / sp.sqrt(2)\n",
    "Psi_minus = (TensorProduct(H, V) - TensorProduct(V, H)) / sp.sqrt(2)\n",
    "\n",
    "Phi_mixed = (TensorProduct(H, H) + sp.exp(Lambda *sp.I) * TensorProduct(V, V)) / sp.sqrt(2)\n",
    "\n",
    "\n",
    "# Apply HWP to the first qubit of the entangled state\n",
    "HWP_total_operator = TensorProduct(HWP_operator_1, HWP_operator_2)\n",
    "after_HWP_state = HWP_total_operator * Phi_plus\n",
    "sp.simplify(after_HWP_state).subs({theta_1: 0, theta_2: 0})\n",
    "HWP_total_operator\n"
   ]
  },
  {
   "cell_type": "code",
   "execution_count": 447,
   "metadata": {},
   "outputs": [
    {
     "data": {
      "text/latex": [
       "$\\displaystyle \\frac{1}{2}$"
      ],
      "text/plain": [
       "1/2"
      ]
     },
     "execution_count": 447,
     "metadata": {},
     "output_type": "execute_result"
    }
   ],
   "source": [
    "# Beam cube implementation:\n",
    "\n",
    "# Define the projection operator for vertically & horizontally polarized light\n",
    "P_V = V * Dagger(V)  # |V><V| projection operator\n",
    "P_H = H * Dagger(H)  # |H><H| projection operator\n",
    "\n",
    "# Projects into each combination of 2 output ports from either beam line\n",
    "VH_operator = TensorProduct(P_V, P_H)\n",
    "VV_operator = TensorProduct(P_V, P_V)\n",
    "HH_operator = TensorProduct(P_H, P_H)\n",
    "HV_operator = TensorProduct(P_H, P_V)\n",
    "\n",
    "after_HWP_state.subs({theta_1: 0, theta_2: 0})\n",
    "\n",
    "# Probability of getting coincidence in HV port\n",
    "(after_HWP_state.T * HV_operator * after_HWP_state).subs({theta_1:sp.pi/4, theta_2:0})[0]"
   ]
  },
  {
   "cell_type": "markdown",
   "metadata": {},
   "source": [
    "### Density Matrix Formalism"
   ]
  },
  {
   "cell_type": "code",
   "execution_count": 554,
   "metadata": {},
   "outputs": [],
   "source": [
    "rho_phi_plus = TensorProduct(Phi_plus, Dagger(Phi_plus))\n",
    "rho_phi_minus = TensorProduct(Phi_minus, Dagger(Phi_minus))\n",
    "rho_psi_plus = TensorProduct(Psi_plus, Dagger(Psi_plus))\n",
    "rho_psi_minus = TensorProduct(Psi_minus, Dagger(Psi_minus))\n",
    "\n",
    "rho_phi_mixed = TensorProduct(Phi_mixed, Dagger(Phi_mixed))\n",
    "\n",
    "mixed_state = 0.5*TensorProduct(TensorProduct(H, H), Dagger(TensorProduct(H,H))) + 0.5*TensorProduct(TensorProduct(V, V), Dagger(TensorProduct(V,V)))\n",
    "\n",
    "rho_after_HWP = sp.simplify(HWP_total_operator * rho_phi_mixed * Dagger(HWP_total_operator))\n",
    "\n",
    "#probability_HV = (Dagger(TensorProduct(H,V)) * rho_after_HWP * TensorProduct(H,V))[0]\n",
    "#probability_HV.subs({theta_1:sp.pi/4, theta_2:0})"
   ]
  },
  {
   "cell_type": "markdown",
   "metadata": {},
   "source": [
    "### Reduced density matrices (for either Alice or Bob)"
   ]
  },
  {
   "cell_type": "code",
   "execution_count": 555,
   "metadata": {},
   "outputs": [
    {
     "name": "stdout",
     "output_type": "stream",
     "text": [
      "Alice: 1/2\n",
      "Bob: 1/2\n"
     ]
    }
   ],
   "source": [
    "def partial_trace(rho, trace_out, basis0, basis1):\n",
    "\n",
    "    if trace_out == 0:\n",
    "        operator_B0 = TensorProduct(sp.eye(2), basis0)\n",
    "        operator_B1 = TensorProduct(sp.eye(2), basis1)\n",
    "    elif trace_out == 1:\n",
    "        operator_B0 = TensorProduct(basis0, sp.eye(2))\n",
    "        operator_B1 = TensorProduct(basis1, sp.eye(2))\n",
    "\n",
    "    return Dagger(operator_B0) * rho * operator_B0 + Dagger(operator_B1) * rho * operator_B1 \n",
    "\n",
    "rho_Alice_after_HWP = partial_trace(rho_after_HWP, trace_out=1, basis0=H, basis1=V)\n",
    "rho_Bob_after_HWP = partial_trace(rho_after_HWP, trace_out=0, basis0=H, basis1=V)\n",
    "\n",
    "# probability alice measures H\n",
    "p_H_Alice = Tr(rho_Alice_after_HWP * P_H)\n",
    "p_H_Bob = Tr(rho_Bob_after_HWP * P_H)\n",
    "\n",
    "rA = sp.simplify(p_H_Alice)\n",
    "rB = sp.simplify(p_H_Bob)\n",
    "\n",
    "print(f\"Alice: {rA}\")\n",
    "print(f\"Bob: {rB}\") "
   ]
  },
  {
   "cell_type": "code",
   "execution_count": 556,
   "metadata": {},
   "outputs": [
    {
     "data": {
      "text/latex": [
       "$\\displaystyle \\left[\\begin{matrix}\\frac{1}{2} & 0\\\\0 & \\frac{1}{2}\\end{matrix}\\right]$"
      ],
      "text/plain": [
       "Matrix([\n",
       "[1/2,   0],\n",
       "[  0, 1/2]])"
      ]
     },
     "execution_count": 556,
     "metadata": {},
     "output_type": "execute_result"
    }
   ],
   "source": [
    "sp.simplify(partial_trace(rho_after_HWP, trace_out=1, basis0=H, basis1=V))"
   ]
  },
  {
   "cell_type": "markdown",
   "metadata": {},
   "source": [
    "so we see that alice and bob always have a 50/50 chance of measuring H or V no matter what setting the HWP are set to"
   ]
  },
  {
   "cell_type": "code",
   "execution_count": 557,
   "metadata": {},
   "outputs": [
    {
     "data": {
      "text/latex": [
       "$\\displaystyle \\frac{\\left(- e^{2 i \\lambda} \\cos{\\left(4 \\theta_{1} - 4 \\theta_{2} \\right)} + e^{2 i \\lambda} \\cos{\\left(4 \\theta_{1} + 4 \\theta_{2} \\right)} - 2 e^{i \\lambda} \\cos{\\left(4 \\theta_{1} - 4 \\theta_{2} \\right)} - 2 e^{i \\lambda} \\cos{\\left(4 \\theta_{1} + 4 \\theta_{2} \\right)} + 4 e^{i \\lambda} - \\cos{\\left(4 \\theta_{1} - 4 \\theta_{2} \\right)} + \\cos{\\left(4 \\theta_{1} + 4 \\theta_{2} \\right)}\\right) e^{- i \\lambda}}{8}$"
      ],
      "text/plain": [
       "(-exp(2*I*lambda)*cos(4*theta_1 - 4*theta_2) + exp(2*I*lambda)*cos(4*theta_1 + 4*theta_2) - 2*exp(I*lambda)*cos(4*theta_1 - 4*theta_2) - 2*exp(I*lambda)*cos(4*theta_1 + 4*theta_2) + 4*exp(I*lambda) - cos(4*theta_1 - 4*theta_2) + cos(4*theta_1 + 4*theta_2))*exp(-I*lambda)/8"
      ]
     },
     "execution_count": 557,
     "metadata": {},
     "output_type": "execute_result"
    }
   ],
   "source": [
    "# chance of measuring HV or VH\n",
    "Tr(rho_after_HWP * HV_operator) + Tr(rho_after_HWP*VH_operator)"
   ]
  },
  {
   "cell_type": "markdown",
   "metadata": {},
   "source": [
    "Thus as long as\n",
    "$$\n",
    "\\theta_1 - \\theta_2 = k \\frac{\\pi}{4}\n",
    "$$\n",
    "We will only be producing HV and VH states\n",
    "BUT... this is useless because we can not have the two coupled, since assuming they are infinitely far apart they can not communicate this"
   ]
  },
  {
   "cell_type": "code",
   "execution_count": 558,
   "metadata": {},
   "outputs": [
    {
     "data": {
      "text/latex": [
       "$\\displaystyle \\left[\\begin{matrix}\\frac{\\left(- 4 e^{i \\lambda} \\cos{\\left(4 \\theta_{2} \\right)} + 4 e^{i \\lambda}\\right) e^{- i \\lambda}}{16} + \\frac{\\left(4 e^{i \\lambda} \\cos{\\left(4 \\theta_{2} \\right)} + 4 e^{i \\lambda}\\right) e^{- i \\lambda}}{16} & 0\\\\0 & \\frac{\\left(- 4 e^{i \\lambda} \\cos{\\left(4 \\theta_{2} \\right)} + 4 e^{i \\lambda}\\right) e^{- i \\lambda}}{16} + \\frac{\\left(4 e^{i \\lambda} \\cos{\\left(4 \\theta_{2} \\right)} + 4 e^{i \\lambda}\\right) e^{- i \\lambda}}{16}\\end{matrix}\\right]$"
      ],
      "text/plain": [
       "Matrix([\n",
       "[(-4*exp(I*lambda)*cos(4*theta_2) + 4*exp(I*lambda))*exp(-I*lambda)/16 + (4*exp(I*lambda)*cos(4*theta_2) + 4*exp(I*lambda))*exp(-I*lambda)/16,                                                                                                                                            0],\n",
       "[                                                                                                                                           0, (-4*exp(I*lambda)*cos(4*theta_2) + 4*exp(I*lambda))*exp(-I*lambda)/16 + (4*exp(I*lambda)*cos(4*theta_2) + 4*exp(I*lambda))*exp(-I*lambda)/16]])"
      ]
     },
     "execution_count": 558,
     "metadata": {},
     "output_type": "execute_result"
    }
   ],
   "source": [
    "partial_trace(rho_after_HWP.subs({theta_1:0}), trace_out=1, basis0=H, basis1=V)"
   ]
  },
  {
   "cell_type": "code",
   "execution_count": 559,
   "metadata": {},
   "outputs": [
    {
     "ename": "NameError",
     "evalue": "name 'lambda_' is not defined",
     "output_type": "error",
     "traceback": [
      "\u001b[1;31m---------------------------------------------------------------------------\u001b[0m",
      "\u001b[1;31mNameError\u001b[0m                                 Traceback (most recent call last)",
      "Cell \u001b[1;32mIn[559], line 17\u001b[0m\n\u001b[0;32m     15\u001b[0m N \u001b[38;5;241m=\u001b[39m np\u001b[38;5;241m.\u001b[39marray([\u001b[38;5;241m0\u001b[39m, \u001b[38;5;241m0\u001b[39m, \u001b[38;5;241m0\u001b[39m, \u001b[38;5;241m0\u001b[39m], dtype\u001b[38;5;241m=\u001b[39m\u001b[38;5;28mint\u001b[39m)\n\u001b[0;32m     16\u001b[0m \u001b[38;5;28;01mfor\u001b[39;00m _ \u001b[38;5;129;01min\u001b[39;00m \u001b[38;5;28mrange\u001b[39m(\u001b[38;5;241m10000\u001b[39m):\n\u001b[1;32m---> 17\u001b[0m     activated_output \u001b[38;5;241m=\u001b[39m np\u001b[38;5;241m.\u001b[39mrandom\u001b[38;5;241m.\u001b[39mchoice(a\u001b[38;5;241m=\u001b[39m[\u001b[38;5;241m0\u001b[39m, \u001b[38;5;241m1\u001b[39m, \u001b[38;5;241m2\u001b[39m, \u001b[38;5;241m3\u001b[39m], p\u001b[38;5;241m=\u001b[39m\u001b[43moutcome_probabilities\u001b[49m\u001b[43m(\u001b[49m\u001b[43mt1\u001b[49m\u001b[43m,\u001b[49m\u001b[43m \u001b[49m\u001b[43mt2\u001b[49m\u001b[43m)\u001b[49m[:,\u001b[38;5;241m0\u001b[39m])\n\u001b[0;32m     18\u001b[0m     N[activated_output] \u001b[38;5;241m+\u001b[39m\u001b[38;5;241m=\u001b[39m \u001b[38;5;241m1\u001b[39m\n\u001b[0;32m     20\u001b[0m Corrs[i, j] \u001b[38;5;241m=\u001b[39m (N[\u001b[38;5;241m0\u001b[39m] \u001b[38;5;241m-\u001b[39m N[\u001b[38;5;241m1\u001b[39m] \u001b[38;5;241m-\u001b[39m N[\u001b[38;5;241m2\u001b[39m] \u001b[38;5;241m+\u001b[39m N[\u001b[38;5;241m3\u001b[39m]) \u001b[38;5;241m/\u001b[39m N\u001b[38;5;241m.\u001b[39msum()\n",
      "File \u001b[1;32m<lambdifygenerated-90>:2\u001b[0m, in \u001b[0;36m_lambdifygenerated\u001b[1;34m(theta_1, theta_2)\u001b[0m\n\u001b[0;32m      1\u001b[0m \u001b[38;5;28;01mdef\u001b[39;00m \u001b[38;5;21m_lambdifygenerated\u001b[39m(theta_1, theta_2):\n\u001b[1;32m----> 2\u001b[0m     \u001b[38;5;28;01mreturn\u001b[39;00m array([[(\u001b[38;5;241m1\u001b[39m\u001b[38;5;241m/\u001b[39m\u001b[38;5;241m16\u001b[39m)\u001b[38;5;241m*\u001b[39m(exp(\u001b[38;5;241m2\u001b[39m\u001b[38;5;241m*\u001b[39m\u001b[38;5;241m1\u001b[39mj\u001b[38;5;241m*\u001b[39m\u001b[43mlambda_\u001b[49m)\u001b[38;5;241m*\u001b[39mcos(\u001b[38;5;241m4\u001b[39m\u001b[38;5;241m*\u001b[39mtheta_1 \u001b[38;5;241m-\u001b[39m \u001b[38;5;241m4\u001b[39m\u001b[38;5;241m*\u001b[39mtheta_2) \u001b[38;5;241m-\u001b[39m exp(\u001b[38;5;241m2\u001b[39m\u001b[38;5;241m*\u001b[39m\u001b[38;5;241m1\u001b[39mj\u001b[38;5;241m*\u001b[39mlambda_)\u001b[38;5;241m*\u001b[39mcos(\u001b[38;5;241m4\u001b[39m\u001b[38;5;241m*\u001b[39mtheta_1 \u001b[38;5;241m+\u001b[39m \u001b[38;5;241m4\u001b[39m\u001b[38;5;241m*\u001b[39mtheta_2) \u001b[38;5;241m+\u001b[39m \u001b[38;5;241m2\u001b[39m\u001b[38;5;241m*\u001b[39mexp(\u001b[38;5;241m1\u001b[39mj\u001b[38;5;241m*\u001b[39mlambda_)\u001b[38;5;241m*\u001b[39mcos(\u001b[38;5;241m4\u001b[39m\u001b[38;5;241m*\u001b[39mtheta_1 \u001b[38;5;241m-\u001b[39m \u001b[38;5;241m4\u001b[39m\u001b[38;5;241m*\u001b[39mtheta_2) \u001b[38;5;241m+\u001b[39m \u001b[38;5;241m2\u001b[39m\u001b[38;5;241m*\u001b[39mexp(\u001b[38;5;241m1\u001b[39mj\u001b[38;5;241m*\u001b[39mlambda_)\u001b[38;5;241m*\u001b[39mcos(\u001b[38;5;241m4\u001b[39m\u001b[38;5;241m*\u001b[39mtheta_1 \u001b[38;5;241m+\u001b[39m \u001b[38;5;241m4\u001b[39m\u001b[38;5;241m*\u001b[39mtheta_2) \u001b[38;5;241m+\u001b[39m \u001b[38;5;241m4\u001b[39m\u001b[38;5;241m*\u001b[39mexp(\u001b[38;5;241m1\u001b[39mj\u001b[38;5;241m*\u001b[39mlambda_) \u001b[38;5;241m+\u001b[39m cos(\u001b[38;5;241m4\u001b[39m\u001b[38;5;241m*\u001b[39mtheta_1 \u001b[38;5;241m-\u001b[39m \u001b[38;5;241m4\u001b[39m\u001b[38;5;241m*\u001b[39mtheta_2) \u001b[38;5;241m-\u001b[39m cos(\u001b[38;5;241m4\u001b[39m\u001b[38;5;241m*\u001b[39mtheta_1 \u001b[38;5;241m+\u001b[39m \u001b[38;5;241m4\u001b[39m\u001b[38;5;241m*\u001b[39mtheta_2))\u001b[38;5;241m*\u001b[39mexp(\u001b[38;5;241m-\u001b[39m\u001b[38;5;241m1\u001b[39mj\u001b[38;5;241m*\u001b[39mlambda_)], [(\u001b[38;5;241m1\u001b[39m\u001b[38;5;241m/\u001b[39m\u001b[38;5;241m16\u001b[39m)\u001b[38;5;241m*\u001b[39m(\u001b[38;5;241m-\u001b[39mexp(\u001b[38;5;241m2\u001b[39m\u001b[38;5;241m*\u001b[39m\u001b[38;5;241m1\u001b[39mj\u001b[38;5;241m*\u001b[39mlambda_)\u001b[38;5;241m*\u001b[39mcos(\u001b[38;5;241m4\u001b[39m\u001b[38;5;241m*\u001b[39mtheta_1 \u001b[38;5;241m-\u001b[39m \u001b[38;5;241m4\u001b[39m\u001b[38;5;241m*\u001b[39mtheta_2) \u001b[38;5;241m+\u001b[39m exp(\u001b[38;5;241m2\u001b[39m\u001b[38;5;241m*\u001b[39m\u001b[38;5;241m1\u001b[39mj\u001b[38;5;241m*\u001b[39mlambda_)\u001b[38;5;241m*\u001b[39mcos(\u001b[38;5;241m4\u001b[39m\u001b[38;5;241m*\u001b[39mtheta_1 \u001b[38;5;241m+\u001b[39m \u001b[38;5;241m4\u001b[39m\u001b[38;5;241m*\u001b[39mtheta_2) \u001b[38;5;241m-\u001b[39m \u001b[38;5;241m2\u001b[39m\u001b[38;5;241m*\u001b[39mexp(\u001b[38;5;241m1\u001b[39mj\u001b[38;5;241m*\u001b[39mlambda_)\u001b[38;5;241m*\u001b[39mcos(\u001b[38;5;241m4\u001b[39m\u001b[38;5;241m*\u001b[39mtheta_1 \u001b[38;5;241m-\u001b[39m \u001b[38;5;241m4\u001b[39m\u001b[38;5;241m*\u001b[39mtheta_2) \u001b[38;5;241m-\u001b[39m \u001b[38;5;241m2\u001b[39m\u001b[38;5;241m*\u001b[39mexp(\u001b[38;5;241m1\u001b[39mj\u001b[38;5;241m*\u001b[39mlambda_)\u001b[38;5;241m*\u001b[39mcos(\u001b[38;5;241m4\u001b[39m\u001b[38;5;241m*\u001b[39mtheta_1 \u001b[38;5;241m+\u001b[39m \u001b[38;5;241m4\u001b[39m\u001b[38;5;241m*\u001b[39mtheta_2) \u001b[38;5;241m+\u001b[39m \u001b[38;5;241m4\u001b[39m\u001b[38;5;241m*\u001b[39mexp(\u001b[38;5;241m1\u001b[39mj\u001b[38;5;241m*\u001b[39mlambda_) \u001b[38;5;241m-\u001b[39m cos(\u001b[38;5;241m4\u001b[39m\u001b[38;5;241m*\u001b[39mtheta_1 \u001b[38;5;241m-\u001b[39m \u001b[38;5;241m4\u001b[39m\u001b[38;5;241m*\u001b[39mtheta_2) \u001b[38;5;241m+\u001b[39m cos(\u001b[38;5;241m4\u001b[39m\u001b[38;5;241m*\u001b[39mtheta_1 \u001b[38;5;241m+\u001b[39m \u001b[38;5;241m4\u001b[39m\u001b[38;5;241m*\u001b[39mtheta_2))\u001b[38;5;241m*\u001b[39mexp(\u001b[38;5;241m-\u001b[39m\u001b[38;5;241m1\u001b[39mj\u001b[38;5;241m*\u001b[39mlambda_)], [(\u001b[38;5;241m1\u001b[39m\u001b[38;5;241m/\u001b[39m\u001b[38;5;241m16\u001b[39m)\u001b[38;5;241m*\u001b[39m(\u001b[38;5;241m-\u001b[39mexp(\u001b[38;5;241m2\u001b[39m\u001b[38;5;241m*\u001b[39m\u001b[38;5;241m1\u001b[39mj\u001b[38;5;241m*\u001b[39mlambda_)\u001b[38;5;241m*\u001b[39mcos(\u001b[38;5;241m4\u001b[39m\u001b[38;5;241m*\u001b[39mtheta_1 \u001b[38;5;241m-\u001b[39m \u001b[38;5;241m4\u001b[39m\u001b[38;5;241m*\u001b[39mtheta_2) \u001b[38;5;241m+\u001b[39m exp(\u001b[38;5;241m2\u001b[39m\u001b[38;5;241m*\u001b[39m\u001b[38;5;241m1\u001b[39mj\u001b[38;5;241m*\u001b[39mlambda_)\u001b[38;5;241m*\u001b[39mcos(\u001b[38;5;241m4\u001b[39m\u001b[38;5;241m*\u001b[39mtheta_1 \u001b[38;5;241m+\u001b[39m \u001b[38;5;241m4\u001b[39m\u001b[38;5;241m*\u001b[39mtheta_2) \u001b[38;5;241m-\u001b[39m \u001b[38;5;241m2\u001b[39m\u001b[38;5;241m*\u001b[39mexp(\u001b[38;5;241m1\u001b[39mj\u001b[38;5;241m*\u001b[39mlambda_)\u001b[38;5;241m*\u001b[39mcos(\u001b[38;5;241m4\u001b[39m\u001b[38;5;241m*\u001b[39mtheta_1 \u001b[38;5;241m-\u001b[39m \u001b[38;5;241m4\u001b[39m\u001b[38;5;241m*\u001b[39mtheta_2) \u001b[38;5;241m-\u001b[39m \u001b[38;5;241m2\u001b[39m\u001b[38;5;241m*\u001b[39mexp(\u001b[38;5;241m1\u001b[39mj\u001b[38;5;241m*\u001b[39mlambda_)\u001b[38;5;241m*\u001b[39mcos(\u001b[38;5;241m4\u001b[39m\u001b[38;5;241m*\u001b[39mtheta_1 \u001b[38;5;241m+\u001b[39m \u001b[38;5;241m4\u001b[39m\u001b[38;5;241m*\u001b[39mtheta_2) \u001b[38;5;241m+\u001b[39m \u001b[38;5;241m4\u001b[39m\u001b[38;5;241m*\u001b[39mexp(\u001b[38;5;241m1\u001b[39mj\u001b[38;5;241m*\u001b[39mlambda_) \u001b[38;5;241m-\u001b[39m cos(\u001b[38;5;241m4\u001b[39m\u001b[38;5;241m*\u001b[39mtheta_1 \u001b[38;5;241m-\u001b[39m \u001b[38;5;241m4\u001b[39m\u001b[38;5;241m*\u001b[39mtheta_2) \u001b[38;5;241m+\u001b[39m cos(\u001b[38;5;241m4\u001b[39m\u001b[38;5;241m*\u001b[39mtheta_1 \u001b[38;5;241m+\u001b[39m \u001b[38;5;241m4\u001b[39m\u001b[38;5;241m*\u001b[39mtheta_2))\u001b[38;5;241m*\u001b[39mexp(\u001b[38;5;241m-\u001b[39m\u001b[38;5;241m1\u001b[39mj\u001b[38;5;241m*\u001b[39mlambda_)], [(\u001b[38;5;241m1\u001b[39m\u001b[38;5;241m/\u001b[39m\u001b[38;5;241m16\u001b[39m)\u001b[38;5;241m*\u001b[39m(exp(\u001b[38;5;241m2\u001b[39m\u001b[38;5;241m*\u001b[39m\u001b[38;5;241m1\u001b[39mj\u001b[38;5;241m*\u001b[39mlambda_)\u001b[38;5;241m*\u001b[39mcos(\u001b[38;5;241m4\u001b[39m\u001b[38;5;241m*\u001b[39mtheta_1 \u001b[38;5;241m-\u001b[39m \u001b[38;5;241m4\u001b[39m\u001b[38;5;241m*\u001b[39mtheta_2) \u001b[38;5;241m-\u001b[39m exp(\u001b[38;5;241m2\u001b[39m\u001b[38;5;241m*\u001b[39m\u001b[38;5;241m1\u001b[39mj\u001b[38;5;241m*\u001b[39mlambda_)\u001b[38;5;241m*\u001b[39mcos(\u001b[38;5;241m4\u001b[39m\u001b[38;5;241m*\u001b[39mtheta_1 \u001b[38;5;241m+\u001b[39m \u001b[38;5;241m4\u001b[39m\u001b[38;5;241m*\u001b[39mtheta_2) \u001b[38;5;241m+\u001b[39m \u001b[38;5;241m2\u001b[39m\u001b[38;5;241m*\u001b[39mexp(\u001b[38;5;241m1\u001b[39mj\u001b[38;5;241m*\u001b[39mlambda_)\u001b[38;5;241m*\u001b[39mcos(\u001b[38;5;241m4\u001b[39m\u001b[38;5;241m*\u001b[39mtheta_1 \u001b[38;5;241m-\u001b[39m \u001b[38;5;241m4\u001b[39m\u001b[38;5;241m*\u001b[39mtheta_2) \u001b[38;5;241m+\u001b[39m \u001b[38;5;241m2\u001b[39m\u001b[38;5;241m*\u001b[39mexp(\u001b[38;5;241m1\u001b[39mj\u001b[38;5;241m*\u001b[39mlambda_)\u001b[38;5;241m*\u001b[39mcos(\u001b[38;5;241m4\u001b[39m\u001b[38;5;241m*\u001b[39mtheta_1 \u001b[38;5;241m+\u001b[39m \u001b[38;5;241m4\u001b[39m\u001b[38;5;241m*\u001b[39mtheta_2) \u001b[38;5;241m+\u001b[39m \u001b[38;5;241m4\u001b[39m\u001b[38;5;241m*\u001b[39mexp(\u001b[38;5;241m1\u001b[39mj\u001b[38;5;241m*\u001b[39mlambda_) \u001b[38;5;241m+\u001b[39m cos(\u001b[38;5;241m4\u001b[39m\u001b[38;5;241m*\u001b[39mtheta_1 \u001b[38;5;241m-\u001b[39m \u001b[38;5;241m4\u001b[39m\u001b[38;5;241m*\u001b[39mtheta_2) \u001b[38;5;241m-\u001b[39m cos(\u001b[38;5;241m4\u001b[39m\u001b[38;5;241m*\u001b[39mtheta_1 \u001b[38;5;241m+\u001b[39m \u001b[38;5;241m4\u001b[39m\u001b[38;5;241m*\u001b[39mtheta_2))\u001b[38;5;241m*\u001b[39mexp(\u001b[38;5;241m-\u001b[39m\u001b[38;5;241m1\u001b[39mj\u001b[38;5;241m*\u001b[39mlambda_)]])\n",
      "\u001b[1;31mNameError\u001b[0m: name 'lambda_' is not defined"
     ]
    }
   ],
   "source": [
    "# lambdify for fast eval\n",
    "outcome_probabilities = sp.lambdify([theta_1, theta_2],\n",
    "        sp.Matrix([\n",
    "            Tr(rho_after_HWP * HH_operator),\n",
    "            Tr(rho_after_HWP * HV_operator),\n",
    "            Tr(rho_after_HWP * VH_operator),\n",
    "            Tr(rho_after_HWP * VV_operator)\n",
    "]))\n",
    "\n",
    "Corrs = np.zeros((2,2))\n",
    "for i, t1 in enumerate([np.pi/8, 0]):\n",
    "    for j, t2 in enumerate([3*np.pi/16, np.pi/16]):\n",
    "\n",
    "        # N11, N10, N01, N00 \n",
    "        N = np.array([0, 0, 0, 0], dtype=int)\n",
    "        for _ in range(10000):\n",
    "            activated_output = np.random.choice(a=[0, 1, 2, 3], p=outcome_probabilities(t1, t2)[:,0])\n",
    "            N[activated_output] += 1\n",
    "\n",
    "        Corrs[i, j] = (N[0] - N[1] - N[2] + N[3]) / N.sum()\n",
    "\n",
    "S = np.abs(Corrs[0,0] + Corrs[0,1] - Corrs[1,0] + Corrs[1,1])\n",
    "S"
   ]
  },
  {
   "cell_type": "code",
   "execution_count": null,
   "metadata": {},
   "outputs": [],
   "source": []
  },
  {
   "cell_type": "code",
   "execution_count": 560,
   "metadata": {},
   "outputs": [
    {
     "data": {
      "text/plain": [
       "0.7050200000000001"
      ]
     },
     "execution_count": 560,
     "metadata": {},
     "output_type": "execute_result"
    }
   ],
   "source": [
    "np.abs(1.414 - 0.70574 -0.7068 -0.70648)"
   ]
  },
  {
   "cell_type": "code",
   "execution_count": 561,
   "metadata": {},
   "outputs": [
    {
     "data": {
      "text/latex": [
       "$\\displaystyle \\left[\\begin{matrix}0.25\\\\0.25\\\\0.25\\\\0.25\\end{matrix}\\right]$"
      ],
      "text/plain": [
       "Matrix([\n",
       "[0.25],\n",
       "[0.25],\n",
       "[0.25],\n",
       "[0.25]])"
      ]
     },
     "execution_count": 561,
     "metadata": {},
     "output_type": "execute_result"
    }
   ],
   "source": [
    "sp.Matrix([\n",
    "            Tr(rho_after_HWP * HH_operator),\n",
    "            Tr(rho_after_HWP * HV_operator),\n",
    "            Tr(rho_after_HWP * VH_operator),\n",
    "            Tr(rho_after_HWP * VV_operator)\n",
    "]).subs({theta_1:0, theta_2:np.pi/8})"
   ]
  },
  {
   "cell_type": "markdown",
   "metadata": {},
   "source": [
    "Attemp to calculate S"
   ]
  },
  {
   "cell_type": "code",
   "execution_count": 562,
   "metadata": {},
   "outputs": [
    {
     "data": {
      "text/latex": [
       "$\\displaystyle \\frac{1}{2}$"
      ],
      "text/plain": [
       "1/2"
      ]
     },
     "execution_count": 562,
     "metadata": {},
     "output_type": "execute_result"
    }
   ],
   "source": [
    "Tr(rho_after_HWP * TensorProduct(P_V, P_V)).subs({theta_1:0, theta_2:0})"
   ]
  },
  {
   "cell_type": "code",
   "execution_count": 567,
   "metadata": {},
   "outputs": [
    {
     "data": {
      "text/latex": [
       "$\\displaystyle \\cos{\\left(4 \\theta_{1} - 4 \\theta_{2} \\right)}$"
      ],
      "text/plain": [
       "cos(4*theta_1 - 4*theta_2)"
      ]
     },
     "execution_count": 567,
     "metadata": {},
     "output_type": "execute_result"
    }
   ],
   "source": [
    "C = Tr(rho_after_HWP * HH_operator) - Tr(rho_after_HWP * HV_operator)- Tr(rho_after_HWP * VH_operator) + Tr(rho_after_HWP * VV_operator)\n",
    "C = C.simplify().subs({Lambda:0*sp.pi/2})\n",
    "C.simplify()\n"
   ]
  },
  {
   "cell_type": "code",
   "execution_count": 568,
   "metadata": {},
   "outputs": [
    {
     "data": {
      "text/latex": [
       "$\\displaystyle 2 \\sqrt{2}$"
      ],
      "text/plain": [
       "2*sqrt(2)"
      ]
     },
     "execution_count": 568,
     "metadata": {},
     "output_type": "execute_result"
    }
   ],
   "source": [
    "t11, t22 = sp.symbols(\"theta_11 theta_22\", real=True)\n",
    "\n",
    "S = C + C.subs({theta_2:t22}) + C.subs({theta_1:t11}) - C.subs({theta_1:t11, theta_2:t22})\n",
    "S.subs({theta_1:0, theta_2:-sp.pi/16, t11:-sp.pi/8, t22:sp.pi/16})\n"
   ]
  },
  {
   "cell_type": "markdown",
   "metadata": {},
   "source": [
    "QUESTIONS:\n",
    "\n",
    "The Correlation function depends on which bell state we are receiving. Thus the ideal choice of angle settings depends on which bell state we have. \n",
    "\n",
    "+ Is the type 1 SPDC state we have form qutools phi+ or phi- and is it constant"
   ]
  },
  {
   "cell_type": "markdown",
   "metadata": {},
   "source": []
  },
  {
   "cell_type": "markdown",
   "metadata": {},
   "source": []
  }
 ],
 "metadata": {
  "kernelspec": {
   "display_name": "Python 3",
   "language": "python",
   "name": "python3"
  },
  "language_info": {
   "codemirror_mode": {
    "name": "ipython",
    "version": 3
   },
   "file_extension": ".py",
   "mimetype": "text/x-python",
   "name": "python",
   "nbconvert_exporter": "python",
   "pygments_lexer": "ipython3",
   "version": "3.10.11"
  }
 },
 "nbformat": 4,
 "nbformat_minor": 2
}
