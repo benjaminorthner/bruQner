{
 "cells": [
  {
   "cell_type": "code",
   "execution_count": 1,
   "metadata": {},
   "outputs": [],
   "source": [
    "import numpy as np\n",
    "import sympy as sp\n",
    "from sympy.physics.quantum import TensorProduct, Dagger\n",
    "from sympy.physics.quantum.trace import Tr\n",
    "from scipy.optimize import minimize\n",
    "from IPython.display import display"
   ]
  },
  {
   "cell_type": "code",
   "execution_count": 2,
   "metadata": {},
   "outputs": [],
   "source": [
    "# Define |H>, |V> in \n",
    "H = sp.Matrix([1, 0])\n",
    "V = sp.Matrix([0, 1])\n",
    "I2 = sp.eye(2)\n",
    "\n",
    "# Define Bell state vectors\n",
    "phi_plus = (TensorProduct(H, H) + TensorProduct(V, V)) / sp.sqrt(2)\n",
    "phi_minus = (TensorProduct(H, H) - TensorProduct(V, V)) / sp.sqrt(2)\n",
    "psi_plus = (TensorProduct(H, V) + TensorProduct(V, H)) / sp.sqrt(2)\n",
    "psi_minus = (TensorProduct(H, V) - TensorProduct(V, H)) / sp.sqrt(2)\n",
    "\n",
    "# returns the density matrix corresponding to a specified state vector def density_operator_from_vector(state_vector): return TensorProduct(state_vector, Dagger(state_vector))\n",
    "def density_operator_from_vector(state_vector):\n",
    "    return TensorProduct(state_vector, Dagger(state_vector))\n",
    "\n",
    "# returns operator for action of HWP 1 particle state in H,V basis\n",
    "# note that the angles here are in terms of the angle of the EM field oscillation orientation, not the filter orientation\n",
    "# the angle for the filter is be half the angle specified here\n",
    "def half_wave_plate_sympy(theta):\n",
    "    c = sp.cos(theta)\n",
    "    s = sp.sin(theta)\n",
    "    return sp.Matrix([[c, s], [s, -c]])\n",
    "\n",
    "\n",
    "def find_correlation_function(initial_state_density, lambdify=False):\n",
    "\n",
    "    # Define sympy variables \n",
    "    theta_a, theta_b = sp.symbols('theta_a, theta_b', real=True)\n",
    "\n",
    "    # Define Operator corresponding to two HWPs\n",
    "    HWP_operator = sp.simplify(TensorProduct(half_wave_plate_sympy(theta_a), half_wave_plate_sympy(theta_b)))\n",
    "\n",
    "    # Define coincidence measurement operators\n",
    "    P_V = V * Dagger(V)  # |V><V| projection operator\n",
    "    P_H = H * Dagger(H)  # |H><H| projection operator\n",
    "    VH_operator = TensorProduct(P_V, P_H)\n",
    "    VV_operator = TensorProduct(P_V, P_V)\n",
    "    HH_operator = TensorProduct(P_H, P_H)\n",
    "    HV_operator = TensorProduct(P_H, P_V)\n",
    "\n",
    "    # Apply HWP operator on initial state density\n",
    "    state_density = sp.simplify(HWP_operator * initial_state_density * Dagger(HWP_operator))\n",
    "\n",
    "    # calculate correlation function\n",
    "\n",
    "    C = Tr(state_density * HH_operator) - Tr(state_density * HV_operator)- Tr(state_density * VH_operator) + Tr(state_density * VV_operator)\n",
    "    C = C.simplify()\n",
    "\n",
    "    if lambdify:\n",
    "        return sp.lambdify([theta_a, theta_b], C)\n",
    "    else:\n",
    "        return C \n",
    "\n",
    "\n",
    "def find_CHSH_angles(initial_state_density):\n",
    "\n",
    "    theta_a_0, theta_a_1, theta_b_0, theta_b_1 = sp.symbols('theta_a_0 theta_a_1 theta_b_0 theta_b_1', real=True)\n",
    "\n",
    "    # get the lambdified correlation function (for faster computation)\n",
    "    C = find_correlation_function(initial_state_density, lambdify=True)\n",
    "\n",
    "    # build S function from correlation functions (make in terms of multiples of pi)\n",
    "    def S(x):\n",
    "        a0 = x[0] * np.pi \n",
    "        a1 = x[1] * np.pi \n",
    "        b0 = x[2] * np.pi \n",
    "        b1 = x[3] * np.pi \n",
    "        return -np.abs(C(a0, b0) + C(a1, b0) + C(a0, b1) - C(a1, b1))\n",
    "\n",
    "    x0 = [0, 1/4, -1/8, 3/8]\n",
    "    bounds = [(-1,1),(-1,1),(-1,1),(-1,1)]\n",
    "    constraint = {'type': 'eq', 'fun': lambda x: x[0]} # force first angle to be 0\n",
    "\n",
    "    result = minimize(fun=S, x0=x0, bounds=bounds, constraints=constraint)\n",
    "    maximum = -result[\"fun\"]\n",
    "    angles = result['x']\n",
    "\n",
    "    return maximum, angles \n",
    "\n",
    "def print_summary(initial_state, initial_state_density, S, CHSH_angles):\n",
    "\n",
    "    if initial_state is not None:\n",
    "        print(\"For the initial state:\")\n",
    "        display(initial_state)\n",
    "\n",
    "    print(\"The correlation function has the form:\")\n",
    "    display(find_correlation_function(initial_state_density))\n",
    "\n",
    "    print(\"We find the following optimal CHSH angles (in multiples of pi):\")\n",
    "    print(f\"a0:\\t{CHSH_angles[0]:.4f}, a1:\\t{CHSH_angles[1]:.4f}\\nb0:\\t{CHSH_angles[2]:.4f}, b1:\\t{CHSH_angles[3]:.4f}\")\n",
    "\n",
    "    print(\"\\nAnd measurements taken at this angle will produce as CHSH value S of\")\n",
    "    print(f\"S = {S}\")\n"
   ]
  },
  {
   "cell_type": "code",
   "execution_count": 3,
   "metadata": {},
   "outputs": [
    {
     "name": "stdout",
     "output_type": "stream",
     "text": [
      "For the initial state:\n"
     ]
    },
    {
     "data": {
      "text/latex": [
       "$\\displaystyle \\left[\\begin{matrix}\\frac{\\sqrt{2}}{2}\\\\0\\\\0\\\\\\frac{\\sqrt{2}}{2}\\end{matrix}\\right]$"
      ],
      "text/plain": [
       "Matrix([\n",
       "[sqrt(2)/2],\n",
       "[        0],\n",
       "[        0],\n",
       "[sqrt(2)/2]])"
      ]
     },
     "metadata": {},
     "output_type": "display_data"
    },
    {
     "name": "stdout",
     "output_type": "stream",
     "text": [
      "The correlation function has the form:\n"
     ]
    },
    {
     "data": {
      "text/latex": [
       "$\\displaystyle \\cos{\\left(2 \\theta_{a} - 2 \\theta_{b} \\right)}$"
      ],
      "text/plain": [
       "cos(2*theta_a - 2*theta_b)"
      ]
     },
     "metadata": {},
     "output_type": "display_data"
    },
    {
     "name": "stdout",
     "output_type": "stream",
     "text": [
      "We find the following optimal CHSH angles (in multiples of pi):\n",
      "a0:\t0.0000, a1:\t0.2500\n",
      "b0:\t-0.3750, b1:\t0.3750\n",
      "\n",
      "And measurements taken at this angle will produce as CHSH value S of\n",
      "S = 2.8284271142376207\n"
     ]
    }
   ],
   "source": [
    "initial_state = phi_plus\n",
    "initial_state_density = density_operator_from_vector(initial_state)\n",
    "S, CHSH_angles = find_CHSH_angles(initial_state_density)\n",
    "print_summary(phi_plus, initial_state_density, S,CHSH_angles)\n"
   ]
  },
  {
   "cell_type": "code",
   "execution_count": 4,
   "metadata": {},
   "outputs": [
    {
     "name": "stdout",
     "output_type": "stream",
     "text": [
      "The correlation function has the form:\n"
     ]
    },
    {
     "data": {
      "text/latex": [
       "$\\displaystyle 0.5 \\cos{\\left(2 \\theta_{a} - 2 \\theta_{b} \\right)} + 0.5 \\cos{\\left(2 \\theta_{a} + 2 \\theta_{b} \\right)}$"
      ],
      "text/plain": [
       "0.5*cos(2*theta_a - 2*theta_b) + 0.5*cos(2*theta_a + 2*theta_b)"
      ]
     },
     "metadata": {},
     "output_type": "display_data"
    },
    {
     "name": "stdout",
     "output_type": "stream",
     "text": [
      "We find the following optimal CHSH angles (in multiples of pi):\n",
      "a0:\t0.0000, a1:\t1.0000\n",
      "b0:\t1.0000, b1:\t1.0000\n",
      "\n",
      "And measurements taken at this angle will produce as CHSH value S of\n",
      "S = 2.0\n"
     ]
    }
   ],
   "source": [
    "mixed_state_50_50 = 0.5*TensorProduct(TensorProduct(H, H), Dagger(TensorProduct(H,H))) + 0.5*TensorProduct(TensorProduct(V, V), Dagger(TensorProduct(V,V)))\n",
    "\n",
    "S, CHSH_angles = find_CHSH_angles(mixed_state_50_50)\n",
    "print_summary(None, mixed_state_50_50, S,CHSH_angles)"
   ]
  }
 ],
 "metadata": {
  "kernelspec": {
   "display_name": "Python 3",
   "language": "python",
   "name": "python3"
  },
  "language_info": {
   "codemirror_mode": {
    "name": "ipython",
    "version": 3
   },
   "file_extension": ".py",
   "mimetype": "text/x-python",
   "name": "python",
   "nbconvert_exporter": "python",
   "pygments_lexer": "ipython3",
   "version": "3.11.9"
  }
 },
 "nbformat": 4,
 "nbformat_minor": 2
}
