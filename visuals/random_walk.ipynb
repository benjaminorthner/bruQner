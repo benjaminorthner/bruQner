{
 "cells": [
  {
   "cell_type": "code",
   "execution_count": 21,
   "metadata": {},
   "outputs": [],
   "source": [
    "import pygame\n",
    "from pygame.locals import *\n",
    "import random\n",
    "import numpy as np\n",
    "from OpenGL.GL import *\n",
    "from OpenGL.GLUT import *\n",
    "from OpenGL.GLU import *\n",
    "\n",
    "import sys\n",
    "sys.path.insert(0, '../')\n",
    "from src.time_tagger import TT_Simulator, two_particle_states"
   ]
  },
  {
   "cell_type": "code",
   "execution_count": 22,
   "metadata": {},
   "outputs": [
    {
     "name": "stdout",
     "output_type": "stream",
     "text": [
      "[0.5 0.  0.  0.5]\n"
     ]
    }
   ],
   "source": [
    "SimulatorPhiPlus = TT_Simulator(two_particle_states['phi_plus'], initial_state_noise=0, debug=False)\n",
    "CHSH_angles = SimulatorPhiPlus.CHSH_angles_for_filters\n",
    "\n",
    "theta_a = np.random.choice(CHSH_angles[0:2])\n",
    "theta_b = np.random.choice(CHSH_angles[2:4])\n",
    "\n",
    "theta_a = 0\n",
    "theta_b = 0\n",
    "\n",
    "outcomeProbabilities = SimulatorPhiPlus.outcome_probabilities(theta_a, theta_b)[:,0]\n",
    "print(outcomeProbabilities)"
   ]
  },
  {
   "cell_type": "code",
   "execution_count": 24,
   "metadata": {},
   "outputs": [],
   "source": [
    "# Initialize Pygame\n",
    "pygame.init()\n",
    "\n",
    "# Set up display for 1080p windowed mode\n",
    "display = (500, 400)\n",
    "pygame.display.set_mode(display, DOUBLEBUF | OPENGL)\n",
    "\n",
    "# Adjust the orthographic projection to account for display size\n",
    "gluOrtho2D(0, display[0], 0, display[1])\n",
    "\n",
    "# Initial positions for the random walks\n",
    "walks = [\n",
    "    {\n",
    "        \"x\": display[0] // 4,\n",
    "        \"y\": display[1] // 2,\n",
    "        \"path\": [(display[0] // 4, display[1] // 2)],\n",
    "        \"color\": (1.0, 0.0, 0.0),  # Red\n",
    "        \"path_color\": (1.0, 0.5, 0.5)  # Light Red\n",
    "    },\n",
    "    {\n",
    "        \"x\": 3 * display[0] // 4,\n",
    "        \"y\": display[1] // 2,\n",
    "        \"path\": [(3 * display[0] // 4, display[1] // 2)],\n",
    "        \"color\": (0.0, 1.0, 0.0),  # Green\n",
    "        \"path_color\": (0.5, 1.0, 0.5)  # Light Green\n",
    "    }\n",
    "]\n",
    "\n",
    "# Initialize the third point\n",
    "midpoint = {\n",
    "    \"x\": (walks[0][\"x\"] + walks[1][\"x\"]) // 2,\n",
    "    \"y\": (walks[0][\"y\"] + walks[1][\"y\"]) // 2,\n",
    "    \"path\": [((walks[0][\"x\"] + walks[1][\"x\"]) // 2, (walks[0][\"y\"] + walks[1][\"y\"]) // 2)],\n",
    "    \"color\": (0.0, 0.0, 1.0),  # Blue\n",
    "    \"path_color\": (0.5, 0.5, 1.0)  # Light Blue\n",
    "}\n",
    "\n",
    "# Function to perform a random walk step\n",
    "def random_walk_step(walker, walk):\n",
    "    direction = np.random.choice(a=['HH', 'HV', 'VH', 'VV'], p=outcomeProbabilities)\n",
    "    if direction[walker] == 'H':\n",
    "        walk['x'] += np.random.choice([1, -1])\n",
    "    elif direction[walker] == 'V':\n",
    "        walk['y'] += np.random.choice([1, -1])\n",
    "\n",
    "    walk['path'].append((walk['x'], walk['y']))\n",
    "\n",
    "# Function to update the midpoint\n",
    "def update_midpoint(midpoint, walk1, walk2):\n",
    "    midpoint[\"x\"] = (walk1[\"x\"] + walk2[\"x\"]) // 2\n",
    "    midpoint[\"y\"] = (walk1[\"y\"] + walk2[\"y\"]) // 2\n",
    "    midpoint[\"path\"].append((midpoint[\"x\"], midpoint[\"y\"]))\n",
    "\n",
    "# Function to draw the walk path\n",
    "def draw_path(walk):\n",
    "    glBegin(GL_LINES)\n",
    "    glColor3f(*walk['path_color'])\n",
    "    for i in range(len(walk['path']) - 1):\n",
    "        glVertex2f(*walk['path'][i])\n",
    "        glVertex2f(*walk['path'][i + 1])\n",
    "    glEnd()\n",
    "\n",
    "# Function to draw the current point\n",
    "def draw_current_point(walk):\n",
    "    glColor3f(*walk['color'])\n",
    "    glPointSize(5.0)  # Point size without scaling\n",
    "    glBegin(GL_POINTS)\n",
    "    glVertex2f(walk['x'], walk['y'])\n",
    "    glEnd()\n",
    "\n",
    "# Main loop\n",
    "running = True\n",
    "while running:\n",
    "    for event in pygame.event.get():\n",
    "        if event.type == pygame.QUIT:\n",
    "            running = False\n",
    "\n",
    "    for walker, walk in enumerate(walks):\n",
    "        random_walk_step(walker, walk)\n",
    "    \n",
    "    # Update the midpoint position\n",
    "    update_midpoint(midpoint, walks[0], walks[1])\n",
    "    \n",
    "    # Clear screen\n",
    "    glClear(GL_COLOR_BUFFER_BIT | GL_DEPTH_BUFFER_BIT)\n",
    "    \n",
    "    # Draw paths and current points for both walks\n",
    "    for walk in walks:\n",
    "        draw_path(walk)\n",
    "        draw_current_point(walk)\n",
    "    \n",
    "    # Draw path and current point for the midpoint\n",
    "    draw_path(midpoint)\n",
    "    draw_current_point(midpoint)\n",
    "    \n",
    "    # Update display\n",
    "    pygame.display.flip()\n",
    "    pygame.time.wait(10)\n",
    "\n",
    "pygame.quit()"
   ]
  },
  {
   "cell_type": "markdown",
   "metadata": {},
   "source": [
    "The above code works (and the basis choice is represented as the random choice between positive and negative movement)\n",
    "The problem is that each successive movement is not related to the previous one thus even though for each individual movement there is a correlation between how A and B moved overall there is no structure in the midpoint dot. We somehow need to make it clear that there is a relationship between A and B\n",
    "\n",
    "Maybe coloring each move based on if the two particles had a correlated behaviour. if both go horizontal its blue, if both go vertical its red. otherwise its white. This doesnt take into account the basis choice though and we dont see correlations if they are HV and VH"
   ]
  },
  {
   "cell_type": "code",
   "execution_count": null,
   "metadata": {},
   "outputs": [],
   "source": []
  },
  {
   "cell_type": "code",
   "execution_count": null,
   "metadata": {},
   "outputs": [],
   "source": []
  },
  {
   "cell_type": "markdown",
   "metadata": {},
   "source": []
  }
 ],
 "metadata": {
  "kernelspec": {
   "display_name": "Python 3",
   "language": "python",
   "name": "python3"
  },
  "language_info": {
   "codemirror_mode": {
    "name": "ipython",
    "version": 3
   },
   "file_extension": ".py",
   "mimetype": "text/x-python",
   "name": "python",
   "nbconvert_exporter": "python",
   "pygments_lexer": "ipython3",
   "version": "3.10.11"
  }
 },
 "nbformat": 4,
 "nbformat_minor": 2
}
